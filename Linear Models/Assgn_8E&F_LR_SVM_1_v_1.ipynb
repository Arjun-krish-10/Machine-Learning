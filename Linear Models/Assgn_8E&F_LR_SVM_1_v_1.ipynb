{
  "nbformat": 4,
  "nbformat_minor": 0,
  "metadata": {
    "kernelspec": {
      "display_name": "Python 3",
      "language": "python",
      "name": "python3"
    },
    "language_info": {
      "codemirror_mode": {
        "name": "ipython",
        "version": 3
      },
      "file_extension": ".py",
      "mimetype": "text/x-python",
      "name": "python",
      "nbconvert_exporter": "python",
      "pygments_lexer": "ipython3",
      "version": "3.6.8"
    },
    "colab": {
      "name": "Assgn -  8E&F_LR_SVM_1.ipynb",
      "provenance": [],
      "collapsed_sections": []
    }
  },
  "cells": [
    {
      "cell_type": "markdown",
      "metadata": {
        "id": "5HExLQrE4ZxR"
      },
      "source": [
        "<h1><font color='blue'> 8E and 8F: Finding the Probability P(Y==1|X)</font></h1>"
      ]
    },
    {
      "cell_type": "markdown",
      "metadata": {
        "id": "4LuKrFzC4ZxV"
      },
      "source": [
        "<h2><font color='Geen'> 8E: Implementing Decision Function of SVM RBF Kernel</font></h2>"
      ]
    },
    {
      "cell_type": "markdown",
      "metadata": {
        "id": "1wES-wWN4ZxX"
      },
      "source": [
        "<font face=' Comic Sans MS' size=3>After we train a kernel SVM model, we will be getting support vectors and their corresponsing coefficients $\\alpha_{i}$\n",
        "\n",
        "Check the documentation for better understanding of these attributes: \n",
        "\n",
        "https://scikit-learn.org/stable/modules/generated/sklearn.svm.SVC.html\n",
        "<img src='https://i.imgur.com/K11msU4.png' width=500>\n",
        "\n",
        "As a part of this assignment you will be implementing the ```decision_function()``` of kernel SVM, here decision_function() means based on the value return by ```decision_function()``` model will classify the data point either as positive or negative\n",
        "\n",
        "Ex 1: In logistic regression After traning the models with the optimal weights $w$ we get, we will find the value $\\frac{1}{1+\\exp(-(wx+b))}$, if this value comes out to be < 0.5 we will mark it as negative class, else its positive class\n",
        "\n",
        "Ex 2: In Linear SVM After traning the models with the optimal weights $w$ we get, we will find the value of $sign(wx+b)$, if this value comes out to be -ve we will mark it as negative class, else its positive class.\n",
        "\n",
        "Similarly in Kernel SVM After traning the models with the coefficients $\\alpha_{i}$ we get, we will find the value of \n",
        "$sign(\\sum_{i=1}^{n}(y_{i}\\alpha_{i}K(x_{i},x_{q})) + intercept)$, here $K(x_{i},x_{q})$ is the RBF kernel. If this value comes out to be -ve we will mark $x_{q}$ as negative class, else its positive class.\n",
        "\n",
        "RBF kernel is defined as: $K(x_{i},x_{q})$ = $exp(-\\gamma ||x_{i} - x_{q}||^2)$\n",
        "\n",
        "For better understanding check this link: https://scikit-learn.org/stable/modules/svm.html#svm-mathematical-formulation\n",
        "</font>"
      ]
    },
    {
      "cell_type": "markdown",
      "metadata": {
        "id": "z830CfMk4Zxa"
      },
      "source": [
        "## Task E"
      ]
    },
    {
      "cell_type": "markdown",
      "metadata": {
        "id": "MuBxHiCQ4Zxc"
      },
      "source": [
        "> 1. Split the data into $X_{train}$(60), $X_{cv}$(20), $X_{test}$(20)\n",
        "\n",
        "> 2. Train $SVC(gamma=0.001, C=100.)$ on the ($X_{train}$, $y_{train}$)\n",
        "\n",
        "> 3. Get the decision boundry values $f_{cv}$ on the $X_{cv}$ data  i.e. ` `$f_{cv}$ ```= decision_function(```$X_{cv}$```)```  <font color='red'>you need to implement this decision_function()</font>"
      ]
    },
    {
      "cell_type": "code",
      "metadata": {
        "id": "fCgMNEvI4Zxf"
      },
      "source": [
        "import numpy as np\n",
        "import pandas as pd\n",
        "from sklearn.datasets import make_classification\n",
        "import numpy as np\n",
        "from sklearn.svm import SVC"
      ],
      "execution_count": 1,
      "outputs": []
    },
    {
      "cell_type": "code",
      "metadata": {
        "id": "ANUNIqCe4Zxn"
      },
      "source": [
        "X, y = make_classification(n_samples=5000, n_features=5, n_redundant=2,\n",
        "                           n_classes=2, weights=[0.7], class_sep=0.7, random_state=15)"
      ],
      "execution_count": 2,
      "outputs": []
    },
    {
      "cell_type": "markdown",
      "metadata": {
        "id": "tHie1zqH4Zxt"
      },
      "source": [
        "### Pseudo code\n",
        "\n",
        "clf = SVC(gamma=0.001, C=100.)<br>\n",
        "clf.fit(Xtrain, ytrain)\n",
        "\n",
        "<font color='green'>def</font> <font color='blue'>decision_function</font>(Xcv, ...): #use appropriate parameters <br>\n",
        "&nbsp;&nbsp;&nbsp;&nbsp;&nbsp;&nbsp;<font color='green'>for</font> a data point $x_q$ <font color='green'>in</font> Xcv: <br>\n",
        "&nbsp;&nbsp;&nbsp;&nbsp;&nbsp;&nbsp;&nbsp;&nbsp;&nbsp;&nbsp;&nbsp;&nbsp;<font color='grey'>#write code to implement $(\\sum_{i=1}^{\\text{all the support vectors}}(y_{i}\\alpha_{i}K(x_{i},x_{q})) + intercept)$, here the values $y_i$, $\\alpha_{i}$, and $intercept$ can be obtained from the trained model</font><br>\n",
        "   <font color='green'>return</font> <font color='grey'><i># the decision_function output for all the data points in the Xcv</i></font>\n",
        "    \n",
        "fcv = decision_function(Xcv, ...)  <i># based on your requirement you can pass any other parameters </i>\n",
        "\n",
        "<b>Note</b>: Make sure the values you get as fcv, should be equal to outputs of clf.decision_function(Xcv)\n"
      ]
    },
    {
      "cell_type": "code",
      "metadata": {
        "id": "h43kDT3M41u5"
      },
      "source": [
        "# you can write your code here\n",
        "\n",
        "#Splitting the data to train, cv, test\n",
        "import warnings \n",
        "\n",
        "warnings.filterwarnings(\"ignore\") \n",
        "\n",
        "from sklearn.model_selection import train_test_split\n",
        "x_tr,x_test,y_tr,y_test = train_test_split(X,y,test_size=0.2,random_state=42)\n",
        "x_train,x_cv,y_train,y_cv = train_test_split(x_tr,y_tr,test_size=0.25,random_state=42)"
      ],
      "execution_count": 20,
      "outputs": []
    },
    {
      "cell_type": "code",
      "metadata": {
        "colab": {
          "base_uri": "https://localhost:8080/"
        },
        "id": "GzVd_RSeuS8x",
        "outputId": "8d63a03a-69da-45de-f034-5a071f149cfc"
      },
      "source": [
        "print(x_train.shape,x_cv.shape,x_test.shape)"
      ],
      "execution_count": 4,
      "outputs": [
        {
          "output_type": "stream",
          "name": "stdout",
          "text": [
            "(3000, 5) (1000, 5) (1000, 5)\n"
          ]
        }
      ]
    },
    {
      "cell_type": "code",
      "metadata": {
        "colab": {
          "base_uri": "https://localhost:8080/"
        },
        "id": "u1EU-sTRusMz",
        "outputId": "e0d7e413-0e84-4384-9013-ab0a74c39dec"
      },
      "source": [
        "#Initializing the model\n",
        "\n",
        "model = SVC(gamma=0.001,C=100,random_state=42)\n",
        "model.fit(x_train,y_train)"
      ],
      "execution_count": 5,
      "outputs": [
        {
          "output_type": "execute_result",
          "data": {
            "text/plain": [
              "SVC(C=100, break_ties=False, cache_size=200, class_weight=None, coef0=0.0,\n",
              "    decision_function_shape='ovr', degree=3, gamma=0.001, kernel='rbf',\n",
              "    max_iter=-1, probability=False, random_state=42, shrinking=True, tol=0.001,\n",
              "    verbose=False)"
            ]
          },
          "metadata": {},
          "execution_count": 5
        }
      ]
    },
    {
      "cell_type": "code",
      "metadata": {
        "colab": {
          "base_uri": "https://localhost:8080/"
        },
        "id": "V67sAYGq4s7C",
        "outputId": "b266ed90-c63e-405b-9282-2ee3c20cc9ed"
      },
      "source": [
        "model.support_vectors_.shape            #each support vector"
      ],
      "execution_count": 6,
      "outputs": [
        {
          "output_type": "execute_result",
          "data": {
            "text/plain": [
              "(568, 5)"
            ]
          },
          "metadata": {},
          "execution_count": 6
        }
      ]
    },
    {
      "cell_type": "code",
      "metadata": {
        "id": "N3iux8uq4xbo"
      },
      "source": [
        "# model.support_"
      ],
      "execution_count": null,
      "outputs": []
    },
    {
      "cell_type": "code",
      "metadata": {
        "colab": {
          "base_uri": "https://localhost:8080/"
        },
        "id": "tINvrbMQ7Qfl",
        "outputId": "ad1a5843-e064-44f2-ffc0-7a70d438bb7c"
      },
      "source": [
        "model.dual_coef_.shape                  #alpha*yi"
      ],
      "execution_count": 7,
      "outputs": [
        {
          "output_type": "execute_result",
          "data": {
            "text/plain": [
              "(1, 568)"
            ]
          },
          "metadata": {},
          "execution_count": 7
        }
      ]
    },
    {
      "cell_type": "code",
      "metadata": {
        "id": "ozUrkf4BuxoC"
      },
      "source": [
        "def decision_function(x_cv,intercept,gamma,coef,sv):\n",
        "  result = []\n",
        "  \n",
        "  for xq in x_cv:\n",
        "    final = 0\n",
        "    for j,s_v in enumerate(sv):                                                 #for every support vector\n",
        "      final += coef[0][j]*np.exp(-gamma * np.linalg.norm(s_v - xq)**2)          # calculating the dual form including the RBF kernel\n",
        "    result.append(final + intercept)                                            # adding the intercept\n",
        "  return np.array(result)"
      ],
      "execution_count": 8,
      "outputs": []
    },
    {
      "cell_type": "code",
      "metadata": {
        "id": "K7tbxYap8NW7"
      },
      "source": [
        "dec_fn = decision_function(x_cv,model.intercept_,model.gamma,model.dual_coef_,model.support_vectors_)"
      ],
      "execution_count": 9,
      "outputs": []
    },
    {
      "cell_type": "code",
      "metadata": {
        "colab": {
          "base_uri": "https://localhost:8080/"
        },
        "id": "5uZdQGrK8pbj",
        "outputId": "c00aab13-5c21-4088-e04f-4767a265ab23"
      },
      "source": [
        "np.array(dec_fn).ravel()[:10]"
      ],
      "execution_count": 10,
      "outputs": [
        {
          "output_type": "execute_result",
          "data": {
            "text/plain": [
              "array([ 0.87725032, -1.11743611, -3.55849268, -0.63350034, -1.18015501,\n",
              "       -1.26230537, -3.31529473, -2.41371053, -2.40420402, -1.40470136])"
            ]
          },
          "metadata": {},
          "execution_count": 10
        }
      ]
    },
    {
      "cell_type": "code",
      "metadata": {
        "colab": {
          "base_uri": "https://localhost:8080/"
        },
        "id": "Lkh_nev583Ci",
        "outputId": "9dee7d3e-19c6-4892-d6ef-dfa4e1d3bf21"
      },
      "source": [
        "model.decision_function(x_cv)[:10]"
      ],
      "execution_count": 11,
      "outputs": [
        {
          "output_type": "execute_result",
          "data": {
            "text/plain": [
              "array([ 0.87725032, -1.11743611, -3.55849268, -0.63350034, -1.18015501,\n",
              "       -1.26230537, -3.31529473, -2.41371053, -2.40420402, -1.40470136])"
            ]
          },
          "metadata": {},
          "execution_count": 11
        }
      ]
    },
    {
      "cell_type": "markdown",
      "metadata": {
        "id": "t2E2-9ON91sY"
      },
      "source": [
        "It can be seen that, the values of the decision function model and that of manual implementation is same."
      ]
    },
    {
      "cell_type": "code",
      "metadata": {
        "id": "8HbyxmR990RD"
      },
      "source": [
        ""
      ],
      "execution_count": null,
      "outputs": []
    },
    {
      "cell_type": "markdown",
      "metadata": {
        "id": "c0bKCboN4Zxu"
      },
      "source": [
        "<h2><font color='Geen'> 8F: Implementing Platt Scaling to find P(Y==1|X)</font></h2>"
      ]
    },
    {
      "cell_type": "markdown",
      "metadata": {
        "id": "nMn7OEN94Zxw"
      },
      "source": [
        "Check this <a href='https://drive.google.com/open?id=133odBinMOIVb_rh_GQxxsyMRyW-Zts7a'>PDF</a>\n",
        "<img src='https://i.imgur.com/CAMnVnh.png'>\n"
      ]
    },
    {
      "cell_type": "markdown",
      "metadata": {
        "id": "e0n5EFkx4Zxz"
      },
      "source": [
        "## TASK F"
      ]
    },
    {
      "cell_type": "markdown",
      "metadata": {
        "id": "t0HOqVJq4Zx1"
      },
      "source": [
        "\n",
        "> 4. Apply SGD algorithm with ($f_{cv}$, $y_{cv}$) and find the weight $W$ intercept $b$ ```Note: here our data is of one dimensional so we will have a one dimensional weight vector i.e W.shape (1,)``` \n",
        "\n",
        "> Note1: Don't forget to change the values of $y_{cv}$ as mentioned in the above image. you will calculate y+, y- based on data points in train data\n",
        "\n",
        "> Note2: the Sklearn's SGD algorithm doesn't support the real valued outputs, you need to use the code that was done in the `'Logistic Regression with SGD and L2'` Assignment after modifying loss function, and use same parameters that used in that assignment.\n",
        "<img src='https://i.imgur.com/zKYE9Oc.png'>\n",
        "if Y[i] is 1, it will be replaced with y+ value else it will replaced with y- value\n",
        "\n",
        "> 5. For a given data point from $X_{test}$, $P(Y=1|X) = \\frac{1}{1+exp(-(W*f_{test}+ b))}$ where ` `$f_{test}$ ```= decision_function(```$X_{test}$```)```, W and b will be learned as metioned in the above step"
      ]
    },
    {
      "cell_type": "code",
      "metadata": {
        "id": "u9LqGuD0jp8I"
      },
      "source": [
        "def initialize_weights(dim):\n",
        "    ''' In this function, we will initialize our weights and bias'''\n",
        "    #initialize the weights to zeros array of (1,dim) dimensions\n",
        "    #you use zeros_like function to initialize zero, check this link https://docs.scipy.org/doc/numpy/reference/generated/numpy.zeros_like.html\n",
        "    #initialize bias to zero\n",
        "    w = np.zeros_like(dim)\n",
        "    b = 0\n",
        "    return w,b\n",
        "\n",
        "def sigmoid(z):\n",
        "    ''' In this function, we will return sigmoid of z'''\n",
        "    # compute sigmoid(z) and return\n",
        "    s = 1/(1+np.exp(z))\n",
        "\n",
        "    return s\n",
        "\n",
        "def logloss(y_true,y_pred):\n",
        "    '''In this function, we will compute log loss '''\n",
        "    temp = 0\n",
        "   \n",
        "    for i in range(y_true.shape[0]):\n",
        "    \n",
        "        temp1 = y_true[i]*np.log10(y_pred[i]) + (1-y_true[i]) * np.log10(1 - y_pred[i] ) \n",
        "        temp +=  temp1\n",
        "    loss = -1 * temp/len(y_true)\n",
        "    return loss\n",
        "\n",
        "def gradient_dw(x,y,w,b,alpha,N):\n",
        "    '''In this function, we will compute the gardient w.r.to w '''\n",
        "    t1 = sigmoid(np.dot(x,w.T) + b)\n",
        "    t2 = y - t1\n",
        "    t3 = x*t2\n",
        "    t4 = (alpha/N) * w\n",
        "    dw = t3 - t4\n",
        "    # dw = (x * ( y - sigmoid(np.dot(x,w.T) + b))) - (alpha/N) * w\n",
        "    return dw\n",
        "\n",
        "def gradient_db(x,y,w,b):\n",
        "     '''In this function, we will compute gradient w.r.to b '''\n",
        "     t1 = sigmoid(np.dot(x,w.T) + b)\n",
        "     db = (y - t1)#*t1*(1-t1)\n",
        "     return db\n",
        "\n"
      ],
      "execution_count": 17,
      "outputs": []
    },
    {
      "cell_type": "markdown",
      "metadata": {
        "id": "vn9wUamxsgQY"
      },
      "source": [
        "##Calculating y+ and y-"
      ]
    },
    {
      "cell_type": "code",
      "metadata": {
        "id": "YrNrXdkjm6sA"
      },
      "source": [
        "#  n_pos = y_cv.sum()\n",
        "#  n_neg = len(y_cv) - n_pos "
      ],
      "execution_count": null,
      "outputs": []
    },
    {
      "cell_type": "code",
      "metadata": {
        "id": "VMKoMqWDrpcS"
      },
      "source": [
        " n_pos = y_train.sum()\n",
        " n_neg = len(y_train) - n_pos "
      ],
      "execution_count": 12,
      "outputs": []
    },
    {
      "cell_type": "code",
      "metadata": {
        "id": "xQ8Q6Od4qdhI"
      },
      "source": [
        "y_pos = (n_pos + 1)/(n_pos + 2)\n",
        "y_neg = 1/(n_neg + 2)"
      ],
      "execution_count": 13,
      "outputs": []
    },
    {
      "cell_type": "code",
      "metadata": {
        "colab": {
          "base_uri": "https://localhost:8080/"
        },
        "id": "NrfM8RaIvcs-",
        "outputId": "56eb1f47-199a-41fc-cd70-cb4f52fbde89"
      },
      "source": [
        "y_pos,y_neg"
      ],
      "execution_count": 33,
      "outputs": [
        {
          "output_type": "execute_result",
          "data": {
            "text/plain": [
              "(0.9989270386266095, 0.00048262548262548264)"
            ]
          },
          "metadata": {},
          "execution_count": 33
        }
      ]
    },
    {
      "cell_type": "code",
      "metadata": {
        "id": "ChcKZDCWq7CT"
      },
      "source": [
        "y_cv_mod = np.where(y_cv == 0,y_neg,y_pos)"
      ],
      "execution_count": 14,
      "outputs": []
    },
    {
      "cell_type": "code",
      "metadata": {
        "colab": {
          "base_uri": "https://localhost:8080/"
        },
        "id": "50em-c6TrR7z",
        "outputId": "9d861d95-08e8-4704-f3b5-9188b0d6f2dc"
      },
      "source": [
        "y_cv_mod.shape"
      ],
      "execution_count": 15,
      "outputs": [
        {
          "output_type": "execute_result",
          "data": {
            "text/plain": [
              "(1000,)"
            ]
          },
          "metadata": {},
          "execution_count": 15
        }
      ]
    },
    {
      "cell_type": "code",
      "metadata": {
        "id": "70kfhnclvlvh"
      },
      "source": [
        ""
      ],
      "execution_count": 35,
      "outputs": []
    },
    {
      "cell_type": "code",
      "metadata": {
        "colab": {
          "base_uri": "https://localhost:8080/"
        },
        "id": "aar4O8HQVjgn",
        "outputId": "cae83b71-4c0d-4399-a94e-794f057f162e"
      },
      "source": [
        "dec_fn.shape"
      ],
      "execution_count": 16,
      "outputs": [
        {
          "output_type": "execute_result",
          "data": {
            "text/plain": [
              "(1000, 1)"
            ]
          },
          "metadata": {},
          "execution_count": 16
        }
      ]
    },
    {
      "cell_type": "code",
      "metadata": {
        "id": "4tYV4BDAjqbu"
      },
      "source": [
        "def train(X_train,y_train,epochs,alpha,eta0):\n",
        "    ''' In this function, we will implement logistic regression'''\n",
        "    #Here eta0 is learning rate\n",
        "    #implement the code as follows\n",
        "    # initalize the weights (call the initialize_weights(X_train[0]) function)\n",
        "\n",
        "    w , b = initialize_weights(X_train[0])\n",
        "\n",
        "    \n",
        "    # global test_loss\n",
        "    global train_loss \n",
        "\n",
        "# for every epoch\n",
        "    for k in range(epochs):\n",
        "        \n",
        "        # for every data point(X_train,y_train)   # considering batch size = 1\n",
        "        for j in range(len(X_train)):\n",
        "\n",
        "            # a = np.random.choice(len(X_train))\n",
        "           #compute gradient w.r.to w (call the gradient_dw() function)\n",
        "            \n",
        "            dw = gradient_dw(X_train[j],y_train[j],w,b,alpha,len(X_train))\n",
        "           #compute gradient w.r.to b (call the gradient_db() function)\n",
        "            db = gradient_db(X_train[j],y_train[j],w,b)\n",
        "           #update w, b\n",
        "            w = w - eta0*dw\n",
        "            b = b - eta0*db  \n",
        "\n",
        "        # predict the output of x_train[for all data points in X_train] using w,b\n",
        "       \n",
        "        y = sigmoid(np.dot(X_train,w) + b) #+ eps\n",
        "        #compute the loss between predicted and actual values (call the loss function)\n",
        "\n",
        "        loss_train = logloss(y_train,y)\n",
        "        # store all the train loss values in a list\n",
        "        train_loss.append(loss_train)\n",
        "\n",
        "        # predict the output of x_test[for all data points in X_test] using w,b\n",
        "        # y_hat_pred = sigmoid(np.dot(X_test,w.T) + b)\n",
        "\n",
        "        # #compute the loss between predicted and actual values (call the loss function)\n",
        "        # loss_test = logloss(y_test,y_hat_pred)\n",
        "\n",
        "        # # store all the test loss values in a list       \n",
        "        # test_loss.append(loss_test)\n",
        "\n",
        "        # you can also compare previous loss and current loss, if loss is not updating then stop the process and return w,b\n",
        " \n",
        "        if k!= 0:\n",
        "          if round(train_loss[k],5) == round(train_loss[k-1],5):\n",
        "            print(k)\n",
        "            print('Minimum reached')\n",
        "            return w,b            \n",
        "               \n",
        "    return w,b"
      ],
      "execution_count": 26,
      "outputs": []
    },
    {
      "cell_type": "code",
      "metadata": {
        "colab": {
          "base_uri": "https://localhost:8080/"
        },
        "id": "M5jNAuhyjqij",
        "outputId": "239157f6-eaef-437e-8c57-756ab218bb15"
      },
      "source": [
        "# test_loss = []\n",
        "train_loss = []\n",
        "alpha=0.0001\n",
        "eta0=0.0001\n",
        "N=len(dec_fn)\n",
        "epochs=50\n",
        "w,b = train(dec_fn,y_cv_mod,epochs,alpha,eta0)                 # passing dec_fn(x_cv), y_cv_mod to SGD\n",
        "print(w,b)"
      ],
      "execution_count": 27,
      "outputs": [
        {
          "output_type": "stream",
          "name": "stdout",
          "text": [
            "[-1.20811411] 0.14703437280888784\n"
          ]
        }
      ]
    },
    {
      "cell_type": "code",
      "metadata": {
        "colab": {
          "base_uri": "https://localhost:8080/"
        },
        "id": "OCorGDZvsgxf",
        "outputId": "8dee5451-81b6-4e41-ca3e-a7e838463c9c"
      },
      "source": [
        "train_loss[:5]"
      ],
      "execution_count": 29,
      "outputs": [
        {
          "output_type": "execute_result",
          "data": {
            "text/plain": [
              "[0.26080631808985716,\n",
              " 0.23078175404393914,\n",
              " 0.2079977730878358,\n",
              " 0.19035277504215403,\n",
              " 0.1764020677516202]"
            ]
          },
          "metadata": {},
          "execution_count": 29
        }
      ]
    },
    {
      "cell_type": "markdown",
      "metadata": {
        "id": "AAeBExvUuua_"
      },
      "source": [
        "#Plot Epoch vs Loss\n"
      ]
    },
    {
      "cell_type": "code",
      "metadata": {
        "colab": {
          "base_uri": "https://localhost:8080/",
          "height": 312
        },
        "id": "75BPC5sRtX7s",
        "outputId": "732aef8c-b2ac-4ddc-a389-d08579c3cc8b"
      },
      "source": [
        "import matplotlib.pyplot as plt\n",
        "\n",
        "plt.plot(range(epochs),train_loss)\n",
        "plt.title('Loss Vs Epoch')\n",
        "plt.xlabel('Epoch')\n",
        "plt.ylabel('Loss')"
      ],
      "execution_count": 32,
      "outputs": [
        {
          "output_type": "execute_result",
          "data": {
            "text/plain": [
              "Text(0, 0.5, 'Loss')"
            ]
          },
          "metadata": {},
          "execution_count": 32
        },
        {
          "output_type": "display_data",
          "data": {
            "image/png": "[encoded data removed]",
            "text/plain": [
              "<Figure size 432x288 with 1 Axes>"
            ]
          },
          "metadata": {
            "needs_background": "light"
          }
        }
      ]
    },
    {
      "cell_type": "markdown",
      "metadata": {
        "id": "jc51JmAOsxN6"
      },
      "source": [
        "##Calculating the probability value"
      ]
    },
    {
      "cell_type": "code",
      "metadata": {
        "id": "fUYdu0KDjqpE"
      },
      "source": [
        "f_test = decision_function(x_test,model.intercept_,model.gamma,model.dual_coef_,model.support_vectors_)"
      ],
      "execution_count": null,
      "outputs": []
    },
    {
      "cell_type": "code",
      "metadata": {
        "colab": {
          "base_uri": "https://localhost:8080/"
        },
        "id": "bV08HSgyb340",
        "outputId": "c776541f-a308-42ec-8f9f-e4a5001c64bc"
      },
      "source": [
        "f_test[:7]"
      ],
      "execution_count": null,
      "outputs": [
        {
          "output_type": "execute_result",
          "data": {
            "text/plain": [
              "array([[-1.39679251],\n",
              "       [-1.30546589],\n",
              "       [-0.64799539],\n",
              "       [-2.51319179],\n",
              "       [-3.58985467],\n",
              "       [ 0.76482695],\n",
              "       [ 1.67435859]])"
            ]
          },
          "metadata": {},
          "execution_count": 22
        }
      ]
    },
    {
      "cell_type": "code",
      "metadata": {
        "id": "nxyTI2sKjqwN"
      },
      "source": [
        "y_prob = []"
      ],
      "execution_count": null,
      "outputs": []
    },
    {
      "cell_type": "code",
      "metadata": {
        "id": "A6AmJzvajq2y"
      },
      "source": [
        "for i in range(len(x_test)):\n",
        "    p = 1/(1 + np.exp(-1*w[0]*f_test[i] + b))\n",
        "    y_prob.append(p)"
      ],
      "execution_count": null,
      "outputs": []
    },
    {
      "cell_type": "code",
      "metadata": {
        "colab": {
          "base_uri": "https://localhost:8080/"
        },
        "id": "WMfoNpQ0jq9f",
        "outputId": "e62156d5-f32d-4ee5-e458-62d52fc2d58e"
      },
      "source": [
        "y_prob[:7]"
      ],
      "execution_count": null,
      "outputs": [
        {
          "output_type": "execute_result",
          "data": {
            "text/plain": [
              "[array([0.00163271]),\n",
              " array([0.00267102]),\n",
              " array([0.0853637]),\n",
              " array([3.93505365e-06]),\n",
              " array([1.17352628e-08]),\n",
              " array([0.99482685]),\n",
              " array([0.99996176])]"
            ]
          },
          "metadata": {},
          "execution_count": 25
        }
      ]
    },
    {
      "cell_type": "markdown",
      "metadata": {
        "id": "oTY7z2bd4Zx2"
      },
      "source": [
        "__Note: in the above algorithm, the steps 2, 4 might need hyper parameter tuning, To reduce the complexity of the assignment we are excluding the hyerparameter tuning part, but intrested students can try that__"
      ]
    },
    {
      "cell_type": "markdown",
      "metadata": {
        "id": "CM3odN1Z4Zx3"
      },
      "source": [
        "\n",
        "If any one wants to try other calibration algorithm istonic regression also please check these tutorials\n",
        "\n",
        "1. http://fa.bianp.net/blog/tag/scikit-learn.html#fn:1\n",
        "\n",
        "2. https://drive.google.com/open?id=1MzmA7QaP58RDzocB0RBmRiWfl7Co_VJ7\n",
        "\n",
        "3. https://drive.google.com/open?id=133odBinMOIVb_rh_GQxxsyMRyW-Zts7a\n",
        "\n",
        "4. https://stat.fandom.com/wiki/Isotonic_regression#Pool_Adjacent_Violators_Algorithm\n"
      ]
    }
  ]
}