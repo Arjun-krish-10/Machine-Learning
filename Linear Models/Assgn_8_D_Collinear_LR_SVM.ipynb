{
  "nbformat": 4,
  "nbformat_minor": 0,
  "metadata": {
    "colab": {
      "name": "Assgn - 8_D_Collinear_LR_SVM.ipynb",
      "provenance": [],
      "collapsed_sections": [],
      "toc_visible": true
    },
    "kernelspec": {
      "name": "python3",
      "display_name": "Python 3"
    }
  },
  "cells": [
    {
      "cell_type": "code",
      "metadata": {
        "colab": {
          "base_uri": "https://localhost:8080/"
        },
        "id": "CWDxeIy-Nt94",
        "outputId": "f8167365-16ef-49dd-d4f6-4552598b8af7"
      },
      "source": [
        "from google.colab import drive\n",
        "\n",
        "drive.mount('/content/gdrive')"
      ],
      "execution_count": 1,
      "outputs": [
        {
          "output_type": "stream",
          "name": "stdout",
          "text": [
            "Mounted at /content/gdrive\n"
          ]
        }
      ]
    },
    {
      "cell_type": "markdown",
      "metadata": {
        "id": "86Tvnj5UblTy"
      },
      "source": [
        "## Task-D: Collinear features and their effect on linear models"
      ]
    },
    {
      "cell_type": "code",
      "metadata": {
        "id": "qn_eOn2EblT3"
      },
      "source": [
        "%matplotlib inline\n",
        "import warnings\n",
        "warnings.filterwarnings(\"ignore\")\n",
        "import pandas as pd\n",
        "import numpy as np\n",
        "from sklearn.datasets import load_iris\n",
        "from sklearn.linear_model import SGDClassifier\n",
        "from sklearn.model_selection import GridSearchCV\n",
        "from sklearn.model_selection import RandomizedSearchCV\n",
        "from sklearn.metrics import accuracy_score\n",
        "import seaborn as sns\n",
        "import matplotlib.pyplot as plt"
      ],
      "execution_count": 2,
      "outputs": []
    },
    {
      "cell_type": "code",
      "metadata": {
        "id": "VMoYWIayblUB"
      },
      "source": [
        "data = pd.read_csv('/content/gdrive/My Drive/Datasets/task_d.csv')"
      ],
      "execution_count": 3,
      "outputs": []
    },
    {
      "cell_type": "code",
      "metadata": {
        "id": "RfStXG4tblUI",
        "colab": {
          "base_uri": "https://localhost:8080/",
          "height": 203
        },
        "outputId": "85f7de63-2bc8-4cb8-adce-500cc884c2be"
      },
      "source": [
        "data.head()"
      ],
      "execution_count": 4,
      "outputs": [
        {
          "output_type": "execute_result",
          "data": {
            "text/html": [
              "<div>\n",
              "<style scoped>\n",
              "    .dataframe tbody tr th:only-of-type {\n",
              "        vertical-align: middle;\n",
              "    }\n",
              "\n",
              "    .dataframe tbody tr th {\n",
              "        vertical-align: top;\n",
              "    }\n",
              "\n",
              "    .dataframe thead th {\n",
              "        text-align: right;\n",
              "    }\n",
              "</style>\n",
              "<table border=\"1\" class=\"dataframe\">\n",
              "  <thead>\n",
              "    <tr style=\"text-align: right;\">\n",
              "      <th></th>\n",
              "      <th>x</th>\n",
              "      <th>y</th>\n",
              "      <th>z</th>\n",
              "      <th>x*x</th>\n",
              "      <th>2*y</th>\n",
              "      <th>2*z+3*x*x</th>\n",
              "      <th>w</th>\n",
              "      <th>target</th>\n",
              "    </tr>\n",
              "  </thead>\n",
              "  <tbody>\n",
              "    <tr>\n",
              "      <th>0</th>\n",
              "      <td>-0.581066</td>\n",
              "      <td>0.841837</td>\n",
              "      <td>-1.012978</td>\n",
              "      <td>-0.604025</td>\n",
              "      <td>0.841837</td>\n",
              "      <td>-0.665927</td>\n",
              "      <td>-0.536277</td>\n",
              "      <td>0</td>\n",
              "    </tr>\n",
              "    <tr>\n",
              "      <th>1</th>\n",
              "      <td>-0.894309</td>\n",
              "      <td>-0.207835</td>\n",
              "      <td>-1.012978</td>\n",
              "      <td>-0.883052</td>\n",
              "      <td>-0.207835</td>\n",
              "      <td>-0.917054</td>\n",
              "      <td>-0.522364</td>\n",
              "      <td>0</td>\n",
              "    </tr>\n",
              "    <tr>\n",
              "      <th>2</th>\n",
              "      <td>-1.207552</td>\n",
              "      <td>0.212034</td>\n",
              "      <td>-1.082312</td>\n",
              "      <td>-1.150918</td>\n",
              "      <td>0.212034</td>\n",
              "      <td>-1.166507</td>\n",
              "      <td>0.205738</td>\n",
              "      <td>0</td>\n",
              "    </tr>\n",
              "    <tr>\n",
              "      <th>3</th>\n",
              "      <td>-1.364174</td>\n",
              "      <td>0.002099</td>\n",
              "      <td>-0.943643</td>\n",
              "      <td>-1.280666</td>\n",
              "      <td>0.002099</td>\n",
              "      <td>-1.266540</td>\n",
              "      <td>-0.665720</td>\n",
              "      <td>0</td>\n",
              "    </tr>\n",
              "    <tr>\n",
              "      <th>4</th>\n",
              "      <td>-0.737687</td>\n",
              "      <td>1.051772</td>\n",
              "      <td>-1.012978</td>\n",
              "      <td>-0.744934</td>\n",
              "      <td>1.051772</td>\n",
              "      <td>-0.792746</td>\n",
              "      <td>-0.735054</td>\n",
              "      <td>0</td>\n",
              "    </tr>\n",
              "  </tbody>\n",
              "</table>\n",
              "</div>"
            ],
            "text/plain": [
              "          x         y         z  ...  2*z+3*x*x         w  target\n",
              "0 -0.581066  0.841837 -1.012978  ...  -0.665927 -0.536277       0\n",
              "1 -0.894309 -0.207835 -1.012978  ...  -0.917054 -0.522364       0\n",
              "2 -1.207552  0.212034 -1.082312  ...  -1.166507  0.205738       0\n",
              "3 -1.364174  0.002099 -0.943643  ...  -1.266540 -0.665720       0\n",
              "4 -0.737687  1.051772 -1.012978  ...  -0.792746 -0.735054       0\n",
              "\n",
              "[5 rows x 8 columns]"
            ]
          },
          "metadata": {},
          "execution_count": 4
        }
      ]
    },
    {
      "cell_type": "code",
      "metadata": {
        "colab": {
          "base_uri": "https://localhost:8080/"
        },
        "id": "-llMldD71uU5",
        "outputId": "93c25243-b8ed-4c3d-fbfe-29476129fd77"
      },
      "source": [
        "data.shape"
      ],
      "execution_count": 5,
      "outputs": [
        {
          "output_type": "execute_result",
          "data": {
            "text/plain": [
              "(100, 8)"
            ]
          },
          "metadata": {},
          "execution_count": 5
        }
      ]
    },
    {
      "cell_type": "code",
      "metadata": {
        "colab": {
          "base_uri": "https://localhost:8080/"
        },
        "id": "wj9-NGNROi66",
        "outputId": "6333d644-a418-4e57-a43e-dcd3003c19a0"
      },
      "source": [
        "data['target'].value_counts()"
      ],
      "execution_count": 6,
      "outputs": [
        {
          "output_type": "execute_result",
          "data": {
            "text/plain": [
              "1    50\n",
              "0    50\n",
              "Name: target, dtype: int64"
            ]
          },
          "metadata": {},
          "execution_count": 6
        }
      ]
    },
    {
      "cell_type": "code",
      "metadata": {
        "id": "JIIuomCkblUP"
      },
      "source": [
        "X = data.drop(['target'], axis=1).values\n",
        "Y = data['target'].values"
      ],
      "execution_count": 7,
      "outputs": []
    },
    {
      "cell_type": "markdown",
      "metadata": {
        "id": "Ydm98u3EblUU"
      },
      "source": [
        "### Doing perturbation test to check the presence of collinearity  \n",
        "\n",
        "#### Task: 1 Logistic Regression\n",
        "<pre>\n",
        "\n",
        "\n",
        "1. <b>Finding the Correlation between the features</b>\n",
        "    a. check the correlation between the features\n",
        "    b. plot heat map of correlation matrix using seaborn heatmap\n",
        "2. <b>Finding the best model for the given data</b>\n",
        "    a. Train Logistic regression on data(X,Y) that we have created in the above cell\n",
        "    b. Find the best hyper prameter alpha with hyper parameter tuning using k-fold cross validation (grid search CV or         \n",
        "    random search CV make sure you choose the alpha in log space)\n",
        "    c. Creat a new Logistic regression with the best alpha\n",
        "    (search for how to get the best hyper parameter value), name the best model as 'best_model'\n",
        "    \n",
        "3. <b>Getting the weights with the original data</b>\n",
        "    a. train the 'best_model' with X, Y\n",
        "    b. Check the accuracy of the model 'best_model_accuracy'\n",
        "    c. Get the weights W using best_model.coef_\n",
        "\n",
        "4. <b>Modifying original data</b>\n",
        "    a. Add a noise(order of 10^-2) to each element of X \n",
        "    and get the new data set X' (X' = X + e)\n",
        "    b. Train the same 'best_model' with data (X', Y)\n",
        "    c. Check the accuracy of the model 'best_model_accuracy_edited'\n",
        "    d. Get the weights W' using best_model.coef_\n",
        "    \n",
        "5. <b> Checking deviations in metric and weights </b>\n",
        "    a. find the difference between 'best_model_accuracy_edited' and 'best_model_accuracy'\n",
        "    b. find the absolute change between each value of W and W' ==> |(W-W')|\n",
        "    c. print the top 4 features which have higher % change in weights \n",
        "    compare to the other feature\n",
        "\n",
        "</pre>\n",
        "\n",
        "#### Task: 2 Linear SVM\n",
        "\n",
        "<pre>\n",
        "1. Do the same steps (2, 3, 4, 5) we have done in the above task 1.\n",
        "</pre>\n",
        "\n",
        "<strong><font color='red'>Do write the observations based on the results you get from the deviations of weights in both Logistic Regression and linear SVM</font></strong>"
      ]
    },
    {
      "cell_type": "markdown",
      "metadata": {
        "id": "MIellAWsO3r5"
      },
      "source": [
        "#Correlation matrix"
      ]
    },
    {
      "cell_type": "code",
      "metadata": {
        "colab": {
          "base_uri": "https://localhost:8080/",
          "height": 463
        },
        "id": "J50jalr9O7TQ",
        "outputId": "01c54b41-a6a7-417b-e07f-6231336118ed"
      },
      "source": [
        "plt.figure(figsize=(10,7))\n",
        "sns.heatmap(data.corr(),annot=True,cmap = 'Greys_r')\n",
        "plt.title('Corrrelation Heatmap',fontsize=15)"
      ],
      "execution_count": 57,
      "outputs": [
        {
          "output_type": "execute_result",
          "data": {
            "text/plain": [
              "Text(0.5, 1.0, 'Corrrelation Heatmap')"
            ]
          },
          "metadata": {},
          "execution_count": 57
        },
        {
          "output_type": "display_data",
          "data": {
            "image/png": "[encoded data removed]",
            "text/plain": [
              "<Figure size 720x504 with 2 Axes>"
            ]
          },
          "metadata": {
            "needs_background": "light"
          }
        }
      ]
    },
    {
      "cell_type": "markdown",
      "metadata": {
        "id": "7bgSCPUMb-Oj"
      },
      "source": [
        "#Logistic Regression"
      ]
    },
    {
      "cell_type": "code",
      "metadata": {
        "id": "uD_jS0NMrXUd"
      },
      "source": [
        "model = SGDClassifier(loss='log',random_state=10,n_jobs=-1)\n",
        "\n"
      ],
      "execution_count": 58,
      "outputs": []
    },
    {
      "cell_type": "code",
      "metadata": {
        "id": "JHsPbhyM61Vs"
      },
      "source": [
        "# model.fit(X[:80],Y[:80])\n",
        "# y_pred = model.predict(X[80:])\n",
        "# print(accuracy_score(Y[80:],y_pred))\n",
        "# print(model.coef_)"
      ],
      "execution_count": 59,
      "outputs": []
    },
    {
      "cell_type": "code",
      "metadata": {
        "colab": {
          "base_uri": "https://localhost:8080/"
        },
        "id": "RgifgDZFdLd5",
        "outputId": "76621d42-e52c-4952-90eb-969791ae75b1"
      },
      "source": [
        "model.fit(X,Y)\n",
        "y_pred = model.predict(X)\n",
        "print(accuracy_score(Y,y_pred))\n",
        "print(model.coef_)"
      ],
      "execution_count": 60,
      "outputs": [
        {
          "output_type": "stream",
          "name": "stdout",
          "text": [
            "1.0\n",
            "[[ 1.97774216 -3.22811392  5.07335395  1.86337879 -3.22811392  2.28957519\n",
            "   0.69634037]]\n"
          ]
        }
      ]
    },
    {
      "cell_type": "code",
      "metadata": {
        "id": "7I079RImQJa_"
      },
      "source": [
        "model = SGDClassifier(loss='log',random_state=10,n_jobs=-1)\n",
        "params = {'alpha' : np.logspace(-3,3,7)}\n",
        "clf = GridSearchCV(model,param_grid=params,cv =5,n_jobs=-1,)"
      ],
      "execution_count": 61,
      "outputs": []
    },
    {
      "cell_type": "code",
      "metadata": {
        "id": "tYBUcGl8VHoK"
      },
      "source": [
        "# clf.fit(X[:80],Y[:80])"
      ],
      "execution_count": 62,
      "outputs": []
    },
    {
      "cell_type": "code",
      "metadata": {
        "colab": {
          "base_uri": "https://localhost:8080/"
        },
        "id": "_br92tTRdeyH",
        "outputId": "d3b9dec0-4294-43b8-aa0b-75f27db4b6f5"
      },
      "source": [
        "clf.fit(X,Y)"
      ],
      "execution_count": 63,
      "outputs": [
        {
          "output_type": "execute_result",
          "data": {
            "text/plain": [
              "GridSearchCV(cv=5, error_score=nan,\n",
              "             estimator=SGDClassifier(alpha=0.0001, average=False,\n",
              "                                     class_weight=None, early_stopping=False,\n",
              "                                     epsilon=0.1, eta0=0.0, fit_intercept=True,\n",
              "                                     l1_ratio=0.15, learning_rate='optimal',\n",
              "                                     loss='log', max_iter=1000,\n",
              "                                     n_iter_no_change=5, n_jobs=-1,\n",
              "                                     penalty='l2', power_t=0.5, random_state=10,\n",
              "                                     shuffle=True, tol=0.001,\n",
              "                                     validation_fraction=0.1, verbose=0,\n",
              "                                     warm_start=False),\n",
              "             iid='deprecated', n_jobs=-1,\n",
              "             param_grid={'alpha': array([1.e-03, 1.e-02, 1.e-01, 1.e+00, 1.e+01, 1.e+02, 1.e+03])},\n",
              "             pre_dispatch='2*n_jobs', refit=True, return_train_score=False,\n",
              "             scoring=None, verbose=0)"
            ]
          },
          "metadata": {},
          "execution_count": 63
        }
      ]
    },
    {
      "cell_type": "code",
      "metadata": {
        "id": "4d3zTMajVf8i"
      },
      "source": [
        "# print(clf.best_params_,clf.best_score_)"
      ],
      "execution_count": 64,
      "outputs": []
    },
    {
      "cell_type": "code",
      "metadata": {
        "colab": {
          "base_uri": "https://localhost:8080/"
        },
        "id": "sWviQu6ldkpH",
        "outputId": "283b5d51-009f-4980-8216-6173edb18d26"
      },
      "source": [
        "print(clf.best_params_,clf.best_score_)"
      ],
      "execution_count": 65,
      "outputs": [
        {
          "output_type": "stream",
          "name": "stdout",
          "text": [
            "{'alpha': 0.001} 1.0\n"
          ]
        }
      ]
    },
    {
      "cell_type": "code",
      "metadata": {
        "id": "YrR8JB1Pw_N5"
      },
      "source": [
        "# best_model = SGDClassifier(loss='log',alpha=clf.best_params_['alpha'],random_state=10)\n",
        "# best_model.fit(X[:80],Y[:80])\n",
        "# y_best_pred = best_model.predict(X[80:])\n",
        "# best_accuracy = (accuracy_score(Y[80:],y_best_pred))\n",
        "# w = best_model.coef_\n",
        "# print(best_accuracy)\n",
        "# print(best_model.coef_)"
      ],
      "execution_count": 66,
      "outputs": []
    },
    {
      "cell_type": "code",
      "metadata": {
        "colab": {
          "base_uri": "https://localhost:8080/"
        },
        "id": "3ZHVDxk4dp5-",
        "outputId": "aa8ecae5-4524-4b88-fcd7-89dd8a643366"
      },
      "source": [
        "best_model = SGDClassifier(loss='log',alpha=clf.best_params_['alpha'],random_state=10)\n",
        "best_model.fit(X,Y)\n",
        "y_best_pred = best_model.predict(X)\n",
        "best_accuracy = (accuracy_score(Y,y_best_pred))\n",
        "w = best_model.coef_\n",
        "print(best_accuracy)\n",
        "print(best_model.coef_)"
      ],
      "execution_count": 67,
      "outputs": [
        {
          "output_type": "stream",
          "name": "stdout",
          "text": [
            "1.0\n",
            "[[ 1.52202228 -1.62738769  3.57438693  1.27365081 -1.62738769  1.57784101\n",
            "   0.52019066]]\n"
          ]
        }
      ]
    },
    {
      "cell_type": "markdown",
      "metadata": {
        "id": "ezQeel-sZgF1"
      },
      "source": [
        "#Pertubation test"
      ]
    },
    {
      "cell_type": "code",
      "metadata": {
        "id": "8aB_ITDL2wGR"
      },
      "source": [
        "X_new = data.drop('target',axis = 1).applymap(lambda x : x + 0.01)\n"
      ],
      "execution_count": 68,
      "outputs": []
    },
    {
      "cell_type": "code",
      "metadata": {
        "colab": {
          "base_uri": "https://localhost:8080/",
          "height": 203
        },
        "id": "7qI2A-m_3A46",
        "outputId": "3037197f-14d2-4b2e-85fd-7781671c7a0c"
      },
      "source": [
        "X_new.head()"
      ],
      "execution_count": 69,
      "outputs": [
        {
          "output_type": "execute_result",
          "data": {
            "text/html": [
              "<div>\n",
              "<style scoped>\n",
              "    .dataframe tbody tr th:only-of-type {\n",
              "        vertical-align: middle;\n",
              "    }\n",
              "\n",
              "    .dataframe tbody tr th {\n",
              "        vertical-align: top;\n",
              "    }\n",
              "\n",
              "    .dataframe thead th {\n",
              "        text-align: right;\n",
              "    }\n",
              "</style>\n",
              "<table border=\"1\" class=\"dataframe\">\n",
              "  <thead>\n",
              "    <tr style=\"text-align: right;\">\n",
              "      <th></th>\n",
              "      <th>x</th>\n",
              "      <th>y</th>\n",
              "      <th>z</th>\n",
              "      <th>x*x</th>\n",
              "      <th>2*y</th>\n",
              "      <th>2*z+3*x*x</th>\n",
              "      <th>w</th>\n",
              "    </tr>\n",
              "  </thead>\n",
              "  <tbody>\n",
              "    <tr>\n",
              "      <th>0</th>\n",
              "      <td>-0.571066</td>\n",
              "      <td>0.851837</td>\n",
              "      <td>-1.002978</td>\n",
              "      <td>-0.594025</td>\n",
              "      <td>0.851837</td>\n",
              "      <td>-0.655927</td>\n",
              "      <td>-0.526277</td>\n",
              "    </tr>\n",
              "    <tr>\n",
              "      <th>1</th>\n",
              "      <td>-0.884309</td>\n",
              "      <td>-0.197835</td>\n",
              "      <td>-1.002978</td>\n",
              "      <td>-0.873052</td>\n",
              "      <td>-0.197835</td>\n",
              "      <td>-0.907054</td>\n",
              "      <td>-0.512364</td>\n",
              "    </tr>\n",
              "    <tr>\n",
              "      <th>2</th>\n",
              "      <td>-1.197552</td>\n",
              "      <td>0.222034</td>\n",
              "      <td>-1.072312</td>\n",
              "      <td>-1.140918</td>\n",
              "      <td>0.222034</td>\n",
              "      <td>-1.156507</td>\n",
              "      <td>0.215738</td>\n",
              "    </tr>\n",
              "    <tr>\n",
              "      <th>3</th>\n",
              "      <td>-1.354174</td>\n",
              "      <td>0.012099</td>\n",
              "      <td>-0.933643</td>\n",
              "      <td>-1.270666</td>\n",
              "      <td>0.012099</td>\n",
              "      <td>-1.256540</td>\n",
              "      <td>-0.655720</td>\n",
              "    </tr>\n",
              "    <tr>\n",
              "      <th>4</th>\n",
              "      <td>-0.727687</td>\n",
              "      <td>1.061772</td>\n",
              "      <td>-1.002978</td>\n",
              "      <td>-0.734934</td>\n",
              "      <td>1.061772</td>\n",
              "      <td>-0.782746</td>\n",
              "      <td>-0.725054</td>\n",
              "    </tr>\n",
              "  </tbody>\n",
              "</table>\n",
              "</div>"
            ],
            "text/plain": [
              "          x         y         z       x*x       2*y  2*z+3*x*x         w\n",
              "0 -0.571066  0.851837 -1.002978 -0.594025  0.851837  -0.655927 -0.526277\n",
              "1 -0.884309 -0.197835 -1.002978 -0.873052 -0.197835  -0.907054 -0.512364\n",
              "2 -1.197552  0.222034 -1.072312 -1.140918  0.222034  -1.156507  0.215738\n",
              "3 -1.354174  0.012099 -0.933643 -1.270666  0.012099  -1.256540 -0.655720\n",
              "4 -0.727687  1.061772 -1.002978 -0.734934  1.061772  -0.782746 -0.725054"
            ]
          },
          "metadata": {},
          "execution_count": 69
        }
      ]
    },
    {
      "cell_type": "code",
      "metadata": {
        "id": "waXhMKzo3auo"
      },
      "source": [
        "# # best_model1 = SGDClassifier(loss='log',alpha=clf.best_params_['alpha'],random_state=10)\n",
        "# best_model.fit(X_new[:80],Y[:80])\n",
        "# y_pred_edited = best_model.predict(X_new[80:])\n",
        "# accuracy_edited = accuracy_score(Y[80:],y_pred_edited)\n",
        "# w1 = best_model.coef_\n",
        "# print(accuracy_edited)\n",
        "# print(best_model.coef_)"
      ],
      "execution_count": 70,
      "outputs": []
    },
    {
      "cell_type": "code",
      "metadata": {
        "colab": {
          "base_uri": "https://localhost:8080/"
        },
        "id": "1XXRC2zUd2m9",
        "outputId": "3768f748-7fc7-477b-e49f-83505ee0e325"
      },
      "source": [
        "# best_model1 = SGDClassifier(loss='log',alpha=clf.best_params_['alpha'],random_state=10)\n",
        "best_model.fit(X_new,Y)\n",
        "y_pred_edited = best_model.predict(X_new)\n",
        "accuracy_edited = accuracy_score(Y,y_pred_edited)\n",
        "w1 = best_model.coef_\n",
        "print(accuracy_edited)\n",
        "print(best_model.coef_)"
      ],
      "execution_count": 71,
      "outputs": [
        {
          "output_type": "stream",
          "name": "stdout",
          "text": [
            "1.0\n",
            "[[ 1.5161968  -1.61449879  3.55859495  1.27018523 -1.61449879  1.57271702\n",
            "   0.51151258]]\n"
          ]
        }
      ]
    },
    {
      "cell_type": "code",
      "metadata": {
        "colab": {
          "base_uri": "https://localhost:8080/"
        },
        "id": "Fzb48WT3k7A6",
        "outputId": "c182032f-cf66-48af-b05a-061be110a763"
      },
      "source": [
        "best_accuracy - accuracy_edited"
      ],
      "execution_count": 72,
      "outputs": [
        {
          "output_type": "execute_result",
          "data": {
            "text/plain": [
              "0.0"
            ]
          },
          "metadata": {},
          "execution_count": 72
        }
      ]
    },
    {
      "cell_type": "code",
      "metadata": {
        "id": "AuWFbwGCl8-s"
      },
      "source": [
        "v1 = (np.absolute(w-w1) / abs(w) ) * 100"
      ],
      "execution_count": 73,
      "outputs": []
    },
    {
      "cell_type": "code",
      "metadata": {
        "colab": {
          "base_uri": "https://localhost:8080/"
        },
        "id": "Bnp1ZX7ZQXIv",
        "outputId": "1b37cb65-2a9b-4f4c-a5d8-c7c11951bedf"
      },
      "source": [
        "print(v1)"
      ],
      "execution_count": 74,
      "outputs": [
        {
          "output_type": "stream",
          "name": "stdout",
          "text": [
            "[[0.38274609 0.79199993 0.44180947 0.27209789 0.79199993 0.32474671\n",
            "  1.66825073]]\n"
          ]
        }
      ]
    },
    {
      "cell_type": "markdown",
      "metadata": {
        "id": "Bx2_kZKN8WVw"
      },
      "source": [
        "##Top 5 columns with most difference in coefficients"
      ]
    },
    {
      "cell_type": "code",
      "metadata": {
        "id": "08-ESNEw8gcl"
      },
      "source": [
        "index = np.argsort(v1[0])[::-1][:5]"
      ],
      "execution_count": 75,
      "outputs": []
    },
    {
      "cell_type": "code",
      "metadata": {
        "colab": {
          "base_uri": "https://localhost:8080/"
        },
        "id": "DDYHhfH_8Lw7",
        "outputId": "1c94a364-6855-47be-9a6f-dde23abe7150"
      },
      "source": [
        "data.columns[index]"
      ],
      "execution_count": 76,
      "outputs": [
        {
          "output_type": "execute_result",
          "data": {
            "text/plain": [
              "Index(['w', '2*y', 'y', 'z', 'x'], dtype='object')"
            ]
          },
          "metadata": {},
          "execution_count": 76
        }
      ]
    },
    {
      "cell_type": "markdown",
      "metadata": {
        "id": "L8N3IGCvycwJ"
      },
      "source": [
        "#SVM"
      ]
    },
    {
      "cell_type": "code",
      "metadata": {
        "id": "MhdCyeV3yeor"
      },
      "source": [
        "# model_svm = SGDClassifier(random_state=10)\n",
        "# model_svm.fit(X[:80],Y[:80])\n",
        "# y_pred_s = model_svm.predict(X[80:])\n",
        "# print(accuracy_score(Y[80:],y_pred_s))\n",
        "# print(model_svm.coef_)"
      ],
      "execution_count": 77,
      "outputs": []
    },
    {
      "cell_type": "code",
      "metadata": {
        "colab": {
          "base_uri": "https://localhost:8080/"
        },
        "id": "UjM_L3gLeyfs",
        "outputId": "b686c07d-283e-4468-eaf3-0768add51a4e"
      },
      "source": [
        "model_svm = SGDClassifier(random_state=10)\n",
        "model_svm.fit(X,Y)\n",
        "y_pred_s = model_svm.predict(X)\n",
        "print(accuracy_score(Y,y_pred_s))\n",
        "print(model_svm.coef_)"
      ],
      "execution_count": 78,
      "outputs": [
        {
          "output_type": "stream",
          "name": "stdout",
          "text": [
            "1.0\n",
            "[[  9.87296448 -14.83998075  14.53209542   8.90087716 -14.83998075\n",
            "    9.76536324   5.95465511]]\n"
          ]
        }
      ]
    },
    {
      "cell_type": "code",
      "metadata": {
        "id": "l0lO0cg1zS3t"
      },
      "source": [
        "params = {'alpha' : np.logspace(-3,3,7)}\n",
        "clf = GridSearchCV(model_svm,param_grid=params,cv =5,n_jobs=-1)"
      ],
      "execution_count": 79,
      "outputs": []
    },
    {
      "cell_type": "code",
      "metadata": {
        "id": "uzigFI-Q0b3D"
      },
      "source": [
        "# clf.fit(X[:80],Y[:80])"
      ],
      "execution_count": 80,
      "outputs": []
    },
    {
      "cell_type": "code",
      "metadata": {
        "colab": {
          "base_uri": "https://localhost:8080/"
        },
        "id": "ixN3DYC-e9nC",
        "outputId": "56f2119d-ac10-42e9-f73a-1ed6b778655f"
      },
      "source": [
        "clf.fit(X,Y)"
      ],
      "execution_count": 81,
      "outputs": [
        {
          "output_type": "execute_result",
          "data": {
            "text/plain": [
              "GridSearchCV(cv=5, error_score=nan,\n",
              "             estimator=SGDClassifier(alpha=0.0001, average=False,\n",
              "                                     class_weight=None, early_stopping=False,\n",
              "                                     epsilon=0.1, eta0=0.0, fit_intercept=True,\n",
              "                                     l1_ratio=0.15, learning_rate='optimal',\n",
              "                                     loss='hinge', max_iter=1000,\n",
              "                                     n_iter_no_change=5, n_jobs=None,\n",
              "                                     penalty='l2', power_t=0.5, random_state=10,\n",
              "                                     shuffle=True, tol=0.001,\n",
              "                                     validation_fraction=0.1, verbose=0,\n",
              "                                     warm_start=False),\n",
              "             iid='deprecated', n_jobs=-1,\n",
              "             param_grid={'alpha': array([1.e-03, 1.e-02, 1.e-01, 1.e+00, 1.e+01, 1.e+02, 1.e+03])},\n",
              "             pre_dispatch='2*n_jobs', refit=True, return_train_score=False,\n",
              "             scoring=None, verbose=0)"
            ]
          },
          "metadata": {},
          "execution_count": 81
        }
      ]
    },
    {
      "cell_type": "code",
      "metadata": {
        "id": "ahDqO-XQ0c30"
      },
      "source": [
        "# print(clf.best_params_,clf.best_score_)"
      ],
      "execution_count": 82,
      "outputs": []
    },
    {
      "cell_type": "code",
      "metadata": {
        "colab": {
          "base_uri": "https://localhost:8080/"
        },
        "id": "YsnadsxyfDEx",
        "outputId": "3aa5c65e-883d-43bc-e98b-aae1b195ce6e"
      },
      "source": [
        "print(clf.best_params_,clf.best_score_)"
      ],
      "execution_count": 83,
      "outputs": [
        {
          "output_type": "stream",
          "name": "stdout",
          "text": [
            "{'alpha': 0.001} 1.0\n"
          ]
        }
      ]
    },
    {
      "cell_type": "code",
      "metadata": {
        "id": "z7AEjRlM0f0K"
      },
      "source": [
        "# best_model_svm = SGDClassifier(alpha=clf.best_params_['alpha'],random_state=10)\n",
        "# best_model_svm.fit(X[:80],Y[:80])\n",
        "# y_best_pred_s = best_model_svm.predict(X[80:])\n",
        "# best_accuracy_s = (accuracy_score(Y[80:],y_best_pred_s))\n",
        "# w = best_model_svm.coef_\n",
        "# print(best_accuracy_s)\n",
        "# print(best_model_svm.coef_)"
      ],
      "execution_count": 84,
      "outputs": []
    },
    {
      "cell_type": "code",
      "metadata": {
        "colab": {
          "base_uri": "https://localhost:8080/"
        },
        "id": "wNsCLbVQfGEu",
        "outputId": "f4c22dc7-b4e7-4de0-dc7d-d7b79c6bd745"
      },
      "source": [
        "best_model_svm = SGDClassifier(alpha=clf.best_params_['alpha'],random_state=10)\n",
        "best_model_svm.fit(X,Y)\n",
        "y_best_pred_s = best_model_svm.predict(X)\n",
        "best_accuracy_s = (accuracy_score(Y,y_best_pred_s))\n",
        "w = best_model_svm.coef_\n",
        "print(best_accuracy_s)\n",
        "print(best_model_svm.coef_)"
      ],
      "execution_count": 85,
      "outputs": [
        {
          "output_type": "stream",
          "name": "stdout",
          "text": [
            "1.0\n",
            "[[ 2.07843954 -1.94761397  4.78980562  1.81001665 -1.94761397  2.20731536\n",
            "   1.13957609]]\n"
          ]
        }
      ]
    },
    {
      "cell_type": "code",
      "metadata": {
        "id": "jirGLVtY0trN"
      },
      "source": [
        "# # best_model_s = SGDClassifier(alpha=clf.best_params_['alpha'],random_state=10)\n",
        "# best_model_svm.fit(X_new[:80],Y[:80])\n",
        "# y_best_pred_s = best_model_svm.predict(X_new[80:])\n",
        "# best_accuracy_s1 = (accuracy_score(Y[80:],y_best_pred_s))\n",
        "# w1 = best_model_svm.coef_\n",
        "# print(best_accuracy_s1)\n",
        "# print(best_model_svm.coef_)"
      ],
      "execution_count": 86,
      "outputs": []
    },
    {
      "cell_type": "markdown",
      "metadata": {
        "id": "t9YLEXCKgiiS"
      },
      "source": [
        "##Fitting on new data"
      ]
    },
    {
      "cell_type": "code",
      "metadata": {
        "colab": {
          "base_uri": "https://localhost:8080/"
        },
        "id": "G1dD2BzjfXLz",
        "outputId": "f1d05510-6335-405e-bf6b-2fc3511fbf5f"
      },
      "source": [
        "best_model_svm.fit(X_new,Y)\n",
        "y_best_pred_s = best_model_svm.predict(X_new)\n",
        "best_accuracy_s1 = (accuracy_score(Y,y_best_pred_s))\n",
        "w1 = best_model_svm.coef_\n",
        "print(best_accuracy_s1)\n",
        "print(best_model_svm.coef_)"
      ],
      "execution_count": 87,
      "outputs": [
        {
          "output_type": "stream",
          "name": "stdout",
          "text": [
            "1.0\n",
            "[[ 2.08772607 -1.93832744  4.79909215  1.81930319 -1.93832744  2.2166019\n",
            "   1.14886262]]\n"
          ]
        }
      ]
    },
    {
      "cell_type": "code",
      "metadata": {
        "colab": {
          "base_uri": "https://localhost:8080/"
        },
        "id": "GdXA_MJI08hH",
        "outputId": "963a6167-b6cc-4146-b742-f0fbc18c0b39"
      },
      "source": [
        "best_accuracy_s - best_accuracy_s1"
      ],
      "execution_count": 88,
      "outputs": [
        {
          "output_type": "execute_result",
          "data": {
            "text/plain": [
              "0.0"
            ]
          },
          "metadata": {},
          "execution_count": 88
        }
      ]
    },
    {
      "cell_type": "code",
      "metadata": {
        "id": "3Ml6Z2Q81Bzf"
      },
      "source": [
        "# np.absolute(w-w1)"
      ],
      "execution_count": 89,
      "outputs": []
    },
    {
      "cell_type": "code",
      "metadata": {
        "id": "a3J9G6erfjvF"
      },
      "source": [
        "v1 = (np.absolute(w-w1) / abs(w) ) * 100"
      ],
      "execution_count": 90,
      "outputs": []
    },
    {
      "cell_type": "markdown",
      "metadata": {
        "id": "rmapSLRE81Ef"
      },
      "source": [
        "###Top 5 columns with most difference in coefficients"
      ]
    },
    {
      "cell_type": "code",
      "metadata": {
        "id": "d0PQuApM2Vfi"
      },
      "source": [
        "index = np.argsort(v1[0])[::-1][:5]"
      ],
      "execution_count": 91,
      "outputs": []
    },
    {
      "cell_type": "code",
      "metadata": {
        "colab": {
          "base_uri": "https://localhost:8080/"
        },
        "id": "6BAxfK_f8tlL",
        "outputId": "e3a8b511-7d15-4a3e-8af9-683ec0a516ee"
      },
      "source": [
        "data.columns[index]"
      ],
      "execution_count": 92,
      "outputs": [
        {
          "output_type": "execute_result",
          "data": {
            "text/plain": [
              "Index(['w', 'x*x', '2*y', 'y', 'x'], dtype='object')"
            ]
          },
          "metadata": {},
          "execution_count": 92
        }
      ]
    },
    {
      "cell_type": "code",
      "metadata": {
        "id": "_UlL74CIfoiY"
      },
      "source": [
        ""
      ],
      "execution_count": 92,
      "outputs": []
    },
    {
      "cell_type": "markdown",
      "metadata": {
        "id": "crLGjK4zi-58"
      },
      "source": [
        "#Observation"
      ]
    },
    {
      "cell_type": "markdown",
      "metadata": {
        "id": "ArHN_G1wjEQA"
      },
      "source": [
        "* We've trained the best model for both LR and SVM on original data and the synthetic data (with noise) and checked the accuracy and the difference in weights.\n",
        "* It can be seen that there is no significant difference in accuracy or the magnitude of the weights.\n",
        "* The top 5 features with the most change in the weights has also been listed in order.\n"
      ]
    },
    {
      "cell_type": "code",
      "metadata": {
        "id": "wgcQc9cgjDiS"
      },
      "source": [
        ""
      ],
      "execution_count": 92,
      "outputs": []
    }
  ]
}