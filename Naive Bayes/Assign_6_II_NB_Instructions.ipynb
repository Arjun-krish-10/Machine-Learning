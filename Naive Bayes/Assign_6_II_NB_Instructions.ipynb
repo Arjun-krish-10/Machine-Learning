{
  "nbformat": 4,
  "nbformat_minor": 0,
  "metadata": {
    "colab": {
      "name": "Assign- 6_II_NB_Instructions.ipynb",
      "provenance": [],
      "collapsed_sections": []
    },
    "language_info": {
      "codemirror_mode": {
        "name": "ipython",
        "version": 3
      },
      "file_extension": ".py",
      "mimetype": "text/x-python",
      "name": "python",
      "nbconvert_exporter": "python",
      "pygments_lexer": "ipython3",
      "version": "3.6.8"
    },
    "kernelspec": {
      "display_name": "Python 3",
      "language": "python",
      "name": "python3"
    }
  },
  "cells": [
    {
      "cell_type": "markdown",
      "metadata": {
        "id": "Dnubs-Nnb3cw"
      },
      "source": [
        "# Assignment 6: Apply NB"
      ]
    },
    {
      "cell_type": "markdown",
      "metadata": {
        "id": "RW0zYHb5m_wI"
      },
      "source": [
        "<ol>\n",
        "    <li>Minimum data points need to be considered for people having 4GB RAM is <strong>50k</strong> and for 8GB RAM is <strong>100k</strong></li>\n",
        "    <li>When you are using ramdomsearchcv or gridsearchcv you need not split the data into X_train,X_cv,X_test. As the above methods use kfold. The model will learn better if train data is more so splitting to X_train,X_test will suffice.</li>\n",
        "    <li>If you are writing for loops to tune your model then you need split the data into X_train,X_cv,X_test.</li>\n",
        "    <li>While splitting the data explore stratify parameter. </li>\n",
        "    <li><strong>Apply Multinomial NB on these feature sets</strong></li>\n",
        "        <ul>\n",
        "            <li>Features that need to be considered</li> \n",
        "                <dl>\n",
        "                  <dt>essay</dt>\n",
        "                    <dd>while encoding essay, try to experiment with the max_features and n_grams parameter of vectorizers and see if it increases AUC score.</dd>\n",
        "                  <dt>categorical features</dt>\n",
        "                  <dd> - teacher_prefix</dd>\n",
        "                  <dd> - project_grade_category</dd>\n",
        "                  <dd> - school_state</dd>\n",
        "                  <dd> - clean_categories</dd>\n",
        "                  <dd> - clean_subcategories</dd>\n",
        "                  <dt>numerical features</dt>\n",
        "                  <dd> - price</dd>\n",
        "                  <dd> - teacher_number_of_previously_posted_projects</dd>\n",
        "                  <dd>while encoding the numerical features check <a href='https://imgur.com/ldZA1zg'>this</a> and <a href='https://ac-classroom-production.s3.amazonaws.com/public/COMMENT/Annotation_2020-05-21_225912_0lyZzN8.jpg'>this</a></dd>\n",
        "                </dl>    \n",
        "            <li><font color='red'>Set 1</font>: categorical, numerical features + preprocessed_eassay (BOW)</li>\n",
        "            <li><font color='red'>Set 2</font>: categorical, numerical features + preprocessed_eassay (TFIDF)</li>\n",
        "        </ul>\n",
        "    <li><strong>The hyper paramter tuning(find best alpha:smoothing parameter)</strong>\n",
        "        <ul>\n",
        "    <li>Consider alpha values in range: 10^-5 to 10^2 like [0.00001,0.0005, 0.0001,0.005,0.001,0.05,0.01,0.1,0.5,1,5,10,50,100]</li>\n",
        "    <li>Explore class_prior = [0.5, 0.5] parameter which can be present in MultinomialNB function(go through <a href='https://scikit-learn.org/stable/modules/generated/sklearn.naive_bayes.MultinomialNB.html'>this</a> ) then check how results might change.\n",
        "    <li>Find the best hyper parameter which will give the maximum <a href='https://www.appliedaicourse.com/course/applied-ai-course-online/lessons/receiver-operating-characteristic-curve-roc-curve-and-auc-1/'>AUC</a> value</li>\n",
        "    <li>For hyper parameter tuning using k-fold cross validation(use GridsearchCV or RandomsearchCV)/simple cross validation data (write for loop to iterate over hyper parameter values)</li>\n",
        "    <li>You need to plot the performance of model both on train data and cross validation data for each hyper parameter, like shown in the figure\n",
        "    <img src='https://i.imgur.com/hUv6aEy.jpg' width=300px><dd>-while plotting take log(alpha) on your X-axis so that it will be more readable</dd></li>\n",
        "    <li>Once after you found the best hyper parameter, you need to train your model with it, and find the AUC on test data and plot the ROC curve on both train and test.\n",
        "    <img src='https://imgur.com/q2P65L5.jpg' width=300px></li>\n",
        "    <li>Along with plotting ROC curve, you need to print the <a href='https://www.appliedaicourse.com/course/applied-ai-course-online/lessons/confusion-matrix-tpr-fpr-fnr-tnr-1/'>confusion matrix</a> with predicted and original labels of test data points\n",
        "        <img src='https://i.imgur.com/IdN5Ctv.png' width=300px><dd>-plot the confusion matrix in heatmaps, while plotting the confusion matrix go through the <a href='https://stackoverflow.com/questions/61748441/how-to-fix-the-values-displayed-in-a-confusion-matrix-in-exponential-form-to-nor'>link </a>\n",
        "</dd></li>\n",
        "        </ul>\n",
        "<li>find the top 20 features from either from feature <font color='red'>Set 1</font> or feature <font color='red'>Set 2</font> using values of `feature_log_prob_ ` parameter of `MultinomialNB` \n",
        "(https://scikit-learn.org/stable/modules/generated/sklearn.naive_bayes.MultinomialNB.html) and print <strong>BOTH</strong> positive as well as negative corresponding feature names. <dd> - go through the <a href='https://imgur.com/mWvE7gj'>link </a> </dd>\n",
        "    </li>\n",
        "    <li>You need to summarize the results at the end of the notebook, summarize it in the table format\n",
        "        <img src='http://i.imgur.com/YVpIGGE.jpg' width=400px>\n",
        "    </li>\n",
        "</ol>"
      ]
    },
    {
      "cell_type": "code",
      "metadata": {
        "id": "chpSjDaXm9KG",
        "colab": {
          "base_uri": "https://localhost:8080/"
        },
        "outputId": "bf1d3183-2756-4e6c-fdd2-3a66aab84618"
      },
      "source": [
        "from google.colab import drive\n",
        "\n",
        "drive.mount('/content/gdrive')"
      ],
      "execution_count": null,
      "outputs": [
        {
          "output_type": "stream",
          "text": [
            "Mounted at /content/gdrive\n"
          ],
          "name": "stdout"
        }
      ]
    },
    {
      "cell_type": "code",
      "metadata": {
        "id": "rpWCIt78ucST"
      },
      "source": [
        "import numpy as np\n",
        "import pandas as pd\n",
        "from sklearn.model_selection import train_test_split\n",
        "from sklearn.preprocessing import OneHotEncoder\n",
        "from sklearn.model_selection import GridSearchCV\n",
        "from sklearn.model_selection import RandomizedSearchCV\n",
        "import warnings\n",
        "warnings.filterwarnings(\"ignore\")\n",
        "from sklearn.model_selection import cross_val_score\n",
        "import nltk\n",
        "import matplotlib.pyplot as plt\n",
        "import seaborn as sns\n",
        "from sklearn.preprocessing import Normalizer\n",
        "from sklearn.feature_extraction.text import TfidfVectorizer\n",
        "from sklearn.feature_extraction.text import CountVectorizer\n",
        "from sklearn.naive_bayes import MultinomialNB\n",
        "from sklearn.metrics import confusion_matrix\n",
        "from sklearn import metrics\n",
        "from sklearn.metrics import roc_curve, auc\n",
        "from scipy.sparse import hstack"
      ],
      "execution_count": null,
      "outputs": []
    },
    {
      "cell_type": "code",
      "metadata": {
        "id": "ftxB2W2qurJK"
      },
      "source": [
        "from prettytable import PrettyTable"
      ],
      "execution_count": null,
      "outputs": []
    },
    {
      "cell_type": "code",
      "metadata": {
        "id": "igvLQ3IuLOSs"
      },
      "source": [
        "pt = PrettyTable()\n",
        "pt.field_names = [\"Vectorizer\", \"Model\", \"Hyperparameter\", \"AUC\"]"
      ],
      "execution_count": null,
      "outputs": []
    },
    {
      "cell_type": "code",
      "metadata": {
        "id": "AUCrBSgGLloX"
      },
      "source": [
        ""
      ],
      "execution_count": null,
      "outputs": []
    },
    {
      "cell_type": "markdown",
      "metadata": {
        "id": "inzYCIaib3c3"
      },
      "source": [
        "<h1>2. Naive Bayes </h1>"
      ]
    },
    {
      "cell_type": "markdown",
      "metadata": {
        "id": "FYqCIxzFb3c5"
      },
      "source": [
        "## 1.1 Loading Data"
      ]
    },
    {
      "cell_type": "code",
      "metadata": {
        "id": "dA1jknyqb3c_"
      },
      "source": [
        "df = pd.read_csv('/content/gdrive/My Drive/Datasets/preprocessed_data.csv',nrows=100000)"
      ],
      "execution_count": null,
      "outputs": []
    },
    {
      "cell_type": "code",
      "metadata": {
        "colab": {
          "base_uri": "https://localhost:8080/"
        },
        "id": "hczL7gBBvolu",
        "outputId": "03d4d9a5-3f43-40b6-9044-d898b3b2bfc7"
      },
      "source": [
        "df.columns"
      ],
      "execution_count": null,
      "outputs": [
        {
          "output_type": "execute_result",
          "data": {
            "text/plain": [
              "Index(['school_state', 'teacher_prefix', 'project_grade_category',\n",
              "       'teacher_number_of_previously_posted_projects', 'project_is_approved',\n",
              "       'clean_categories', 'clean_subcategories', 'essay', 'price'],\n",
              "      dtype='object')"
            ]
          },
          "metadata": {},
          "execution_count": 4
        }
      ]
    },
    {
      "cell_type": "markdown",
      "metadata": {
        "id": "WtVV13Fyb3dH"
      },
      "source": [
        "<h2>1.2 Splitting data into Train and cross validation(or test): Stratified Sampling</h2>"
      ]
    },
    {
      "cell_type": "code",
      "metadata": {
        "id": "i-PyprDNb3dI"
      },
      "source": [
        "# please write all the code with proper documentation, and proper titles for each subsection\n",
        "# go through documentations and blogs before you start coding\n",
        "# first figure out what to do, and then think about how to do.\n",
        "# reading and understanding error messages will be very much helpfull in debugging your code\n",
        "# when you plot any graph make sure you use \n",
        "    # a. Title, that describes your plot, this will be very helpful to the reader\n",
        "    # b. Legends if needed\n",
        "    # c. X-axis label\n",
        "    # d. Y-axis label\n",
        "\n",
        "X = df.drop('project_is_approved',axis=1)\n",
        "y = df['project_is_approved']\n",
        "\n",
        "x_train,x_test,y_train,y_test = train_test_split(X,y,test_size = 0.3,random_state=42,stratify=y)    #stratify is used to proportionally split the classes in train and test"
      ],
      "execution_count": null,
      "outputs": []
    },
    {
      "cell_type": "code",
      "metadata": {
        "colab": {
          "base_uri": "https://localhost:8080/"
        },
        "id": "MMDDeoNYvUSw",
        "outputId": "6b7e7ffe-a780-4140-fa67-b021ec462165"
      },
      "source": [
        "print(x_train.shape)\n",
        "print(x_test.shape)\n",
        "print(y_train.shape)\n",
        "print(y_test.shape)"
      ],
      "execution_count": null,
      "outputs": [
        {
          "output_type": "stream",
          "text": [
            "(70000, 8)\n",
            "(30000, 8)\n",
            "(70000,)\n",
            "(30000,)\n"
          ],
          "name": "stdout"
        }
      ]
    },
    {
      "cell_type": "markdown",
      "metadata": {
        "id": "EnZwVNULb3dO"
      },
      "source": [
        "<h2>1.3 Make Data Model Ready: encoding eassay, and project_title</h2>"
      ]
    },
    {
      "cell_type": "code",
      "metadata": {
        "id": "-SczZKiab3dR",
        "colab": {
          "base_uri": "https://localhost:8080/"
        },
        "outputId": "a96aa719-cd69-4bbb-9065-f7438ec80551"
      },
      "source": [
        "#BOW vectorizer\n",
        "\n",
        "bow_vect = CountVectorizer(min_df=10)\n",
        "\n",
        "\n",
        "x_tr_essay_bow = bow_vect.fit_transform(x_train['essay'])\n",
        "x_te_essay_bow = bow_vect.transform(x_test['essay'])\n",
        "\n",
        "print(x_tr_essay_bow.shape)\n",
        "print(x_te_essay_bow.shape)"
      ],
      "execution_count": null,
      "outputs": [
        {
          "output_type": "stream",
          "text": [
            "(70000, 13974)\n",
            "(30000, 13974)\n"
          ],
          "name": "stdout"
        }
      ]
    },
    {
      "cell_type": "code",
      "metadata": {
        "colab": {
          "base_uri": "https://localhost:8080/"
        },
        "id": "Ai3r-jzax2Px",
        "outputId": "c8d94357-f018-4577-e57f-391e6acced32"
      },
      "source": [
        "#BOW with parameters\n",
        "\n",
        "bow_vect_1 = CountVectorizer(min_df=10,ngram_range=(1,3),max_features=2500)\n",
        "\n",
        "x_tr_essay_bow_1 = bow_vect_1.fit_transform(x_train['essay'])\n",
        "x_te_essay_bow_1 = bow_vect_1.transform(x_test['essay'])\n",
        "\n",
        "print(x_tr_essay_bow_1.shape)\n",
        "print(x_te_essay_bow_1.shape)"
      ],
      "execution_count": null,
      "outputs": [
        {
          "output_type": "stream",
          "text": [
            "(70000, 2500)\n",
            "(30000, 2500)\n"
          ],
          "name": "stdout"
        }
      ]
    },
    {
      "cell_type": "code",
      "metadata": {
        "colab": {
          "base_uri": "https://localhost:8080/"
        },
        "id": "1caTuS97x2b6",
        "outputId": "36b736ce-1337-430c-c7f2-af8caf556fa1"
      },
      "source": [
        "#TFIDF vectorizer\n",
        "\n",
        "tfidf_vect = TfidfVectorizer(min_df=10)\n",
        "\n",
        "x_tr_essay_tfidf = tfidf_vect.fit_transform(x_train['essay'])\n",
        "x_te_essay_tfidf = tfidf_vect.transform(x_test['essay'])\n",
        "\n",
        "print(x_tr_essay_tfidf.shape)\n",
        "print(x_te_essay_tfidf.shape)"
      ],
      "execution_count": null,
      "outputs": [
        {
          "output_type": "stream",
          "text": [
            "(70000, 13974)\n",
            "(30000, 13974)\n"
          ],
          "name": "stdout"
        }
      ]
    },
    {
      "cell_type": "code",
      "metadata": {
        "colab": {
          "base_uri": "https://localhost:8080/"
        },
        "id": "BT5TWb6Kx2k9",
        "outputId": "721b27a1-e030-4de4-f9bc-5a607c4f9db0"
      },
      "source": [
        "#TFIDF with params\n",
        "\n",
        "tfidf_vect_1 = TfidfVectorizer(min_df=10,ngram_range=(1,3),max_features=2500)\n",
        "\n",
        "x_tr_essay_tfidf_1 = tfidf_vect_1.fit_transform(x_train['essay'])\n",
        "x_te_essay_tfidf_1 = tfidf_vect_1.transform(x_test['essay'])\n",
        "\n",
        "print(x_tr_essay_tfidf_1.shape)\n",
        "print(x_te_essay_tfidf_1.shape)"
      ],
      "execution_count": null,
      "outputs": [
        {
          "output_type": "stream",
          "text": [
            "(70000, 2500)\n",
            "(30000, 2500)\n"
          ],
          "name": "stdout"
        }
      ]
    },
    {
      "cell_type": "code",
      "metadata": {
        "id": "C2mmPqhmx2tp"
      },
      "source": [
        ""
      ],
      "execution_count": null,
      "outputs": []
    },
    {
      "cell_type": "markdown",
      "metadata": {
        "id": "bGy86kgHb3dX"
      },
      "source": [
        "<h2>1.4 Make Data Model Ready: encoding numerical, categorical features</h2>"
      ]
    },
    {
      "cell_type": "code",
      "metadata": {
        "id": "EfXkofX1b3da"
      },
      "source": [
        "#Encoding categorical values\n",
        "\n",
        "vect_ohe = CountVectorizer()       #vectorizer for one hot encoding (ohe)\n",
        "\n",
        "# for i in categorical:\n",
        "#     var = compile(\"'x_train_' + i\", \"<string>\", \"eval\") \n",
        "#     name = eval(var)\n",
        "#     print(name)\n",
        "#     name  = vect_ohe.fit_transform(x_train[i].values)\n",
        "#     # compile('x_test_' + i) = vect_ohe.transform(x_test[i].values)\n",
        "\n",
        "\n",
        "x_train_state = vect_ohe.fit_transform(x_train['school_state'].values)\n",
        "x_test_state = vect_ohe.transform(x_test['school_state'].values)\n",
        "\n",
        "x_train_teacher = vect_ohe.fit_transform(x_train['teacher_prefix'].values)\n",
        "x_test_teacher = vect_ohe.transform(x_test['teacher_prefix'].values)\n",
        "\n",
        "x_train_grade = vect_ohe.fit_transform(x_train['project_grade_category'].values)\n",
        "x_test_grade = vect_ohe.transform(x_test['project_grade_category'].values)\n",
        "\n",
        "x_train_clean = vect_ohe.fit_transform(x_train['clean_categories'].values)\n",
        "x_test_clean = vect_ohe.transform(x_test['clean_categories'].values)\n",
        "\n",
        "x_train_clean_sub = vect_ohe.fit_transform(x_train['clean_subcategories'].values)\n",
        "x_test_clean_sub = vect_ohe.transform(x_test['clean_subcategories'].values)\n",
        "\n",
        "# Normalizing numerical features\n",
        "\n",
        "normalizer = Normalizer()\n",
        "\n",
        "x_train_price= normalizer.fit_transform(x_train['price'].values.reshape(1,-1))\n",
        "x_test_price= normalizer.fit_transform(x_test['price'].values.reshape(1,-1))\n",
        "\n",
        "x_train_teacher_ppp = normalizer.fit_transform(x_train['teacher_number_of_previously_posted_projects'].values.reshape(1,-1))\n",
        "x_test_teacher_ppp = normalizer.fit_transform(x_test['teacher_number_of_previously_posted_projects'].values.reshape(1,-1))\n",
        "\n"
      ],
      "execution_count": null,
      "outputs": []
    },
    {
      "cell_type": "code",
      "metadata": {
        "colab": {
          "base_uri": "https://localhost:8080/"
        },
        "id": "qh7RlTn_2jDv",
        "outputId": "fdfc145b-212b-43ac-d45f-dc58ab5a943b"
      },
      "source": [
        "x_train_teacher_ppp"
      ],
      "execution_count": null,
      "outputs": [
        {
          "output_type": "execute_result",
          "data": {
            "text/plain": [
              "array([[0.0001304 , 0.00078238, 0.00078238, ..., 0.00247754, 0.00039119,\n",
              "        0.00143437]])"
            ]
          },
          "metadata": {
            "tags": []
          },
          "execution_count": 39
        }
      ]
    },
    {
      "cell_type": "markdown",
      "metadata": {
        "id": "yYHPYadYb3dh"
      },
      "source": [
        "<h2>1.5 Appling NB on different kind of featurization as mentioned in the instructions</h2>\n",
        "\n",
        "<br>Apply NB on different kind of featurization as mentioned in the instructions\n",
        "<br> For Every model that you work on make sure you do the step 2 and step 3 of instrucations"
      ]
    },
    {
      "cell_type": "markdown",
      "metadata": {
        "id": "8hRt4Hq0AhMx"
      },
      "source": [
        "###MODEL - 1 : BOW w/ no params"
      ]
    },
    {
      "cell_type": "code",
      "metadata": {
        "id": "DNwqilFxb3di"
      },
      "source": [
        "# Concatenating all data\n",
        "\n",
        "x_tr_bow = hstack(( x_train_state, x_train_teacher, x_train_grade, x_train_clean_sub,x_train_clean,x_train_price.T,x_train_teacher_ppp.T,x_tr_essay_bow)).tocsr()\n",
        "x_te_bow = hstack(( x_test_state, x_test_teacher, x_test_grade, x_test_clean_sub,x_test_clean,x_test_price.T,x_test_teacher_ppp.T,x_te_essay_bow)).tocsr()\n"
      ],
      "execution_count": null,
      "outputs": []
    },
    {
      "cell_type": "code",
      "metadata": {
        "colab": {
          "base_uri": "https://localhost:8080/"
        },
        "id": "HcVN912pBWEx",
        "outputId": "cf475716-3a26-4f86-de55-d40b7ee93880"
      },
      "source": [
        "x_tr_bow.shape , x_te_bow.shape\n"
      ],
      "execution_count": null,
      "outputs": [
        {
          "output_type": "execute_result",
          "data": {
            "text/plain": [
              "((70000, 14075), (30000, 14075))"
            ]
          },
          "metadata": {
            "tags": []
          },
          "execution_count": 13
        }
      ]
    },
    {
      "cell_type": "code",
      "metadata": {
        "id": "PMjSHqkiGVyS"
      },
      "source": [
        "nb = MultinomialNB()"
      ],
      "execution_count": null,
      "outputs": []
    },
    {
      "cell_type": "code",
      "metadata": {
        "id": "lIFkfvPOGV69"
      },
      "source": [
        "parameters = {'alpha':[0.00001,0.0005, 0.0001,0.005,0.001,0.05,0.01,0.1,0.5,1,5,10,50,100],'class_prior':[[0.5,0.5],None]}"
      ],
      "execution_count": null,
      "outputs": []
    },
    {
      "cell_type": "code",
      "metadata": {
        "id": "5Sy-FZgcGWCt"
      },
      "source": [
        "cross_val_score(nb,X_tr_bow,y_train,scoring='roc_auc',cv=5,n_jobs=-1)"
      ],
      "execution_count": null,
      "outputs": []
    },
    {
      "cell_type": "code",
      "metadata": {
        "id": "M93g19weGWKX"
      },
      "source": [
        "clf = GridSearchCV(nb,param_grid=parameters,cv=3,scoring='roc_auc',n_jobs=-1,return_train_score=True)"
      ],
      "execution_count": null,
      "outputs": []
    },
    {
      "cell_type": "code",
      "metadata": {
        "colab": {
          "base_uri": "https://localhost:8080/"
        },
        "id": "7Itz3LGKGWWO",
        "outputId": "4ff2e848-09fc-4524-fcd0-5d698e2b1a0e"
      },
      "source": [
        "clf.fit(x_tr_bow, y_train)"
      ],
      "execution_count": null,
      "outputs": [
        {
          "output_type": "execute_result",
          "data": {
            "text/plain": [
              "GridSearchCV(cv=3, error_score=nan,\n",
              "             estimator=MultinomialNB(alpha=1.0, class_prior=None,\n",
              "                                     fit_prior=True),\n",
              "             iid='deprecated', n_jobs=-1,\n",
              "             param_grid={'alpha': [1e-05, 0.0005, 0.0001, 0.005, 0.001, 0.05,\n",
              "                                   0.01, 0.1, 0.5, 1, 5, 10, 50, 100],\n",
              "                         'class_prior': [[0.5, 0.5], None]},\n",
              "             pre_dispatch='2*n_jobs', refit=True, return_train_score=True,\n",
              "             scoring='roc_auc', verbose=0)"
            ]
          },
          "metadata": {
            "tags": []
          },
          "execution_count": 17
        }
      ]
    },
    {
      "cell_type": "code",
      "metadata": {
        "id": "aXYWJyUrGWfW"
      },
      "source": [
        "results = pd.DataFrame.from_dict(clf.cv_results_)"
      ],
      "execution_count": null,
      "outputs": []
    },
    {
      "cell_type": "code",
      "metadata": {
        "colab": {
          "base_uri": "https://localhost:8080/",
          "height": 475
        },
        "id": "3mmrTeExGWmz",
        "outputId": "faea4c9d-5deb-4d16-c4cd-886e680eda53"
      },
      "source": [
        "results.head()"
      ],
      "execution_count": null,
      "outputs": [
        {
          "output_type": "execute_result",
          "data": {
            "text/html": [
              "<div>\n",
              "<style scoped>\n",
              "    .dataframe tbody tr th:only-of-type {\n",
              "        vertical-align: middle;\n",
              "    }\n",
              "\n",
              "    .dataframe tbody tr th {\n",
              "        vertical-align: top;\n",
              "    }\n",
              "\n",
              "    .dataframe thead th {\n",
              "        text-align: right;\n",
              "    }\n",
              "</style>\n",
              "<table border=\"1\" class=\"dataframe\">\n",
              "  <thead>\n",
              "    <tr style=\"text-align: right;\">\n",
              "      <th></th>\n",
              "      <th>mean_fit_time</th>\n",
              "      <th>std_fit_time</th>\n",
              "      <th>mean_score_time</th>\n",
              "      <th>std_score_time</th>\n",
              "      <th>param_alpha</th>\n",
              "      <th>param_class_prior</th>\n",
              "      <th>params</th>\n",
              "      <th>split0_test_score</th>\n",
              "      <th>split1_test_score</th>\n",
              "      <th>split2_test_score</th>\n",
              "      <th>mean_test_score</th>\n",
              "      <th>std_test_score</th>\n",
              "      <th>rank_test_score</th>\n",
              "      <th>split0_train_score</th>\n",
              "      <th>split1_train_score</th>\n",
              "      <th>split2_train_score</th>\n",
              "      <th>mean_train_score</th>\n",
              "      <th>std_train_score</th>\n",
              "    </tr>\n",
              "  </thead>\n",
              "  <tbody>\n",
              "    <tr>\n",
              "      <th>0</th>\n",
              "      <td>0.149364</td>\n",
              "      <td>0.026317</td>\n",
              "      <td>0.043532</td>\n",
              "      <td>0.002191</td>\n",
              "      <td>1e-05</td>\n",
              "      <td>[0.5, 0.5]</td>\n",
              "      <td>{'alpha': 1e-05, 'class_prior': [0.5, 0.5]}</td>\n",
              "      <td>0.661612</td>\n",
              "      <td>0.671571</td>\n",
              "      <td>0.666763</td>\n",
              "      <td>0.666649</td>\n",
              "      <td>0.004067</td>\n",
              "      <td>22</td>\n",
              "      <td>0.837396</td>\n",
              "      <td>0.836387</td>\n",
              "      <td>0.835926</td>\n",
              "      <td>0.836570</td>\n",
              "      <td>0.000614</td>\n",
              "    </tr>\n",
              "    <tr>\n",
              "      <th>1</th>\n",
              "      <td>0.115425</td>\n",
              "      <td>0.005703</td>\n",
              "      <td>0.043348</td>\n",
              "      <td>0.000350</td>\n",
              "      <td>1e-05</td>\n",
              "      <td>None</td>\n",
              "      <td>{'alpha': 1e-05, 'class_prior': None}</td>\n",
              "      <td>0.661581</td>\n",
              "      <td>0.671586</td>\n",
              "      <td>0.666792</td>\n",
              "      <td>0.666653</td>\n",
              "      <td>0.004086</td>\n",
              "      <td>21</td>\n",
              "      <td>0.837388</td>\n",
              "      <td>0.836387</td>\n",
              "      <td>0.835923</td>\n",
              "      <td>0.836566</td>\n",
              "      <td>0.000611</td>\n",
              "    </tr>\n",
              "    <tr>\n",
              "      <th>2</th>\n",
              "      <td>0.108981</td>\n",
              "      <td>0.000894</td>\n",
              "      <td>0.043677</td>\n",
              "      <td>0.000498</td>\n",
              "      <td>0.0005</td>\n",
              "      <td>[0.5, 0.5]</td>\n",
              "      <td>{'alpha': 0.0005, 'class_prior': [0.5, 0.5]}</td>\n",
              "      <td>0.673852</td>\n",
              "      <td>0.683859</td>\n",
              "      <td>0.678468</td>\n",
              "      <td>0.678726</td>\n",
              "      <td>0.004089</td>\n",
              "      <td>15</td>\n",
              "      <td>0.833266</td>\n",
              "      <td>0.831702</td>\n",
              "      <td>0.831620</td>\n",
              "      <td>0.832196</td>\n",
              "      <td>0.000757</td>\n",
              "    </tr>\n",
              "    <tr>\n",
              "      <th>3</th>\n",
              "      <td>0.106182</td>\n",
              "      <td>0.002394</td>\n",
              "      <td>0.043840</td>\n",
              "      <td>0.001203</td>\n",
              "      <td>0.0005</td>\n",
              "      <td>None</td>\n",
              "      <td>{'alpha': 0.0005, 'class_prior': None}</td>\n",
              "      <td>0.673859</td>\n",
              "      <td>0.683845</td>\n",
              "      <td>0.678474</td>\n",
              "      <td>0.678726</td>\n",
              "      <td>0.004081</td>\n",
              "      <td>16</td>\n",
              "      <td>0.833262</td>\n",
              "      <td>0.831702</td>\n",
              "      <td>0.831619</td>\n",
              "      <td>0.832194</td>\n",
              "      <td>0.000756</td>\n",
              "    </tr>\n",
              "    <tr>\n",
              "      <th>4</th>\n",
              "      <td>0.116246</td>\n",
              "      <td>0.011994</td>\n",
              "      <td>0.044866</td>\n",
              "      <td>0.000962</td>\n",
              "      <td>0.0001</td>\n",
              "      <td>[0.5, 0.5]</td>\n",
              "      <td>{'alpha': 0.0001, 'class_prior': [0.5, 0.5]}</td>\n",
              "      <td>0.668251</td>\n",
              "      <td>0.678366</td>\n",
              "      <td>0.673216</td>\n",
              "      <td>0.673278</td>\n",
              "      <td>0.004130</td>\n",
              "      <td>19</td>\n",
              "      <td>0.835461</td>\n",
              "      <td>0.834166</td>\n",
              "      <td>0.833883</td>\n",
              "      <td>0.834504</td>\n",
              "      <td>0.000687</td>\n",
              "    </tr>\n",
              "  </tbody>\n",
              "</table>\n",
              "</div>"
            ],
            "text/plain": [
              "   mean_fit_time  std_fit_time  ...  mean_train_score  std_train_score\n",
              "0       0.149364      0.026317  ...          0.836570         0.000614\n",
              "1       0.115425      0.005703  ...          0.836566         0.000611\n",
              "2       0.108981      0.000894  ...          0.832196         0.000757\n",
              "3       0.106182      0.002394  ...          0.832194         0.000756\n",
              "4       0.116246      0.011994  ...          0.834504         0.000687\n",
              "\n",
              "[5 rows x 18 columns]"
            ]
          },
          "metadata": {
            "tags": []
          },
          "execution_count": 28
        }
      ]
    },
    {
      "cell_type": "code",
      "metadata": {
        "colab": {
          "base_uri": "https://localhost:8080/"
        },
        "id": "LXgMDiYhBsRc",
        "outputId": "911457b9-269a-4dcd-d5e1-5125c3768b94"
      },
      "source": [
        "print(clf.best_params_)\n",
        "print(clf.best_score_)"
      ],
      "execution_count": null,
      "outputs": [
        {
          "output_type": "stream",
          "text": [
            "{'alpha': 0.5, 'class_prior': None}\n",
            "0.6998824874746172\n"
          ],
          "name": "stdout"
        }
      ]
    },
    {
      "cell_type": "code",
      "metadata": {
        "colab": {
          "base_uri": "https://localhost:8080/"
        },
        "id": "C8FZajmXBsxj",
        "outputId": "6364c5e1-20a3-48e3-a562-38d98cc70a4b"
      },
      "source": [
        "def plot_graph(results):\n",
        "    train_auc= results['mean_train_score']\n",
        "    train_auc_std= results['std_train_score']\n",
        "    cv_auc = results['mean_test_score'] \n",
        "    cv_auc_std= results['std_test_score']\n",
        "    alpha =  results['param_alpha'].astype('float')\n",
        "    alpha = np.array(alpha)\n",
        "    alpha1 = np.log10(alpha)\n",
        "    print(np.max(cv_auc))\n",
        "\n",
        "    plt.plot(alpha1, train_auc, label='Train AUC')\n",
        "    plt.plot(alpha1, cv_auc, label='CV AUC')\n",
        "\n",
        "    plt.scatter(alpha1, train_auc, label='Train AUC points')\n",
        "    plt.scatter(alpha1, cv_auc, label='CV AUC points')\n",
        "\n",
        "    plt.legend()\n",
        "    plt.xlabel(\"Alpha: hyperparameter in log scale\")\n",
        "    plt.ylabel(\"AUC\")\n",
        "    plt.title(\"Hyper parameter Vs AUC plot\")\n",
        "    plt.grid()\n",
        "    plt.show()"
      ],
      "execution_count": null,
      "outputs": [
        {
          "output_type": "stream",
          "text": [
            "0.6998824874746172\n"
          ],
          "name": "stdout"
        }
      ]
    },
    {
      "cell_type": "code",
      "metadata": {
        "colab": {
          "base_uri": "https://localhost:8080/",
          "height": 295
        },
        "id": "nl_9DCdwBs5z",
        "outputId": "db212c05-a6fc-48b8-dc2e-0459082f98d2"
      },
      "source": [
        "plot_graph(results)"
      ],
      "execution_count": null,
      "outputs": [
        {
          "output_type": "display_data",
          "data": {
            "image/png": "[encoded data removed]",
            "text/plain": [
              "<Figure size 432x288 with 1 Axes>"
            ]
          },
          "metadata": {
            "tags": [],
            "needs_background": "light"
          }
        }
      ]
    },
    {
      "cell_type": "code",
      "metadata": {
        "id": "y0TMMlpdBtBn"
      },
      "source": [
        "#Best Model\n",
        "\n",
        "mnb_bow = MultinomialNB(alpha=clf.best_params_['alpha'],class_prior=clf.best_params_['class_prior'])\n"
      ],
      "execution_count": null,
      "outputs": []
    },
    {
      "cell_type": "code",
      "metadata": {
        "id": "tRhiVKmJOHQl"
      },
      "source": [
        "mnb_bow = MultinomialNB(alpha=0.5,class_prior=None)"
      ],
      "execution_count": null,
      "outputs": []
    },
    {
      "cell_type": "code",
      "metadata": {
        "colab": {
          "base_uri": "https://localhost:8080/"
        },
        "id": "xycsh8IMBtJw",
        "outputId": "a5458b39-4f3d-4e2d-f14f-b2db115acf39"
      },
      "source": [
        "mnb_bow.fit(x_tr_bow,y_train)"
      ],
      "execution_count": null,
      "outputs": [
        {
          "output_type": "execute_result",
          "data": {
            "text/plain": [
              "MultinomialNB(alpha=0.5, class_prior=None, fit_prior=True)"
            ]
          },
          "metadata": {},
          "execution_count": 15
        }
      ]
    },
    {
      "cell_type": "code",
      "metadata": {
        "id": "T-v_tBinBtSO"
      },
      "source": [
        "y_train_pred_bow = []\n",
        "y_test_pred_bow = []\n",
        "y_train_pred_bow = mnb_bow.predict_proba(x_tr_bow)[:,1]\n",
        "y_test_pred_bow = mnb_bow.predict_proba(x_te_bow)[:,1]"
      ],
      "execution_count": null,
      "outputs": []
    },
    {
      "cell_type": "code",
      "metadata": {
        "id": "PbyaPQNOOTku"
      },
      "source": [
        "test_fpr, test_tpr, te_thresholds = roc_curve(y_test, y_test_pred_bow)"
      ],
      "execution_count": null,
      "outputs": []
    },
    {
      "cell_type": "code",
      "metadata": {
        "id": "BmTB10qMNfev"
      },
      "source": [
        "pt.add_row('BOW','MNB',f'{clf.best_params_}',auc(test_fpr, test_tpr))"
      ],
      "execution_count": null,
      "outputs": []
    },
    {
      "cell_type": "code",
      "metadata": {
        "id": "a9dkR9qjN_Oa"
      },
      "source": [
        "# pt.add_row(['BOW','MNB','alpha: 0.5, class_prior: None',auc(test_fpr, test_tpr)])"
      ],
      "execution_count": null,
      "outputs": []
    },
    {
      "cell_type": "code",
      "metadata": {
        "id": "NBGNR61n-OeE"
      },
      "source": [
        "def plot_roc_auc(y_train,y_test,y_train_pred,y_test_pred):\n",
        "\n",
        "    train_fpr, train_tpr, tr_thresholds = roc_curve(y_train, y_train_pred)\n",
        "    test_fpr, test_tpr, te_thresholds = roc_curve(y_test, y_test_pred)\n",
        "\n",
        "    plt.plot(train_fpr, train_tpr, label=\"train AUC =\"+str(auc(train_fpr, train_tpr)))\n",
        "    plt.plot(test_fpr, test_tpr, label=\"test AUC =\"+str(auc(test_fpr, test_tpr)))\n",
        "    plt.legend()\n",
        "    plt.xlabel(\"Alpha: hyperparameter\")\n",
        "    plt.ylabel(\"AUC\")\n",
        "    plt.title(\"ERROR PLOTS\")\n",
        "    plt.grid()\n",
        "    plt.show()"
      ],
      "execution_count": null,
      "outputs": []
    },
    {
      "cell_type": "code",
      "metadata": {
        "colab": {
          "base_uri": "https://localhost:8080/",
          "height": 295
        },
        "id": "hsa0XN7Q-OoS",
        "outputId": "e358be34-324c-4387-d1f1-ae32f3bdac85"
      },
      "source": [
        "plot_roc_auc(y_train,y_test,y_train_pred_bow,y_test_pred_bow)"
      ],
      "execution_count": null,
      "outputs": [
        {
          "output_type": "display_data",
          "data": {
            "image/png": "[encoded data removed]",
            "text/plain": [
              "<Figure size 432x288 with 1 Axes>"
            ]
          },
          "metadata": {
            "tags": [],
            "needs_background": "light"
          }
        }
      ]
    },
    {
      "cell_type": "code",
      "metadata": {
        "colab": {
          "base_uri": "https://localhost:8080/",
          "height": 286
        },
        "id": "SZ24eEjJ3sT4",
        "outputId": "8d080669-65e1-4bc9-a8e6-f21bc0ec3605"
      },
      "source": [
        "#Confusion matrix\n",
        "y_test_pred_bow_class = mnb_bow.predict(x_te_bow)\n",
        "conf_matrix_bow = confusion_matrix(y_test,y_test_pred_bow_class)\n",
        "\n",
        "sns.heatmap(conf_matrix_bow,annot=True,fmt=\"d\",cmap='Blues')"
      ],
      "execution_count": null,
      "outputs": [
        {
          "output_type": "execute_result",
          "data": {
            "text/plain": [
              "<matplotlib.axes._subplots.AxesSubplot at 0x7f183ffc6950>"
            ]
          },
          "metadata": {
            "tags": []
          },
          "execution_count": 67
        },
        {
          "output_type": "display_data",
          "data": {
            "image/png": "[encoded data removed]",
            "text/plain": [
              "<Figure size 432x288 with 2 Axes>"
            ]
          },
          "metadata": {
            "tags": [],
            "needs_background": "light"
          }
        }
      ]
    },
    {
      "cell_type": "code",
      "metadata": {
        "id": "y8unsexaOkJb"
      },
      "source": [
        "top_20_features = mnb_bow.feature_log_prob_[1].sort()"
      ],
      "execution_count": null,
      "outputs": []
    },
    {
      "cell_type": "code",
      "metadata": {
        "id": "Jd7QxmOqPZg2"
      },
      "source": [
        ""
      ],
      "execution_count": null,
      "outputs": []
    },
    {
      "cell_type": "markdown",
      "metadata": {
        "id": "lofA66eB-8XP"
      },
      "source": [
        "##MODEL -II - TFIDF"
      ]
    },
    {
      "cell_type": "code",
      "metadata": {
        "id": "UKAQvxfh-Ow_"
      },
      "source": [
        "x_tr_tfidf = hstack(( x_train_state, x_train_teacher, x_train_grade, x_train_clean_sub,x_train_clean,x_train_price.T,x_train_teacher_ppp.T,x_tr_essay_tfidf)).tocsr()\n",
        "x_te_tfidf = hstack(( x_test_state, x_test_teacher, x_test_grade, x_test_clean_sub,x_test_clean,x_test_price.T,x_test_teacher_ppp.T,x_te_essay_tfidf)).tocsr()\n"
      ],
      "execution_count": null,
      "outputs": []
    },
    {
      "cell_type": "code",
      "metadata": {
        "colab": {
          "base_uri": "https://localhost:8080/"
        },
        "id": "0TkhxA3C_mGQ",
        "outputId": "21001558-114a-459f-cb8f-c243bb958f55"
      },
      "source": [
        "x_tr_tfidf.shape , x_te_tfidf.shape\n"
      ],
      "execution_count": null,
      "outputs": [
        {
          "output_type": "execute_result",
          "data": {
            "text/plain": [
              "((70000, 14075), (30000, 14075))"
            ]
          },
          "metadata": {
            "tags": []
          },
          "execution_count": 30
        }
      ]
    },
    {
      "cell_type": "code",
      "metadata": {
        "colab": {
          "base_uri": "https://localhost:8080/"
        },
        "id": "Wk4yh3_h_mMk",
        "outputId": "d3d209ae-e0da-4fc0-8957-52f2d3325397"
      },
      "source": [
        "#rest all params and Grid search initialization is same, hencr directly fitting the model with tfidf data\n",
        "\n",
        "clf.fit(x_tr_tfidf, y_train)"
      ],
      "execution_count": null,
      "outputs": [
        {
          "output_type": "execute_result",
          "data": {
            "text/plain": [
              "GridSearchCV(cv=3, error_score=nan,\n",
              "             estimator=MultinomialNB(alpha=1.0, class_prior=None,\n",
              "                                     fit_prior=True),\n",
              "             iid='deprecated', n_jobs=-1,\n",
              "             param_grid={'alpha': [1e-05, 0.0005, 0.0001, 0.005, 0.001, 0.05,\n",
              "                                   0.01, 0.1, 0.5, 1, 5, 10, 50, 100],\n",
              "                         'class_prior': [[0.5, 0.5], None]},\n",
              "             pre_dispatch='2*n_jobs', refit=True, return_train_score=True,\n",
              "             scoring='roc_auc', verbose=0)"
            ]
          },
          "metadata": {
            "tags": []
          },
          "execution_count": 31
        }
      ]
    },
    {
      "cell_type": "code",
      "metadata": {
        "id": "Z2Y8eN_l_mTC"
      },
      "source": [
        "results = pd.DataFrame.from_dict(clf.cv_results_)"
      ],
      "execution_count": null,
      "outputs": []
    },
    {
      "cell_type": "code",
      "metadata": {
        "colab": {
          "base_uri": "https://localhost:8080/",
          "height": 475
        },
        "id": "oEFkvVmC_mYe",
        "outputId": "624094c0-77c2-4db9-daf0-1ab66c5bbb01"
      },
      "source": [
        "results.head()"
      ],
      "execution_count": null,
      "outputs": [
        {
          "output_type": "execute_result",
          "data": {
            "text/html": [
              "<div>\n",
              "<style scoped>\n",
              "    .dataframe tbody tr th:only-of-type {\n",
              "        vertical-align: middle;\n",
              "    }\n",
              "\n",
              "    .dataframe tbody tr th {\n",
              "        vertical-align: top;\n",
              "    }\n",
              "\n",
              "    .dataframe thead th {\n",
              "        text-align: right;\n",
              "    }\n",
              "</style>\n",
              "<table border=\"1\" class=\"dataframe\">\n",
              "  <thead>\n",
              "    <tr style=\"text-align: right;\">\n",
              "      <th></th>\n",
              "      <th>mean_fit_time</th>\n",
              "      <th>std_fit_time</th>\n",
              "      <th>mean_score_time</th>\n",
              "      <th>std_score_time</th>\n",
              "      <th>param_alpha</th>\n",
              "      <th>param_class_prior</th>\n",
              "      <th>params</th>\n",
              "      <th>split0_test_score</th>\n",
              "      <th>split1_test_score</th>\n",
              "      <th>split2_test_score</th>\n",
              "      <th>mean_test_score</th>\n",
              "      <th>std_test_score</th>\n",
              "      <th>rank_test_score</th>\n",
              "      <th>split0_train_score</th>\n",
              "      <th>split1_train_score</th>\n",
              "      <th>split2_train_score</th>\n",
              "      <th>mean_train_score</th>\n",
              "      <th>std_train_score</th>\n",
              "    </tr>\n",
              "  </thead>\n",
              "  <tbody>\n",
              "    <tr>\n",
              "      <th>0</th>\n",
              "      <td>0.130386</td>\n",
              "      <td>0.020343</td>\n",
              "      <td>0.047452</td>\n",
              "      <td>0.006240</td>\n",
              "      <td>1e-05</td>\n",
              "      <td>[0.5, 0.5]</td>\n",
              "      <td>{'alpha': 1e-05, 'class_prior': [0.5, 0.5]}</td>\n",
              "      <td>0.640141</td>\n",
              "      <td>0.647871</td>\n",
              "      <td>0.643176</td>\n",
              "      <td>0.643730</td>\n",
              "      <td>0.003180</td>\n",
              "      <td>17</td>\n",
              "      <td>0.830679</td>\n",
              "      <td>0.831029</td>\n",
              "      <td>0.831070</td>\n",
              "      <td>0.830926</td>\n",
              "      <td>0.000176</td>\n",
              "    </tr>\n",
              "    <tr>\n",
              "      <th>1</th>\n",
              "      <td>0.110124</td>\n",
              "      <td>0.006038</td>\n",
              "      <td>0.044276</td>\n",
              "      <td>0.000826</td>\n",
              "      <td>1e-05</td>\n",
              "      <td>None</td>\n",
              "      <td>{'alpha': 1e-05, 'class_prior': None}</td>\n",
              "      <td>0.640141</td>\n",
              "      <td>0.647871</td>\n",
              "      <td>0.643176</td>\n",
              "      <td>0.643730</td>\n",
              "      <td>0.003180</td>\n",
              "      <td>17</td>\n",
              "      <td>0.830679</td>\n",
              "      <td>0.831029</td>\n",
              "      <td>0.831070</td>\n",
              "      <td>0.830926</td>\n",
              "      <td>0.000176</td>\n",
              "    </tr>\n",
              "    <tr>\n",
              "      <th>2</th>\n",
              "      <td>0.111623</td>\n",
              "      <td>0.005434</td>\n",
              "      <td>0.044616</td>\n",
              "      <td>0.001116</td>\n",
              "      <td>0.0005</td>\n",
              "      <td>[0.5, 0.5]</td>\n",
              "      <td>{'alpha': 0.0005, 'class_prior': [0.5, 0.5]}</td>\n",
              "      <td>0.653257</td>\n",
              "      <td>0.660694</td>\n",
              "      <td>0.654959</td>\n",
              "      <td>0.656303</td>\n",
              "      <td>0.003182</td>\n",
              "      <td>11</td>\n",
              "      <td>0.825197</td>\n",
              "      <td>0.825049</td>\n",
              "      <td>0.825792</td>\n",
              "      <td>0.825346</td>\n",
              "      <td>0.000321</td>\n",
              "    </tr>\n",
              "    <tr>\n",
              "      <th>3</th>\n",
              "      <td>0.110976</td>\n",
              "      <td>0.004130</td>\n",
              "      <td>0.044926</td>\n",
              "      <td>0.001059</td>\n",
              "      <td>0.0005</td>\n",
              "      <td>None</td>\n",
              "      <td>{'alpha': 0.0005, 'class_prior': None}</td>\n",
              "      <td>0.653257</td>\n",
              "      <td>0.660694</td>\n",
              "      <td>0.654959</td>\n",
              "      <td>0.656303</td>\n",
              "      <td>0.003182</td>\n",
              "      <td>11</td>\n",
              "      <td>0.825197</td>\n",
              "      <td>0.825049</td>\n",
              "      <td>0.825792</td>\n",
              "      <td>0.825346</td>\n",
              "      <td>0.000321</td>\n",
              "    </tr>\n",
              "    <tr>\n",
              "      <th>4</th>\n",
              "      <td>0.110860</td>\n",
              "      <td>0.008554</td>\n",
              "      <td>0.045138</td>\n",
              "      <td>0.000322</td>\n",
              "      <td>0.0001</td>\n",
              "      <td>[0.5, 0.5]</td>\n",
              "      <td>{'alpha': 0.0001, 'class_prior': [0.5, 0.5]}</td>\n",
              "      <td>0.646869</td>\n",
              "      <td>0.654711</td>\n",
              "      <td>0.649249</td>\n",
              "      <td>0.650276</td>\n",
              "      <td>0.003283</td>\n",
              "      <td>13</td>\n",
              "      <td>0.828262</td>\n",
              "      <td>0.828360</td>\n",
              "      <td>0.828727</td>\n",
              "      <td>0.828450</td>\n",
              "      <td>0.000200</td>\n",
              "    </tr>\n",
              "  </tbody>\n",
              "</table>\n",
              "</div>"
            ],
            "text/plain": [
              "   mean_fit_time  std_fit_time  ...  mean_train_score  std_train_score\n",
              "0       0.130386      0.020343  ...          0.830926         0.000176\n",
              "1       0.110124      0.006038  ...          0.830926         0.000176\n",
              "2       0.111623      0.005434  ...          0.825346         0.000321\n",
              "3       0.110976      0.004130  ...          0.825346         0.000321\n",
              "4       0.110860      0.008554  ...          0.828450         0.000200\n",
              "\n",
              "[5 rows x 18 columns]"
            ]
          },
          "metadata": {
            "tags": []
          },
          "execution_count": 33
        }
      ]
    },
    {
      "cell_type": "code",
      "metadata": {
        "colab": {
          "base_uri": "https://localhost:8080/"
        },
        "id": "THNUPpb9_mgM",
        "outputId": "9db55c4e-d1f9-43c9-ab10-98cc95363a63"
      },
      "source": [
        "print(clf.best_params_)\n",
        "print(clf.best_score_)"
      ],
      "execution_count": null,
      "outputs": [
        {
          "output_type": "stream",
          "text": [
            "{'alpha': 0.05, 'class_prior': [0.5, 0.5]}\n",
            "0.6733712865198728\n"
          ],
          "name": "stdout"
        }
      ]
    },
    {
      "cell_type": "code",
      "metadata": {
        "id": "lLDIN1hs_mk1"
      },
      "source": [
        ""
      ],
      "execution_count": null,
      "outputs": []
    },
    {
      "cell_type": "code",
      "metadata": {
        "colab": {
          "base_uri": "https://localhost:8080/",
          "height": 312
        },
        "id": "4YqIY3LK_mqL",
        "outputId": "a8ee89e8-e072-4233-86ff-dd9b6d362dd7"
      },
      "source": [
        "plot_graph(results)"
      ],
      "execution_count": null,
      "outputs": [
        {
          "output_type": "stream",
          "text": [
            "0.6733712865198728\n"
          ],
          "name": "stdout"
        },
        {
          "output_type": "display_data",
          "data": {
            "image/png": "[encoded data removed]",
            "text/plain": [
              "<Figure size 432x288 with 1 Axes>"
            ]
          },
          "metadata": {
            "tags": [],
            "needs_background": "light"
          }
        }
      ]
    },
    {
      "cell_type": "code",
      "metadata": {
        "id": "t9TqOrv5_mxw"
      },
      "source": [
        "mnb_tfidf = MultinomialNB(alpha=clf.best_params_['alpha'],class_prior=clf.best_params_['class_prior'])"
      ],
      "execution_count": null,
      "outputs": []
    },
    {
      "cell_type": "code",
      "metadata": {
        "id": "v0qZHJFvOvJJ"
      },
      "source": [
        "mnb_tfidf = MultinomialNB(alpha=0.05,class_prior=[0.5,0.5])"
      ],
      "execution_count": null,
      "outputs": []
    },
    {
      "cell_type": "code",
      "metadata": {
        "colab": {
          "base_uri": "https://localhost:8080/"
        },
        "id": "-FpNP_7e_m2L",
        "outputId": "29e47edf-44a6-4f1b-9472-6a47f51b704d"
      },
      "source": [
        "mnb_tfidf.fit(x_tr_tfidf,y_train)"
      ],
      "execution_count": null,
      "outputs": [
        {
          "output_type": "execute_result",
          "data": {
            "text/plain": [
              "MultinomialNB(alpha=0.05, class_prior=[0.5, 0.5], fit_prior=True)"
            ]
          },
          "metadata": {},
          "execution_count": 29
        }
      ]
    },
    {
      "cell_type": "code",
      "metadata": {
        "id": "YMKacTKJ_m7y"
      },
      "source": [
        "y_train_pred_tfidf = []\n",
        "y_test_pred_tfidf = []\n",
        "y_train_pred_tfidf = mnb_tfidf.predict_proba(x_tr_tfidf)[:,1]\n",
        "y_test_pred_tfidf = mnb_tfidf.predict_proba(x_te_tfidf)[:,1]"
      ],
      "execution_count": null,
      "outputs": []
    },
    {
      "cell_type": "code",
      "metadata": {
        "id": "9Ueb4BPM_nCb"
      },
      "source": [
        "test_fpr, test_tpr, te_thresholds = roc_curve(y_test, y_test_pred_tfidf)\n"
      ],
      "execution_count": null,
      "outputs": []
    },
    {
      "cell_type": "code",
      "metadata": {
        "id": "hmoJASqUPMYF"
      },
      "source": [
        "pt.add_row('TFIDF','MNB',f'{clf.best_params_}',auc(test_fpr, test_tpr))"
      ],
      "execution_count": null,
      "outputs": []
    },
    {
      "cell_type": "code",
      "metadata": {
        "id": "jg5RWce5PNBC"
      },
      "source": [
        "# pt.add_row(['TFIDF','MNB','alpha: 0.05, class_prior:[0.5,0.5]',auc(test_fpr, test_tpr)])"
      ],
      "execution_count": null,
      "outputs": []
    },
    {
      "cell_type": "code",
      "metadata": {
        "colab": {
          "base_uri": "https://localhost:8080/",
          "height": 295
        },
        "id": "pxxjx182_nH_",
        "outputId": "b109fa97-aa5f-496a-8258-098cc8e956f7"
      },
      "source": [
        "plot_roc_auc(y_train,y_test,y_train_pred_tfidf,y_test_pred_tfidf)"
      ],
      "execution_count": null,
      "outputs": [
        {
          "output_type": "display_data",
          "data": {
            "image/png": "[encoded data removed]",
            "text/plain": [
              "<Figure size 432x288 with 1 Axes>"
            ]
          },
          "metadata": {
            "tags": [],
            "needs_background": "light"
          }
        }
      ]
    },
    {
      "cell_type": "code",
      "metadata": {
        "colab": {
          "base_uri": "https://localhost:8080/",
          "height": 282
        },
        "id": "UgpK5dn1_nPb",
        "outputId": "d53dbbb3-2bd4-4edf-ba4e-378019109075"
      },
      "source": [
        "#Confusion matrix\n",
        "y_test_pred_tfidf_class = mnb_tfidf.predict(x_te_tfidf)\n",
        "conf_matrix_tfidf = confusion_matrix(y_test,y_test_pred_tfidf_class)\n",
        "\n",
        "sns.heatmap(conf_matrix_tfidf,annot=True,fmt=\"d\",cmap='Blues')"
      ],
      "execution_count": null,
      "outputs": [
        {
          "output_type": "execute_result",
          "data": {
            "text/plain": [
              "<matplotlib.axes._subplots.AxesSubplot at 0x7f1844e9dd10>"
            ]
          },
          "metadata": {
            "tags": []
          },
          "execution_count": 68
        },
        {
          "output_type": "display_data",
          "data": {
            "image/png": "[encoded data removed]",
            "text/plain": [
              "<Figure size 432x288 with 2 Axes>"
            ]
          },
          "metadata": {
            "tags": [],
            "needs_background": "light"
          }
        }
      ]
    },
    {
      "cell_type": "markdown",
      "metadata": {
        "id": "crJ6FOpHGZOj"
      },
      "source": [
        "##MODEL - III - BOW w/ ngrams "
      ]
    },
    {
      "cell_type": "code",
      "metadata": {
        "id": "8LuXzQpv_nT1"
      },
      "source": [
        "x_tr_bow_1 = hstack(( x_train_state, x_train_teacher, x_train_grade, x_train_clean_sub,x_train_clean,x_train_price.T,x_train_teacher_ppp.T,x_tr_essay_bow_1)).tocsr()\n",
        "x_te_bow_1 = hstack(( x_test_state, x_test_teacher, x_test_grade, x_test_clean_sub,x_test_clean,x_test_price.T,x_test_teacher_ppp.T,x_te_essay_bow_1)).tocsr()\n"
      ],
      "execution_count": null,
      "outputs": []
    },
    {
      "cell_type": "code",
      "metadata": {
        "id": "oZBqt0UfJEGn"
      },
      "source": [
        "#rest all params and Grid search initialization is same, hencr directly fitting the model with tfidf data\n",
        "\n",
        "clf.fit(x_tr_bow_1, y_train)    \n"
      ],
      "execution_count": null,
      "outputs": []
    },
    {
      "cell_type": "code",
      "metadata": {
        "id": "p8nU0rghQKp4"
      },
      "source": [
        ""
      ],
      "execution_count": null,
      "outputs": []
    },
    {
      "cell_type": "code",
      "metadata": {
        "id": "4uBuIv4AJENo"
      },
      "source": [
        "results = pd.DataFrame.from_dict(clf.cv_results_)"
      ],
      "execution_count": null,
      "outputs": []
    },
    {
      "cell_type": "code",
      "metadata": {
        "colab": {
          "base_uri": "https://localhost:8080/",
          "height": 475
        },
        "id": "CEiTPQ9CJET9",
        "outputId": "0256bcb2-10c4-40f2-f4ab-9e3a58a3ecb5"
      },
      "source": [
        "results.head()"
      ],
      "execution_count": null,
      "outputs": [
        {
          "output_type": "execute_result",
          "data": {
            "text/html": [
              "<div>\n",
              "<style scoped>\n",
              "    .dataframe tbody tr th:only-of-type {\n",
              "        vertical-align: middle;\n",
              "    }\n",
              "\n",
              "    .dataframe tbody tr th {\n",
              "        vertical-align: top;\n",
              "    }\n",
              "\n",
              "    .dataframe thead th {\n",
              "        text-align: right;\n",
              "    }\n",
              "</style>\n",
              "<table border=\"1\" class=\"dataframe\">\n",
              "  <thead>\n",
              "    <tr style=\"text-align: right;\">\n",
              "      <th></th>\n",
              "      <th>mean_fit_time</th>\n",
              "      <th>std_fit_time</th>\n",
              "      <th>mean_score_time</th>\n",
              "      <th>std_score_time</th>\n",
              "      <th>param_alpha</th>\n",
              "      <th>param_class_prior</th>\n",
              "      <th>params</th>\n",
              "      <th>split0_test_score</th>\n",
              "      <th>split1_test_score</th>\n",
              "      <th>split2_test_score</th>\n",
              "      <th>mean_test_score</th>\n",
              "      <th>std_test_score</th>\n",
              "      <th>rank_test_score</th>\n",
              "      <th>split0_train_score</th>\n",
              "      <th>split1_train_score</th>\n",
              "      <th>split2_train_score</th>\n",
              "      <th>mean_train_score</th>\n",
              "      <th>std_train_score</th>\n",
              "    </tr>\n",
              "  </thead>\n",
              "  <tbody>\n",
              "    <tr>\n",
              "      <th>0</th>\n",
              "      <td>0.159992</td>\n",
              "      <td>0.028290</td>\n",
              "      <td>0.045532</td>\n",
              "      <td>0.000578</td>\n",
              "      <td>1e-05</td>\n",
              "      <td>[0.5, 0.5]</td>\n",
              "      <td>{'alpha': 1e-05, 'class_prior': [0.5, 0.5]}</td>\n",
              "      <td>0.679645</td>\n",
              "      <td>0.68879</td>\n",
              "      <td>0.684747</td>\n",
              "      <td>0.684394</td>\n",
              "      <td>0.003742</td>\n",
              "      <td>5</td>\n",
              "      <td>0.710209</td>\n",
              "      <td>0.705612</td>\n",
              "      <td>0.70984</td>\n",
              "      <td>0.708554</td>\n",
              "      <td>0.002086</td>\n",
              "    </tr>\n",
              "    <tr>\n",
              "      <th>1</th>\n",
              "      <td>0.120678</td>\n",
              "      <td>0.003788</td>\n",
              "      <td>0.047276</td>\n",
              "      <td>0.003406</td>\n",
              "      <td>1e-05</td>\n",
              "      <td>None</td>\n",
              "      <td>{'alpha': 1e-05, 'class_prior': None}</td>\n",
              "      <td>0.679646</td>\n",
              "      <td>0.68879</td>\n",
              "      <td>0.684747</td>\n",
              "      <td>0.684394</td>\n",
              "      <td>0.003742</td>\n",
              "      <td>2</td>\n",
              "      <td>0.710209</td>\n",
              "      <td>0.705612</td>\n",
              "      <td>0.70984</td>\n",
              "      <td>0.708554</td>\n",
              "      <td>0.002085</td>\n",
              "    </tr>\n",
              "    <tr>\n",
              "      <th>2</th>\n",
              "      <td>0.117748</td>\n",
              "      <td>0.007289</td>\n",
              "      <td>0.044521</td>\n",
              "      <td>0.000797</td>\n",
              "      <td>0.0005</td>\n",
              "      <td>[0.5, 0.5]</td>\n",
              "      <td>{'alpha': 0.0005, 'class_prior': [0.5, 0.5]}</td>\n",
              "      <td>0.679645</td>\n",
              "      <td>0.68879</td>\n",
              "      <td>0.684747</td>\n",
              "      <td>0.684394</td>\n",
              "      <td>0.003742</td>\n",
              "      <td>6</td>\n",
              "      <td>0.710209</td>\n",
              "      <td>0.705612</td>\n",
              "      <td>0.70984</td>\n",
              "      <td>0.708554</td>\n",
              "      <td>0.002085</td>\n",
              "    </tr>\n",
              "    <tr>\n",
              "      <th>3</th>\n",
              "      <td>0.112221</td>\n",
              "      <td>0.001487</td>\n",
              "      <td>0.044418</td>\n",
              "      <td>0.000678</td>\n",
              "      <td>0.0005</td>\n",
              "      <td>None</td>\n",
              "      <td>{'alpha': 0.0005, 'class_prior': None}</td>\n",
              "      <td>0.679645</td>\n",
              "      <td>0.68879</td>\n",
              "      <td>0.684747</td>\n",
              "      <td>0.684394</td>\n",
              "      <td>0.003742</td>\n",
              "      <td>3</td>\n",
              "      <td>0.710209</td>\n",
              "      <td>0.705612</td>\n",
              "      <td>0.70984</td>\n",
              "      <td>0.708554</td>\n",
              "      <td>0.002085</td>\n",
              "    </tr>\n",
              "    <tr>\n",
              "      <th>4</th>\n",
              "      <td>0.107492</td>\n",
              "      <td>0.000633</td>\n",
              "      <td>0.045846</td>\n",
              "      <td>0.001007</td>\n",
              "      <td>0.0001</td>\n",
              "      <td>[0.5, 0.5]</td>\n",
              "      <td>{'alpha': 0.0001, 'class_prior': [0.5, 0.5]}</td>\n",
              "      <td>0.679645</td>\n",
              "      <td>0.68879</td>\n",
              "      <td>0.684747</td>\n",
              "      <td>0.684394</td>\n",
              "      <td>0.003742</td>\n",
              "      <td>4</td>\n",
              "      <td>0.710209</td>\n",
              "      <td>0.705612</td>\n",
              "      <td>0.70984</td>\n",
              "      <td>0.708554</td>\n",
              "      <td>0.002085</td>\n",
              "    </tr>\n",
              "  </tbody>\n",
              "</table>\n",
              "</div>"
            ],
            "text/plain": [
              "   mean_fit_time  std_fit_time  ...  mean_train_score  std_train_score\n",
              "0       0.159992      0.028290  ...          0.708554         0.002086\n",
              "1       0.120678      0.003788  ...          0.708554         0.002085\n",
              "2       0.117748      0.007289  ...          0.708554         0.002085\n",
              "3       0.112221      0.001487  ...          0.708554         0.002085\n",
              "4       0.107492      0.000633  ...          0.708554         0.002085\n",
              "\n",
              "[5 rows x 18 columns]"
            ]
          },
          "metadata": {
            "tags": []
          },
          "execution_count": 48
        }
      ]
    },
    {
      "cell_type": "code",
      "metadata": {
        "colab": {
          "base_uri": "https://localhost:8080/"
        },
        "id": "ykSq68m1JEZX",
        "outputId": "24cd95a4-9f46-4bab-ff64-28e36b04c07c"
      },
      "source": [
        "print(clf.best_params_)\n",
        "print(clf.best_score_)"
      ],
      "execution_count": null,
      "outputs": [
        {
          "output_type": "stream",
          "text": [
            "{'alpha': 0.0001, 'class_prior': None}\n",
            "0.6843943150689302\n"
          ],
          "name": "stdout"
        }
      ]
    },
    {
      "cell_type": "code",
      "metadata": {
        "colab": {
          "base_uri": "https://localhost:8080/",
          "height": 312
        },
        "id": "kK-owVa4JEgI",
        "outputId": "6e18aed7-3a4c-461f-a85a-1777796ff69b"
      },
      "source": [
        "plot_graph(results)"
      ],
      "execution_count": null,
      "outputs": [
        {
          "output_type": "stream",
          "text": [
            "0.6843943150689302\n"
          ],
          "name": "stdout"
        },
        {
          "output_type": "display_data",
          "data": {
            "image/png": "[encoded data removed]",
            "text/plain": [
              "<Figure size 432x288 with 1 Axes>"
            ]
          },
          "metadata": {
            "tags": [],
            "needs_background": "light"
          }
        }
      ]
    },
    {
      "cell_type": "code",
      "metadata": {
        "id": "4LjnacBjQ31M"
      },
      "source": [
        "mnb_bow_1 = MultinomialNB(alpha=clf.best_params_['alpha'],class_prior=clf.best_params_['class_prior'])"
      ],
      "execution_count": null,
      "outputs": []
    },
    {
      "cell_type": "code",
      "metadata": {
        "id": "Gj_jRPYFJEoA"
      },
      "source": [
        "mnb_bow_1 = MultinomialNB(alpha=0.0001,class_prior=None)"
      ],
      "execution_count": null,
      "outputs": []
    },
    {
      "cell_type": "code",
      "metadata": {
        "colab": {
          "base_uri": "https://localhost:8080/"
        },
        "id": "7mkLKx0XJqIj",
        "outputId": "ab995c3d-f3f5-4043-9e28-58e9a54c9aa2"
      },
      "source": [
        "mnb_bow_1.fit(x_tr_bow_1,y_train)"
      ],
      "execution_count": null,
      "outputs": [
        {
          "output_type": "execute_result",
          "data": {
            "text/plain": [
              "MultinomialNB(alpha=0.0001, class_prior=None, fit_prior=True)"
            ]
          },
          "metadata": {},
          "execution_count": 34
        }
      ]
    },
    {
      "cell_type": "code",
      "metadata": {
        "id": "LpDJFW5JJqOF"
      },
      "source": [
        "y_train_pred_bow_1 = []\n",
        "y_test_pred_bow_1 = []\n",
        "y_train_pred_bow_1 = mnb_bow_1.predict_proba(x_tr_bow_1)[:,1]\n",
        "y_test_pred_bow_1 = mnb_bow_1.predict_proba(x_te_bow_1)[:,1]"
      ],
      "execution_count": null,
      "outputs": []
    },
    {
      "cell_type": "code",
      "metadata": {
        "id": "eWb8ZIpFPn7e"
      },
      "source": [
        "test_fpr, test_tpr, te_thresholds = roc_curve(y_test, y_test_pred_bow_1)"
      ],
      "execution_count": null,
      "outputs": []
    },
    {
      "cell_type": "code",
      "metadata": {
        "id": "BpUO5-RaPoD1"
      },
      "source": [
        "pt.add_row('BOW w/params','MNB',f'{clf.best_params_}',auc(test_fpr, test_tpr))"
      ],
      "execution_count": null,
      "outputs": []
    },
    {
      "cell_type": "code",
      "metadata": {
        "id": "RbwCtk6cPoPh"
      },
      "source": [
        "# pt.add_row(['BOW w/params','MNB','alpha: 0.0001, class_prior:None',auc(test_fpr, test_tpr)])"
      ],
      "execution_count": null,
      "outputs": []
    },
    {
      "cell_type": "code",
      "metadata": {
        "colab": {
          "base_uri": "https://localhost:8080/",
          "height": 295
        },
        "id": "TQAtYKemJqWP",
        "outputId": "779f3747-d538-44cd-b52d-39041f299c1e"
      },
      "source": [
        "plot_roc_auc(y_train,y_test,y_train_pred_bow_1,y_test_pred_bow_1)"
      ],
      "execution_count": null,
      "outputs": [
        {
          "output_type": "display_data",
          "data": {
            "image/png": "[encoded data removed]",
            "text/plain": [
              "<Figure size 432x288 with 1 Axes>"
            ]
          },
          "metadata": {
            "tags": [],
            "needs_background": "light"
          }
        }
      ]
    },
    {
      "cell_type": "code",
      "metadata": {
        "colab": {
          "base_uri": "https://localhost:8080/",
          "height": 282
        },
        "id": "SCuff07EAYR5",
        "outputId": "0de63230-6450-488e-f3ce-230a765a9514"
      },
      "source": [
        "#Confusion matrix\n",
        "y_test_pred_bow_class_1 = mnb_bow_1.predict(x_te_bow_1)\n",
        "conf_matrix_bow_1 = confusion_matrix(y_test,y_test_pred_bow_class_1)\n",
        "\n",
        "sns.heatmap(conf_matrix_bow_1,annot=True,fmt=\"d\",cmap='Blues')"
      ],
      "execution_count": null,
      "outputs": [
        {
          "output_type": "execute_result",
          "data": {
            "text/plain": [
              "<matplotlib.axes._subplots.AxesSubplot at 0x7f1840a0fc90>"
            ]
          },
          "metadata": {
            "tags": []
          },
          "execution_count": 69
        },
        {
          "output_type": "display_data",
          "data": {
            "image/png": "[encoded data removed]",
            "text/plain": [
              "<Figure size 432x288 with 2 Axes>"
            ]
          },
          "metadata": {
            "tags": [],
            "needs_background": "light"
          }
        }
      ]
    },
    {
      "cell_type": "markdown",
      "metadata": {
        "id": "DKRxA4y7LYqZ"
      },
      "source": [
        "##MODEL - IV - TFIDF w/ ngrams"
      ]
    },
    {
      "cell_type": "code",
      "metadata": {
        "id": "gwifHKORLdZB"
      },
      "source": [
        "x_tr_tfidf_1 = hstack(( x_train_state, x_train_teacher, x_train_grade, x_train_clean_sub,x_train_clean,x_train_price.T,x_train_teacher_ppp.T,x_tr_essay_tfidf_1)).tocsr()\n",
        "x_te_tfidf_1 = hstack(( x_test_state, x_test_teacher, x_test_grade, x_test_clean_sub,x_test_clean,x_test_price.T,x_test_teacher_ppp.T,x_te_essay_tfidf_1)).tocsr()\n"
      ],
      "execution_count": null,
      "outputs": []
    },
    {
      "cell_type": "code",
      "metadata": {
        "colab": {
          "base_uri": "https://localhost:8080/"
        },
        "id": "rvatqiInMUQ0",
        "outputId": "d5d2fb68-9fc6-4bdb-f9c5-dcdb747b12fb"
      },
      "source": [
        "clf.fit(x_tr_tfidf_1, y_train)"
      ],
      "execution_count": null,
      "outputs": [
        {
          "output_type": "execute_result",
          "data": {
            "text/plain": [
              "GridSearchCV(cv=3, error_score=nan,\n",
              "             estimator=MultinomialNB(alpha=1.0, class_prior=None,\n",
              "                                     fit_prior=True),\n",
              "             iid='deprecated', n_jobs=-1,\n",
              "             param_grid={'alpha': [1e-05, 0.0005, 0.0001, 0.005, 0.001, 0.05,\n",
              "                                   0.01, 0.1, 0.5, 1, 5, 10, 50, 100],\n",
              "                         'class_prior': [[0.5, 0.5], None]},\n",
              "             pre_dispatch='2*n_jobs', refit=True, return_train_score=True,\n",
              "             scoring='roc_auc', verbose=0)"
            ]
          },
          "metadata": {
            "tags": []
          },
          "execution_count": 58
        }
      ]
    },
    {
      "cell_type": "code",
      "metadata": {
        "id": "4XbDdFNVMUYr"
      },
      "source": [
        "results = pd.DataFrame.from_dict(clf.cv_results_)"
      ],
      "execution_count": null,
      "outputs": []
    },
    {
      "cell_type": "code",
      "metadata": {
        "colab": {
          "base_uri": "https://localhost:8080/",
          "height": 150
        },
        "id": "rdsl2j_fMUiL",
        "outputId": "db3a2a2c-e396-430e-c4ca-3363418e6455"
      },
      "source": [
        "results.head(1)"
      ],
      "execution_count": null,
      "outputs": [
        {
          "output_type": "execute_result",
          "data": {
            "text/html": [
              "<div>\n",
              "<style scoped>\n",
              "    .dataframe tbody tr th:only-of-type {\n",
              "        vertical-align: middle;\n",
              "    }\n",
              "\n",
              "    .dataframe tbody tr th {\n",
              "        vertical-align: top;\n",
              "    }\n",
              "\n",
              "    .dataframe thead th {\n",
              "        text-align: right;\n",
              "    }\n",
              "</style>\n",
              "<table border=\"1\" class=\"dataframe\">\n",
              "  <thead>\n",
              "    <tr style=\"text-align: right;\">\n",
              "      <th></th>\n",
              "      <th>mean_fit_time</th>\n",
              "      <th>std_fit_time</th>\n",
              "      <th>mean_score_time</th>\n",
              "      <th>std_score_time</th>\n",
              "      <th>param_alpha</th>\n",
              "      <th>param_class_prior</th>\n",
              "      <th>params</th>\n",
              "      <th>split0_test_score</th>\n",
              "      <th>split1_test_score</th>\n",
              "      <th>split2_test_score</th>\n",
              "      <th>mean_test_score</th>\n",
              "      <th>std_test_score</th>\n",
              "      <th>rank_test_score</th>\n",
              "      <th>split0_train_score</th>\n",
              "      <th>split1_train_score</th>\n",
              "      <th>split2_train_score</th>\n",
              "      <th>mean_train_score</th>\n",
              "      <th>std_train_score</th>\n",
              "    </tr>\n",
              "  </thead>\n",
              "  <tbody>\n",
              "    <tr>\n",
              "      <th>0</th>\n",
              "      <td>0.144841</td>\n",
              "      <td>0.009802</td>\n",
              "      <td>0.049042</td>\n",
              "      <td>0.003712</td>\n",
              "      <td>1e-05</td>\n",
              "      <td>[0.5, 0.5]</td>\n",
              "      <td>{'alpha': 1e-05, 'class_prior': [0.5, 0.5]}</td>\n",
              "      <td>0.656541</td>\n",
              "      <td>0.662548</td>\n",
              "      <td>0.660945</td>\n",
              "      <td>0.660011</td>\n",
              "      <td>0.00254</td>\n",
              "      <td>1</td>\n",
              "      <td>0.686835</td>\n",
              "      <td>0.682183</td>\n",
              "      <td>0.688029</td>\n",
              "      <td>0.685682</td>\n",
              "      <td>0.002522</td>\n",
              "    </tr>\n",
              "  </tbody>\n",
              "</table>\n",
              "</div>"
            ],
            "text/plain": [
              "   mean_fit_time  std_fit_time  ...  mean_train_score  std_train_score\n",
              "0       0.144841      0.009802  ...          0.685682         0.002522\n",
              "\n",
              "[1 rows x 18 columns]"
            ]
          },
          "metadata": {
            "tags": []
          },
          "execution_count": 60
        }
      ]
    },
    {
      "cell_type": "code",
      "metadata": {
        "colab": {
          "base_uri": "https://localhost:8080/"
        },
        "id": "Nly-RGCbMUqp",
        "outputId": "914264dc-9c11-423f-ff2b-9792e3e6cf73"
      },
      "source": [
        "print(clf.best_params_)\n",
        "print(clf.best_score_)"
      ],
      "execution_count": null,
      "outputs": [
        {
          "output_type": "stream",
          "text": [
            "{'alpha': 1e-05, 'class_prior': [0.5, 0.5]}\n",
            "0.6600113445488116\n"
          ],
          "name": "stdout"
        }
      ]
    },
    {
      "cell_type": "code",
      "metadata": {
        "colab": {
          "base_uri": "https://localhost:8080/",
          "height": 312
        },
        "id": "-Z_8TVy0MUzW",
        "outputId": "b137e828-5b91-49e9-95cc-3c448691f94a"
      },
      "source": [
        "plot_graph(results)"
      ],
      "execution_count": null,
      "outputs": [
        {
          "output_type": "stream",
          "text": [
            "0.6600113445488116\n"
          ],
          "name": "stdout"
        },
        {
          "output_type": "display_data",
          "data": {
            "image/png": "[encoded data removed]",
            "text/plain": [
              "<Figure size 432x288 with 1 Axes>"
            ]
          },
          "metadata": {
            "tags": [],
            "needs_background": "light"
          }
        }
      ]
    },
    {
      "cell_type": "code",
      "metadata": {
        "id": "L79z9v-CMU4Y"
      },
      "source": [
        "mnb_tfidf_1 = MultinomialNB(alpha=clf.best_params_['alpha'],class_prior=clf.best_params_['class_prior'])"
      ],
      "execution_count": null,
      "outputs": []
    },
    {
      "cell_type": "code",
      "metadata": {
        "id": "pAVUEvvhQK5F"
      },
      "source": [
        "mnb_tfidf_1 = MultinomialNB(alpha=0.00001,class_prior=[0.5,0.5])"
      ],
      "execution_count": null,
      "outputs": []
    },
    {
      "cell_type": "code",
      "metadata": {
        "colab": {
          "base_uri": "https://localhost:8080/"
        },
        "id": "HSU6ovgtMVA0",
        "outputId": "09f94322-c96a-44ba-9ca6-5c68d48a5993"
      },
      "source": [
        "mnb_tfidf_1.fit(x_tr_tfidf_1,y_train)"
      ],
      "execution_count": null,
      "outputs": [
        {
          "output_type": "execute_result",
          "data": {
            "text/plain": [
              "MultinomialNB(alpha=1e-05, class_prior=[0.5, 0.5], fit_prior=True)"
            ]
          },
          "metadata": {},
          "execution_count": 41
        }
      ]
    },
    {
      "cell_type": "code",
      "metadata": {
        "id": "9xvh9h4EMVFb"
      },
      "source": [
        "y_train_pred_tfidf_1 = []\n",
        "y_test_pred_tfidf_1 = []\n",
        "y_train_pred_tfidf_1 = mnb_tfidf_1.predict_proba(x_tr_tfidf_1)[:,1]\n",
        "y_test_pred_tfidf_1 = mnb_tfidf_1.predict_proba(x_te_tfidf_1)[:,1]"
      ],
      "execution_count": null,
      "outputs": []
    },
    {
      "cell_type": "code",
      "metadata": {
        "id": "snVVO4qkQa4c"
      },
      "source": [
        "test_fpr, test_tpr, te_thresholds = roc_curve(y_test, y_test_pred_tfidf_1)"
      ],
      "execution_count": null,
      "outputs": []
    },
    {
      "cell_type": "code",
      "metadata": {
        "id": "5ewpUDeYQmBX"
      },
      "source": [
        "pt.add_row('TFIDF w/params','MNB',f'{clf.best_params_}',auc(test_fpr, test_tpr))"
      ],
      "execution_count": null,
      "outputs": []
    },
    {
      "cell_type": "code",
      "metadata": {
        "id": "z0rNjn1pQmBX"
      },
      "source": [
        "# pt.add_row(['TFIDF w/params','MNB','alpha: 0.00001, class_prior:[0.5,0.5]',auc(test_fpr, test_tpr)])"
      ],
      "execution_count": null,
      "outputs": []
    },
    {
      "cell_type": "code",
      "metadata": {
        "id": "85_i73SaQbE7"
      },
      "source": [
        ""
      ],
      "execution_count": null,
      "outputs": []
    },
    {
      "cell_type": "code",
      "metadata": {
        "id": "TCXkDZzuQbWg"
      },
      "source": [
        ""
      ],
      "execution_count": null,
      "outputs": []
    },
    {
      "cell_type": "code",
      "metadata": {
        "colab": {
          "base_uri": "https://localhost:8080/",
          "height": 295
        },
        "id": "AwcZtenRXWMi",
        "outputId": "866bb80f-1f4a-4493-ece1-acddbd112055"
      },
      "source": [
        "plot_roc_auc(y_train,y_test,y_train_pred_tfidf_1,y_test_pred_tfidf_1)"
      ],
      "execution_count": null,
      "outputs": [
        {
          "output_type": "display_data",
          "data": {
            "image/png": "[encoded data removed]",
            "text/plain": [
              "<Figure size 432x288 with 1 Axes>"
            ]
          },
          "metadata": {
            "tags": [],
            "needs_background": "light"
          }
        }
      ]
    },
    {
      "cell_type": "code",
      "metadata": {
        "colab": {
          "base_uri": "https://localhost:8080/",
          "height": 282
        },
        "id": "0EG9btl5AlHO",
        "outputId": "aaf0a63d-4e77-4420-be2f-21cb05f43801"
      },
      "source": [
        "#Confusion matrix\n",
        "y_test_pred_tfidf_class_1 = mnb_tfidf_1.predict(x_te_tfidf_1)\n",
        "conf_matrix_tfidf_1 = confusion_matrix(y_test,y_test_pred_tfidf_class_1)\n",
        "\n",
        "sns.heatmap(conf_matrix_tfidf_1,annot=True,fmt=\"d\",cmap='Blues')"
      ],
      "execution_count": null,
      "outputs": [
        {
          "output_type": "execute_result",
          "data": {
            "text/plain": [
              "<matplotlib.axes._subplots.AxesSubplot at 0x7f1832572b90>"
            ]
          },
          "metadata": {
            "tags": []
          },
          "execution_count": 70
        },
        {
          "output_type": "display_data",
          "data": {
            "image/png": "[encoded data removed]",
            "text/plain": [
              "<Figure size 432x288 with 2 Axes>"
            ]
          },
          "metadata": {
            "tags": [],
            "needs_background": "light"
          }
        }
      ]
    },
    {
      "cell_type": "markdown",
      "metadata": {
        "id": "lS9hIHdib3dp"
      },
      "source": [
        "<h1>3. Summary</h1>\n",
        "\n",
        "<br> as mentioned in the step 5 of instructions"
      ]
    },
    {
      "cell_type": "markdown",
      "metadata": {
        "id": "vhe_LzzZSA8p"
      },
      "source": [
        "#Top 20 features of BOW model w/ ngrams"
      ]
    },
    {
      "cell_type": "code",
      "metadata": {
        "id": "73EdDQJsRHFW"
      },
      "source": [
        "top_20_features = np.sort(mnb_bow_1.feature_log_prob_[1])"
      ],
      "execution_count": null,
      "outputs": []
    },
    {
      "cell_type": "code",
      "metadata": {
        "colab": {
          "base_uri": "https://localhost:8080/"
        },
        "id": "rgDJ3IbhRpaM",
        "outputId": "4eb0522f-4b37-419e-8ea1-be23118567a2"
      },
      "source": [
        "top_20_features[::-1][:20]"
      ],
      "execution_count": null,
      "outputs": [
        {
          "output_type": "execute_result",
          "data": {
            "text/plain": [
              "array([-3.08617726, -4.23543489, -4.54107962, -4.58970693, -4.61905127,\n",
              "       -4.84692181, -4.88747159, -4.8881258 , -4.91634044, -4.93491638,\n",
              "       -4.96569078, -5.10342267, -5.12757793, -5.16505156, -5.23783517,\n",
              "       -5.24149626, -5.24348082, -5.29130996, -5.39929495, -5.41913008])"
            ]
          },
          "metadata": {},
          "execution_count": 38
        }
      ]
    },
    {
      "cell_type": "markdown",
      "metadata": {
        "id": "z5MJ6hswSaPR"
      },
      "source": [
        "#Pretty table"
      ]
    },
    {
      "cell_type": "code",
      "metadata": {
        "colab": {
          "base_uri": "https://localhost:8080/"
        },
        "id": "QVm4zJd6Sb6x",
        "outputId": "14452c9d-d060-4cdc-ae0f-f5691f3d61a4"
      },
      "source": [
        "print(pt)"
      ],
      "execution_count": null,
      "outputs": [
        {
          "output_type": "stream",
          "text": [
            "+----------------+-------+---------------------------------------+--------------------+\n",
            "|   Vectorizer   | Model |             Hyperparameter            |        AUC         |\n",
            "+----------------+-------+---------------------------------------+--------------------+\n",
            "|      BOW       |  MNB  |     alpha: 0.5, class_prior: None     | 0.7070539652150019 |\n",
            "|     TFIDF      |  MNB  |   alpha: 0.05, class_prior:[0.5,0.5]  | 0.7070539652150019 |\n",
            "|  BOW w/params  |  MNB  |    alpha: 0.0001, class_prior:None    | 0.6906963794189012 |\n",
            "| TFIDF w/params |  MNB  | alpha: 0.00001, class_prior:[0.5,0.5] | 0.6693033876256207 |\n",
            "+----------------+-------+---------------------------------------+--------------------+\n"
          ],
          "name": "stdout"
        }
      ]
    }
  ]
}