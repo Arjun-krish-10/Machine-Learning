{
  "nbformat": 4,
  "nbformat_minor": 0,
  "metadata": {
    "colab": {
      "name": "Assgn - 3 - TFIDF.ipynb",
      "provenance": [],
      "collapsed_sections": []
    },
    "kernelspec": {
      "name": "python3",
      "display_name": "Python 3"
    },
    "language_info": {
      "name": "python"
    }
  },
  "cells": [
    {
      "cell_type": "code",
      "metadata": {
        "id": "ihtSjyPDqmYr"
      },
      "source": [
        ""
      ],
      "execution_count": null,
      "outputs": []
    },
    {
      "cell_type": "markdown",
      "metadata": {
        "id": "h9464I-uxLiw"
      },
      "source": [
        "# Assignment"
      ]
    },
    {
      "cell_type": "markdown",
      "metadata": {
        "id": "IvLvmewlxLix"
      },
      "source": [
        "<font face='georgia'>\n",
        "    \n",
        "   <h4><strong>What does tf-idf mean?</strong></h4>\n",
        "\n",
        "   <p>    \n",
        "Tf-idf stands for <em>term frequency-inverse document frequency</em>, and the tf-idf weight is a weight often used in information retrieval and text mining. This weight is a statistical measure used to evaluate how important a word is to a document in a collection or corpus. The importance increases proportionally to the number of times a word appears in the document but is offset by the frequency of the word in the corpus. Variations of the tf-idf weighting scheme are often used by search engines as a central tool in scoring and ranking a document's relevance given a user query.\n",
        "</p>\n",
        "    \n",
        "   <p>\n",
        "One of the simplest ranking functions is computed by summing the tf-idf for each query term; many more sophisticated ranking functions are variants of this simple model.\n",
        "</p>\n",
        "    \n",
        "   <p>\n",
        "Tf-idf can be successfully used for stop-words filtering in various subject fields including text summarization and classification.\n",
        "</p>\n",
        "    \n",
        "</font>"
      ]
    },
    {
      "cell_type": "markdown",
      "metadata": {
        "id": "4XLaGFUMxLiy"
      },
      "source": [
        "<font face='georgia'>\n",
        "    <h4><strong>How to Compute:</strong></h4>\n",
        "\n",
        "Typically, the tf-idf weight is composed by two terms: the first computes the normalized Term Frequency (TF), aka. the number of times a word appears in a document, divided by the total number of words in that document; the second term is the Inverse Document Frequency (IDF), computed as the logarithm of the number of the documents in the corpus divided by the number of documents where the specific term appears.\n",
        "\n",
        " <ul>\n",
        "    <li>\n",
        "<strong>TF:</strong> Term Frequency, which measures how frequently a term occurs in a document. Since every document is different in length, it is possible that a term would appear much more times in long documents than shorter ones. Thus, the term frequency is often divided by the document length (aka. the total number of terms in the document) as a way of normalization: <br>\n",
        "\n",
        "$TF(t) = \\frac{\\text{Number of times term t appears in a document}}{\\text{Total number of terms in the document}}.$\n",
        "</li>\n",
        "<li>\n",
        "<strong>IDF:</strong> Inverse Document Frequency, which measures how important a term is. While computing TF, all terms are considered equally important. However it is known that certain terms, such as \"is\", \"of\", and \"that\", may appear a lot of times but have little importance. Thus we need to weigh down the frequent terms while scale up the rare ones, by computing the following: <br>\n",
        "\n",
        "$IDF(t) = \\log_{e}\\frac{\\text{Total  number of documents}} {\\text{Number of documents with term t in it}}.$\n",
        "for numerical stabiltiy we will be changing this formula little bit\n",
        "$IDF(t) = \\log_{e}\\frac{\\text{Total  number of documents}} {\\text{Number of documents with term t in it}+1}.$\n",
        "</li>\n",
        "</ul>\n",
        "\n",
        "<br>\n",
        "<h4><strong>Example</strong></h4>\n",
        "<p>\n",
        "\n",
        "Consider a document containing 100 words wherein the word cat appears 3 times. The term frequency (i.e., tf) for cat is then (3 / 100) = 0.03. Now, assume we have 10 million documents and the word cat appears in one thousand of these. Then, the inverse document frequency (i.e., idf) is calculated as log(10,000,000 / 1,000) = 4. Thus, the Tf-idf weight is the product of these quantities: 0.03 * 4 = 0.12.\n",
        "</p>\n",
        "</font>"
      ]
    },
    {
      "cell_type": "markdown",
      "metadata": {
        "id": "dg2ooa4DxLiz"
      },
      "source": [
        "## Task-1"
      ]
    },
    {
      "cell_type": "markdown",
      "metadata": {
        "id": "TAcTjhO8xLiz"
      },
      "source": [
        "<font face='georgia'>\n",
        "    <h4><strong>1. Build a TFIDF Vectorizer & compare its results with Sklearn:</strong></h4>\n",
        "\n",
        "<ul>\n",
        "    <li> As a part of this task you will be implementing TFIDF vectorizer on a collection of text documents.</li>\n",
        "    <br>\n",
        "    <li> You should compare the results of your own implementation of TFIDF vectorizer with that of sklearns implemenation TFIDF vectorizer.</li>\n",
        "    <br>\n",
        "    <li> Sklearn does few more tweaks in the implementation of its version of TFIDF vectorizer, so to replicate the exact results you would need to add following things to your custom implementation of tfidf vectorizer:\n",
        "       <ol>\n",
        "        <li> Sklearn has its vocabulary generated from idf sroted in alphabetical order</li>\n",
        "        <li> Sklearn formula of idf is different from the standard textbook formula. Here the constant <strong>\"1\"</strong> is added to the numerator and denominator of the idf as if an extra document was seen containing every term in the collection exactly once, which prevents zero divisions.\n",
        "            \n",
        " $IDF(t) = 1+\\log_{e}\\frac{1\\text{ }+\\text{ Total  number of documents in collection}} {1+\\text{Number of documents with term t in it}}.$\n",
        "        </li>\n",
        "        <li> Sklearn applies L2-normalization on its output matrix.</li>\n",
        "        <li> The final output of sklearn tfidf vectorizer is a sparse matrix.</li>\n",
        "    </ol>\n",
        "    <br>\n",
        "    <li>Steps to approach this task:\n",
        "    <ol>\n",
        "        <li> You would have to write both fit and transform methods for your custom implementation of tfidf vectorizer.</li>\n",
        "        <li> Print out the alphabetically sorted voacb after you fit your data and check if its the same as that of the feature names from sklearn tfidf vectorizer. </li>\n",
        "        <li> Print out the idf values from your implementation and check if its the same as that of sklearns tfidf vectorizer idf values. </li>\n",
        "        <li> Once you get your voacb and idf values to be same as that of sklearns implementation of tfidf vectorizer, proceed to the below steps. </li>\n",
        "        <li> Make sure the output of your implementation is a sparse matrix. Before generating the final output, you need to normalize your sparse matrix using L2 normalization. You can refer to this link https://scikit-learn.org/stable/modules/generated/sklearn.preprocessing.normalize.html </li>\n",
        "        <li> After completing the above steps, print the output of your custom implementation and compare it with sklearns implementation of tfidf vectorizer.</li>\n",
        "        <li> To check the output of a single document in your collection of documents,  you can convert the sparse matrix related only to that document into dense matrix and print it.</li>\n",
        "        </ol>\n",
        "    </li>\n",
        "    <br>\n",
        "   </ul>\n",
        "\n",
        "  <p> <font color=\"#e60000\"><strong>Note-1: </strong></font> All the necessary outputs of sklearns tfidf vectorizer have been provided as reference in this notebook, you can compare your outputs as mentioned in the above steps, with these outputs.<br>\n",
        "   <font color=\"#e60000\"><strong>Note-2: </strong></font> The output of your custom implementation and that of sklearns implementation would match only with the collection of document strings provided to you as reference in this notebook. It would not match for strings that contain capital letters or punctuations, etc, because sklearn version of tfidf vectorizer deals with such strings in a different way. To know further details about how sklearn tfidf vectorizer works with such string, you can always refer to its official documentation.<br>\n",
        "   <font color=\"#e60000\"><strong>Note-3: </strong></font> During this task, it would be helpful for you to debug the code you write with print statements wherever necessary. But when you are finally submitting the assignment, make sure your code is readable and try not to print things which are not part of this task.\n",
        "    </p>"
      ]
    },
    {
      "cell_type": "markdown",
      "metadata": {
        "id": "OnV82tg1xLi0"
      },
      "source": [
        "### Corpus"
      ]
    },
    {
      "cell_type": "code",
      "metadata": {
        "id": "bUsYm9wjxLi1"
      },
      "source": [
        "## SkLearn# Collection of string documents\n",
        "\n",
        "corpus = [\n",
        "     'this is the first document',\n",
        "     'this document is the second document',\n",
        "     'and this is the third one',\n",
        "     'is this the first document',\n",
        "]"
      ],
      "execution_count": null,
      "outputs": []
    },
    {
      "cell_type": "markdown",
      "metadata": {
        "id": "eLwmFZfKxLi4"
      },
      "source": [
        "### SkLearn Implementation"
      ]
    },
    {
      "cell_type": "code",
      "metadata": {
        "id": "Np4dfQOkxLi4"
      },
      "source": [
        "from sklearn.feature_extraction.text import TfidfVectorizer\n",
        "vectorizer = TfidfVectorizer()\n",
        "vectorizer.fit(corpus)\n",
        "skl_output = vectorizer.transform(corpus)"
      ],
      "execution_count": null,
      "outputs": []
    },
    {
      "cell_type": "code",
      "metadata": {
        "id": "-7Om8YpYxLi6",
        "colab": {
          "base_uri": "https://localhost:8080/"
        },
        "outputId": "1f247ca9-80d6-4d50-f741-c7f048debef1"
      },
      "source": [
        "# sklearn feature names, they are sorted in alphabetic order by default.\n",
        "\n",
        "print(vectorizer.get_feature_names())"
      ],
      "execution_count": null,
      "outputs": [
        {
          "output_type": "stream",
          "text": [
            "['and', 'document', 'first', 'is', 'one', 'second', 'the', 'third', 'this']\n"
          ],
          "name": "stdout"
        }
      ]
    },
    {
      "cell_type": "code",
      "metadata": {
        "id": "dTKplK96xLi-",
        "colab": {
          "base_uri": "https://localhost:8080/"
        },
        "outputId": "4044a58f-8858-447e-bd18-8822f2ee8f82"
      },
      "source": [
        "# Here we will print the sklearn tfidf vectorizer idf values after applying the fit method\n",
        "# After using the fit function on the corpus the vocab has 9 words in it, and each has its idf value.\n",
        "\n",
        "print(vectorizer.idf_)"
      ],
      "execution_count": null,
      "outputs": [
        {
          "output_type": "stream",
          "text": [
            "[1.91629073 1.22314355 1.51082562 1.         1.91629073 1.91629073\n",
            " 1.         1.91629073 1.        ]\n"
          ],
          "name": "stdout"
        }
      ]
    },
    {
      "cell_type": "code",
      "metadata": {
        "id": "-CTiWHygxLjA",
        "colab": {
          "base_uri": "https://localhost:8080/"
        },
        "outputId": "4385b81b-aef8-469a-d6aa-f76e69cb1a92"
      },
      "source": [
        "# shape of sklearn tfidf vectorizer output after applying transform method.\n",
        "\n",
        "skl_output.shape"
      ],
      "execution_count": null,
      "outputs": [
        {
          "output_type": "execute_result",
          "data": {
            "text/plain": [
              "(4, 9)"
            ]
          },
          "metadata": {
            "tags": []
          },
          "execution_count": 5
        }
      ]
    },
    {
      "cell_type": "code",
      "metadata": {
        "id": "bDKEpbA-xLjD",
        "colab": {
          "base_uri": "https://localhost:8080/"
        },
        "outputId": "4c6d3125-eb63-43a9-df03-f9e0239eb86a"
      },
      "source": [
        "# sklearn tfidf values for first line of the above corpus.\n",
        "# Here the output is a sparse matrix\n",
        "\n",
        "print(skl_output[0])"
      ],
      "execution_count": null,
      "outputs": [
        {
          "output_type": "stream",
          "text": [
            "  (0, 8)\t0.38408524091481483\n",
            "  (0, 6)\t0.38408524091481483\n",
            "  (0, 3)\t0.38408524091481483\n",
            "  (0, 2)\t0.5802858236844359\n",
            "  (0, 1)\t0.46979138557992045\n"
          ],
          "name": "stdout"
        }
      ]
    },
    {
      "cell_type": "code",
      "metadata": {
        "id": "3QWo34hexLjF",
        "colab": {
          "base_uri": "https://localhost:8080/"
        },
        "outputId": "99c332a7-b0dd-41a9-a994-f5ab52a37f95"
      },
      "source": [
        "# sklearn tfidf values for first line of the above corpus.\n",
        "# To understand the output better, here we are converting the sparse output matrix to dense matrix and printing it.\n",
        "# Notice that this output is normalized using L2 normalization. sklearn does this by default.\n",
        "\n",
        "print(skl_output[0].toarray())"
      ],
      "execution_count": null,
      "outputs": [
        {
          "output_type": "stream",
          "text": [
            "[[0.         0.46979139 0.58028582 0.38408524 0.         0.\n",
            "  0.38408524 0.         0.38408524]]\n"
          ],
          "name": "stdout"
        }
      ]
    },
    {
      "cell_type": "markdown",
      "metadata": {
        "id": "qfIwx5LzxLjI"
      },
      "source": [
        "### Your custom implementation"
      ]
    },
    {
      "cell_type": "code",
      "metadata": {
        "id": "HjuCcJwXxLjJ"
      },
      "source": [
        "# Write your code here.\n",
        "# Make sure its well documented and readble with appropriate comments.\n",
        "# Compare your results with the above sklearn tfidf vectorizer\n",
        "# You are not supposed to use any other library apart from the ones given below\n",
        "\n",
        "from collections import Counter\n",
        "from tqdm import tqdm\n",
        "from scipy.sparse import csr_matrix\n",
        "import math\n",
        "import operator\n",
        "from sklearn.preprocessing import normalize\n",
        "import numpy as np"
      ],
      "execution_count": null,
      "outputs": []
    },
    {
      "cell_type": "code",
      "metadata": {
        "id": "Hf0AVajc3fNl"
      },
      "source": [
        "idf = {}"
      ],
      "execution_count": null,
      "outputs": []
    },
    {
      "cell_type": "code",
      "metadata": {
        "colab": {
          "base_uri": "https://localhost:8080/"
        },
        "id": "ztyJCJJbrJuG",
        "outputId": "a1930171-08af-45fb-b300-6e221b74d7fb"
      },
      "source": [
        "\n",
        "\n",
        "def fit(dataset):\n",
        "    unique_words = set() # at first we will initialize an empty set\n",
        "    # check if its list type or not\n",
        "   \n",
        "    if isinstance(dataset, (list,)):\n",
        "        \n",
        "        for row in dataset: # for each review in the dataset\n",
        "            for word in row.split(\" \"): # for each word in the review. #split method converts a string into list of words\n",
        "                if len(word) < 2:\n",
        "                    continue\n",
        "                unique_words.add(word)\n",
        "        unique_words = sorted(list(unique_words))\n",
        "        vocab = {j:i for i,j in enumerate(unique_words)}      #storing the unique words in a dictionary with their sorted position\n",
        "        \n",
        "     \n",
        "             \n",
        "        return vocab\n",
        "    else:\n",
        "        print(\"you need to pass list of sentance\")\n",
        "\n",
        "def transform(dataset,vocab):\n",
        "    \n",
        "   \n",
        "    # tfidf_temp = []\n",
        "    global idf \n",
        "    val = []\n",
        "    rows = []\n",
        "    columns = []\n",
        "    \n",
        "    if isinstance(dataset, (list,)):\n",
        "        for w in vocab.keys():                 #calculating the idf values of words in the corpus\n",
        "              idf_count = 0\n",
        "              for d in dataset:\n",
        "                    if w in d.split():\n",
        "                          idf_count += 1\n",
        "              idf_val = 1 + np.log((1 + len(dataset))/(1 + idf_count))         #IDF formula\n",
        "              idf[w] = idf_val\n",
        "            \n",
        "        for idx, row in enumerate((dataset)): # for each document in the dataset\n",
        "            values = []\n",
        "            \n",
        "            # it will return a dict type object where key is the word and values is its frequency, {word:frequency}\n",
        "            word_freq = dict(Counter(row.split()))\n",
        "            rows.append(idx)\n",
        "            # for every unique word in the document\n",
        "            for word in vocab.keys():  # for each unique word in the review. \n",
        "                \n",
        "                if len(word) < 2:\n",
        "                    continue\n",
        "                # we will check if its there in the vocabulary that we build in fit() function\n",
        "                # dict.get() function will return the values, if the key doesn't exits it will return 0\n",
        "                tf = (word_freq.get(word,0))/len(row.split())\n",
        "                tfidf = idf.get(word) * tf\n",
        "                 # retreving the dimension number of a word\n",
        "                # if the word exists\n",
        "                if tfidf !=0:\n",
        "                    # we are storing the index of the document\n",
        "                    col_index = vocab.get(word, 0)\n",
        "                    # we are storing the dimensions of the word\n",
        "                    columns.append(col_index)\n",
        "                    rows.append(idx)\n",
        "                    # we are storing the frequency of the word\n",
        "                values.append(tfidf)\n",
        "            val.append(values)    \n",
        "        # print(idf.values())\n",
        "        norm = normalize(val)\n",
        "        # print(normalize(values))\n",
        "        # csr_matrix((norm, (rows,columns)), shape=(len(dataset),len(vocab)))\n",
        "        \n",
        "        return csr_matrix((norm))    #returning the sparse matrix\n",
        "         #csr_matrix((values, (rows,columns)), shape=(len(dataset),len(vocab)))\n",
        "    else:\n",
        "        print(\"you need to pass list of strings\")\n",
        "\n",
        "\n",
        "corpus = [\n",
        "     'this is the first document',\n",
        "     'this document is the second document',\n",
        "     'and this is the third one',\n",
        "     'is this the first document',\n",
        "]\n",
        "\n",
        "\n",
        "vocab = fit(corpus)\n",
        "print(vocab.keys())\n",
        "tr = transform(corpus,vocab)\n",
        "# print(tr)\n",
        "print(tr[0].toarray())"
      ],
      "execution_count": null,
      "outputs": [
        {
          "output_type": "stream",
          "text": [
            "dict_keys(['and', 'document', 'first', 'is', 'one', 'second', 'the', 'third', 'this'])\n",
            "[[0.         0.46979139 0.58028582 0.38408524 0.         0.\n",
            "  0.38408524 0.         0.38408524]]\n"
          ],
          "name": "stdout"
        }
      ]
    },
    {
      "cell_type": "code",
      "metadata": {
        "colab": {
          "base_uri": "https://localhost:8080/"
        },
        "id": "9P7ldDn129eR",
        "outputId": "65bc2850-69b6-40c4-eda9-cd6becbbaf6a"
      },
      "source": [
        "idf                                 # idf values of words in corpus"
      ],
      "execution_count": null,
      "outputs": [
        {
          "output_type": "execute_result",
          "data": {
            "text/plain": [
              "{'and': 1.916290731874155,\n",
              " 'document': 1.2231435513142097,\n",
              " 'first': 1.5108256237659907,\n",
              " 'is': 1.0,\n",
              " 'one': 1.916290731874155,\n",
              " 'second': 1.916290731874155,\n",
              " 'the': 1.0,\n",
              " 'third': 1.916290731874155,\n",
              " 'this': 1.0}"
            ]
          },
          "metadata": {},
          "execution_count": 11
        }
      ]
    },
    {
      "cell_type": "code",
      "metadata": {
        "colab": {
          "base_uri": "https://localhost:8080/"
        },
        "id": "w1PgK_gK4KMv",
        "outputId": "2d10f2cb-5a6d-45fe-d696-2c301d6af990"
      },
      "source": [
        "tr.shape                            "
      ],
      "execution_count": null,
      "outputs": [
        {
          "output_type": "execute_result",
          "data": {
            "text/plain": [
              "(4, 9)"
            ]
          },
          "metadata": {},
          "execution_count": 12
        }
      ]
    },
    {
      "cell_type": "markdown",
      "metadata": {
        "id": "MMxBmVZExLjK"
      },
      "source": [
        "## Task-2"
      ]
    },
    {
      "cell_type": "markdown",
      "metadata": {
        "id": "51j_OtqAxLjL"
      },
      "source": [
        "<font face='georgia'>\n",
        "    <h4><strong>2. Implement max features functionality:</strong></h4>\n",
        "\n",
        "<ul>\n",
        "    <li> As a part of this task you have to modify your fit and transform functions so that your vocab will contain only 50 terms with top idf scores.</li>\n",
        "    <br>\n",
        "    <li>This task is similar to your previous task, just that here your vocabulary is limited to only top 50 features names based on their idf values. Basically your output will have exactly 50 columns and the number of rows will depend on the number of documents you have in your corpus.</li>\n",
        "    <br>\n",
        "    <li>Here you will be give a pickle file, with file name <strong>cleaned_strings</strong>. You would have to load the corpus from this file and use it as input to your tfidf vectorizer.</li>\n",
        "    <br>\n",
        "    <li>Steps to approach this task:\n",
        "    <ol>\n",
        "        <li> You would have to write both fit and transform methods for your custom implementation of tfidf vectorizer, just like in the previous task. Additionally, here you have to limit the number of features generated to 50 as described above.</li>\n",
        "        <li> Now sort your vocab based in descending order of idf values and print out the words in the sorted voacb after you fit your data. Here you should be getting only 50 terms in your vocab. And make sure to print idf values for each term in your vocab. </li>\n",
        "        <li> Make sure the output of your implementation is a sparse matrix. Before generating the final output, you need to normalize your sparse matrix using L2 normalization. You can refer to this link https://scikit-learn.org/stable/modules/generated/sklearn.preprocessing.normalize.html </li>\n",
        "        <li> Now check the output of a single document in your collection of documents,  you can convert the sparse matrix related only to that document into dense matrix and print it. And this dense matrix should contain 1 row and 50 columns. </li>\n",
        "        </ol>\n",
        "    </li>\n",
        "    <br>\n",
        "   </ul>"
      ]
    },
    {
      "cell_type": "code",
      "metadata": {
        "id": "NHxPLlwNxLjL"
      },
      "source": [
        "# Below is the code to load the cleaned_strings pickle file provided\n",
        "# Here corpus is of list type\n",
        "\n",
        "# import pickle\n",
        "# with open('cleaned_strings', 'rb') as f:\n",
        "#     corpus = pickle.load(f)\n",
        "    \n",
        "# # printing the length of the corpus loaded\n",
        "# print(\"Number of documents in corpus = \",len(corpus))"
      ],
      "execution_count": null,
      "outputs": []
    },
    {
      "cell_type": "code",
      "metadata": {
        "id": "ZULfoOIdxLjQ"
      },
      "source": [
        "# Write your code here.\n",
        "# Try not to hardcode any values.\n",
        "# Make sure its well documented and readble with appropriate comments."
      ],
      "execution_count": null,
      "outputs": []
    },
    {
      "cell_type": "code",
      "metadata": {
        "colab": {
          "base_uri": "https://localhost:8080/"
        },
        "id": "HPWfmzeKuy6J",
        "outputId": "bb8cd1e6-01bc-4fc5-da43-68dd3c16c8e1"
      },
      "source": [
        "from google.colab import drive\n",
        "\n",
        "drive.mount('/content/gdrive')"
      ],
      "execution_count": null,
      "outputs": [
        {
          "output_type": "stream",
          "text": [
            "Mounted at /content/gdrive\n"
          ],
          "name": "stdout"
        }
      ]
    },
    {
      "cell_type": "code",
      "metadata": {
        "id": "1_DJnnR3xLjR",
        "colab": {
          "base_uri": "https://localhost:8080/"
        },
        "outputId": "55d0ddb6-a224-46c9-f7b9-182d2c592a29"
      },
      "source": [
        "import pickle\n",
        "with open('/content/gdrive/My Drive/Datasets/cleaned_strings', 'rb') as f:\n",
        "    corpus = pickle.load(f)\n",
        "    \n",
        "# printing the length of the corpus loaded\n",
        "print(\"Number of documents in corpus = \",len(corpus))\n",
        "\n",
        "def fit(dataset):\n",
        "    unique_words = set() # at first we will initialize an empty set\n",
        "    # check if its list type or not\n",
        "    idf = {}\n",
        "    if isinstance(dataset, (list,)):\n",
        "        \n",
        "        for row in dataset: # for each review in the dataset\n",
        "            for word in row.split(\" \"): # for each word in the review. #split method converts a string into list of words\n",
        "                if len(word) < 2:\n",
        "                    continue\n",
        "                unique_words.add(word)\n",
        "        # unique_words = sorted(list(unique_words))\n",
        "        vocab = {j:i for i,j in enumerate(unique_words)}\n",
        "        \n",
        "        for w in vocab.keys():\n",
        "              idf_count = 0\n",
        "              for d in dataset:\n",
        "                    if w in d.split():\n",
        "                          idf_count += 1\n",
        "              idf_val = 1 + np.log((1 + len(dataset))/(1 + idf_count))\n",
        "              idf[w] = idf_val              #storing the idf values\n",
        "     \n",
        "        # top50 = dict(sorted(idf.items(), key=lambda item: item[1],reverse=True)[:50])   #getting the top 50 idf values, sorting based on values(IDF) in a dictionary\n",
        "        top50 = dict(sorted(idf.items(), key= operator.itemgetter(1),reverse=True)[:50])\n",
        "        return top50\n",
        "    else:\n",
        "        print(\"you need to pass list of sentance\")\n",
        "        \n",
        "def transform(dataset,top50_idf):\n",
        "    \n",
        "   \n",
        "    # tfidf_temp = []\n",
        "    # idf = {}\n",
        "    val = []\n",
        "    rows = []\n",
        "    columns = []\n",
        "    \n",
        "    if isinstance(dataset, (list,)):\n",
        "        # for w in vocab.keys():\n",
        "        #       idf_count = 0\n",
        "        #       for d in dataset:\n",
        "        #             if w in d.split():\n",
        "        #                   idf_count += 1\n",
        "        #       idf_val = 1 + np.log((1 + len(dataset))/(1 + idf_count))\n",
        "        #       idf[w] = idf_val\n",
        "            \n",
        "        for idx, row in enumerate((dataset)): # for each document in the dataset\n",
        "            values = []\n",
        "            \n",
        "            # it will return a dict type object where key is the word and values is its frequency, {word:frequency}\n",
        "            word_freq = dict(Counter(row.split()))\n",
        "            rows.append(idx)\n",
        "            # for every unique word in the document\n",
        "            for word in vocab.keys():  # for each unique word in the review. \n",
        "            # for word in row.split():\n",
        "                if len(word) < 2:\n",
        "                    continue\n",
        "                # we will check if its there in the vocabulary that we build in fit() function\n",
        "                # dict.get() function will return the values, if the key doesn't exits it will return -1\n",
        "                tf = (word_freq.get(word,0))/len(row.split())\n",
        "                \n",
        "                tfidf = top50_idf.get(word,0) * tf\n",
        "                 # retreving the dimension number of a word\n",
        "                # if the word exists\n",
        "                if tfidf !=0:\n",
        "                    # we are storing the index of the document\n",
        "                    col_index = vocab.get(word, 0)\n",
        "                    # we are storing the dimensions of the word\n",
        "                    columns.append(col_index)\n",
        "                    rows.append(idx)\n",
        "                    # we are storing the frequency of the word\n",
        "                values.append(tfidf)\n",
        "                # breakpoint()\n",
        "            val.append(values) \n",
        "            # print(val)   \n",
        "        # print(idf.values())\n",
        "        norm = normalize(val)      #normalizing the final value\n",
        "        # print(normalize(values))\n",
        "        # csr_matrix((norm, (rows,columns)), shape=(len(dataset),len(vocab)))\n",
        "        \n",
        "        return csr_matrix((norm)) #csr_matrix((values, (rows,columns)), shape=(len(dataset),len(vocab)))\n",
        "    else:\n",
        "        print(\"you need to pass list of strings\")\n",
        "\n",
        "\n"
      ],
      "execution_count": null,
      "outputs": [
        {
          "output_type": "stream",
          "text": [
            "Number of documents in corpus =  746\n"
          ],
          "name": "stdout"
        }
      ]
    },
    {
      "cell_type": "code",
      "metadata": {
        "id": "BPe4qBWYH6SF"
      },
      "source": [
        "vocab = fit(corpus)\n"
      ],
      "execution_count": null,
      "outputs": []
    },
    {
      "cell_type": "code",
      "metadata": {
        "id": "uqO9MxkLW6tB"
      },
      "source": [
        "tfidf_final = transform(corpus, vocab)"
      ],
      "execution_count": null,
      "outputs": []
    },
    {
      "cell_type": "code",
      "metadata": {
        "colab": {
          "base_uri": "https://localhost:8080/"
        },
        "id": "RdWYfcqQIGFD",
        "outputId": "065289a1-498d-4777-b8b1-9d716baf2cc4"
      },
      "source": [
        "vocab"
      ],
      "execution_count": null,
      "outputs": [
        {
          "output_type": "execute_result",
          "data": {
            "text/plain": [
              "{'angelina': 6.922918004572872,\n",
              " 'baaaaaad': 6.922918004572872,\n",
              " 'becomes': 6.922918004572872,\n",
              " 'captured': 6.922918004572872,\n",
              " 'carries': 6.922918004572872,\n",
              " 'closed': 6.922918004572872,\n",
              " 'coastal': 6.922918004572872,\n",
              " 'comedic': 6.922918004572872,\n",
              " 'commercial': 6.922918004572872,\n",
              " 'critic': 6.922918004572872,\n",
              " 'debated': 6.922918004572872,\n",
              " 'discomfort': 6.922918004572872,\n",
              " 'episodes': 6.922918004572872,\n",
              " 'expansive': 6.922918004572872,\n",
              " 'facial': 6.922918004572872,\n",
              " 'facing': 6.922918004572872,\n",
              " 'fascination': 6.922918004572872,\n",
              " 'foolish': 6.922918004572872,\n",
              " 'function': 6.922918004572872,\n",
              " 'halfway': 6.922918004572872,\n",
              " 'happy': 6.922918004572872,\n",
              " 'hold': 6.922918004572872,\n",
              " 'jack': 6.922918004572872,\n",
              " 'kid': 6.922918004572872,\n",
              " 'kudos': 6.922918004572872,\n",
              " 'loyalty': 6.922918004572872,\n",
              " 'mchattie': 6.922918004572872,\n",
              " 'mighty': 6.922918004572872,\n",
              " 'nine': 6.922918004572872,\n",
              " 'passion': 6.922918004572872,\n",
              " 'personally': 6.922918004572872,\n",
              " 'plug': 6.922918004572872,\n",
              " 'precisely': 6.922918004572872,\n",
              " 'public': 6.922918004572872,\n",
              " 'punches': 6.922918004572872,\n",
              " 'readers': 6.922918004572872,\n",
              " 'relying': 6.922918004572872,\n",
              " 'roth': 6.922918004572872,\n",
              " 'schultz': 6.922918004572872,\n",
              " 'screenplay': 6.922918004572872,\n",
              " 'shelves': 6.922918004572872,\n",
              " 'subversive': 6.922918004572872,\n",
              " 'tries': 6.922918004572872,\n",
              " 'trouble': 6.922918004572872,\n",
              " 'unrealistic': 6.922918004572872,\n",
              " 'weariness': 6.922918004572872,\n",
              " 'website': 6.922918004572872,\n",
              " 'witticisms': 6.922918004572872,\n",
              " 'woo': 6.922918004572872,\n",
              " 'worthy': 6.922918004572872}"
            ]
          },
          "metadata": {},
          "execution_count": 20
        }
      ]
    },
    {
      "cell_type": "code",
      "metadata": {
        "colab": {
          "base_uri": "https://localhost:8080/"
        },
        "id": "kUBkt7zJIA52",
        "outputId": "81208127-61b0-449f-a323-83590d1b8024"
      },
      "source": [
        "print(np.shape(tfidf_final.toarray()))\n",
        "print(tfidf_final.toarray()[135])"
      ],
      "execution_count": null,
      "outputs": [
        {
          "output_type": "stream",
          "text": [
            "(746, 50)\n",
            "[0.         0.40824829 0.         0.         0.         0.\n",
            " 0.         0.         0.         0.         0.         0.\n",
            " 0.         0.         0.         0.40824829 0.         0.\n",
            " 0.         0.         0.         0.         0.         0.\n",
            " 0.         0.         0.         0.40824829 0.         0.\n",
            " 0.40824829 0.         0.         0.40824829 0.40824829 0.\n",
            " 0.         0.         0.         0.         0.         0.\n",
            " 0.         0.         0.         0.         0.         0.\n",
            " 0.         0.        ]\n"
          ],
          "name": "stdout"
        }
      ]
    },
    {
      "cell_type": "code",
      "metadata": {
        "colab": {
          "base_uri": "https://localhost:8080/"
        },
        "id": "RImG1WJY6q0c",
        "outputId": "c42a960a-a3b4-44b8-a889-62de754cbc4d"
      },
      "source": [
        "print(tfidf_final[135])"
      ],
      "execution_count": null,
      "outputs": [
        {
          "output_type": "stream",
          "text": [
            "  (0, 1)\t0.408248290463863\n",
            "  (0, 15)\t0.408248290463863\n",
            "  (0, 27)\t0.408248290463863\n",
            "  (0, 30)\t0.408248290463863\n",
            "  (0, 33)\t0.408248290463863\n",
            "  (0, 34)\t0.408248290463863\n"
          ],
          "name": "stdout"
        }
      ]
    },
    {
      "cell_type": "code",
      "metadata": {
        "colab": {
          "base_uri": "https://localhost:8080/",
          "height": 120
        },
        "id": "UgR4oiHh4-Fg",
        "outputId": "9f32cb28-7c50-4d99-f190-8081f1873409"
      },
      "source": [
        "corpus[135]"
      ],
      "execution_count": null,
      "outputs": [
        {
          "output_type": "execute_result",
          "data": {
            "application/vnd.google.colaboratory.intrinsic+json": {
              "type": "string"
            },
            "text/plain": [
              "'fact hard remember part ray charles acted not played man ray charles legendary ray charles life provided excellent biographical material film goes well beyond another movie musician hitchcock great director ironically mostly find films total waste time watch secondly hitchcock pretty much perfected thriller chase movie pandering audience sabotages films hence whole story lacks certain energy plot simply rumbles like machine desperately depending addition new scenes usual hitchcock logic flaws mishima extremely uninteresting chilly unremarkable movie author living working chilly abstruse culture flat reenactments not hold attention emotionally adrift stagy rest sits awful soldiers singing songs masculinity pledge hairsplitting purity admiration swords etc bore pieces kill momentum movie quicker anyone else schrader made resume full lousy amateurish films first watched movie loved totally fascinated music dancing everything however recently watched whole thing dvd completely struck extremely stupid storyline contained holes inconsistencies frankly whole lot crap horrid dancing mean realistic world would never gotten ballet repertory whole thing quite pathetic character developments also lacked depth woa talk awful not waste time horrible worst sappiest dialogue could go really made unwatchable direction poor actors not even tell talent not pathetic lines speak director gave no action check director filmography site see film not chance would not even good made tv flick good intentions made film great film might one greatest films ever made film great actors master director significant theme least would significant theme undertone fifties existential world weariness aerial scenes ought thrilled senses imagination characters one might deeply care regrettably film fails movie lacks visual interest drama expression feeling celebration patriotism underlines narrative no actress worse used june allison movie yet enjoy watching unfortunately bad movie plain bad bad script bad direction horrible acting make one plain bad dialogue sucked cinematography called sucked soundtrack sucked acting sucked concert sequences sucked nice funny funny overall movie cheap trash movie not funny considering ridiculousness came feeling angry spoilers whatever else not said surface superbly crafted cinematography simply stunning say least fx nothing not state art conceptually show offers little bit everything everybody parents kids fantasy fx fans not single sour note struck acting wise either surprisingly solid casting things considered job well done thanks good movie like done released one best mexican movies ever one less understood even mexican no matter identified felt ranks highly great noir crime drama incredible performances belmondo lino ventura attention given every character complex psychological portrayals detailing loyalty treachery love hope tremendous excellent drama excellent thriller excellent film best melville everything film simply incredible truly take journey eyes soul child black water thriller manages completely transcend limitations indie flick continually subverting expectations emerge intense experience performances real gripping crocdodile extremely well done indeed black water website believed used real crocs swamp location fabulous thoroughly enjoyed christopher eccleston took control tardis continuation series not sure trying film turn good day feeling night disturbing memories guess succeeded lot beautiful places forced like everything movie lame movie really pi ed not even get started jerky camerawork saw theater thought going sick summary witticisms not witty plot well said would let one go acting bad really bad even billy bob could not rise script worse camerawork bad rating amazing finale possibly best trilogy time kieslowski never ceases amaze one favourite directors one talented directors history cinema use colours french flag three films nothing short incredible every shot every scene like work art three visually appealing movies ever seen subtle connections three films awesome mention huge spoiler loved ending characters three films remaining survivors ferry disaster valentine young judge together old man watching tv solidifying happiness suffering dealt many years could not think better way end film smile face great way wrap amazing film trilogy recommend everyone loves film movies anything work art movie trilogy literally vomited watching film think one people found another one roth pearls performance awarded stunning story told eloquently francis ford coppola years earlier really unfolds gradually leaves room characters develop wonderful location lies story contrast beautiful directed film nicola roeg wih sublime cast translating movies living first movie working experience found offensive intelligence someone strives greatness poetry delivers muddled often ridiculous story bunch disparate scenes pretentious dialogue get worst kind movie reviewer accurately defined pretentious crap'"
            ]
          },
          "metadata": {},
          "execution_count": 28
        }
      ]
    },
    {
      "cell_type": "code",
      "metadata": {
        "id": "V1PGj6k85D1F"
      },
      "source": [
        "# print(tfidf_final)"
      ],
      "execution_count": null,
      "outputs": []
    }
  ]
}