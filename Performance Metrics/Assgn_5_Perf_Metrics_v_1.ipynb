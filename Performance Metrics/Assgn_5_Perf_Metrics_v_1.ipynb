{
  "nbformat": 4,
  "nbformat_minor": 0,
  "metadata": {
    "colab": {
      "name": "Assgn - 5 - Perf Metrics.ipynb",
      "provenance": [],
      "collapsed_sections": []
    },
    "kernelspec": {
      "name": "python3",
      "display_name": "Python 3"
    },
    "language_info": {
      "name": "python"
    }
  },
  "cells": [
    {
      "cell_type": "code",
      "metadata": {
        "colab": {
          "base_uri": "https://localhost:8080/"
        },
        "id": "y_IZjU0LdLya",
        "outputId": "1fd85913-3adf-44ad-8db6-3622b54ad0d0"
      },
      "source": [
        "from google.colab import drive\n",
        "\n",
        "drive.mount('/content/gdrive')"
      ],
      "execution_count": 1,
      "outputs": [
        {
          "output_type": "stream",
          "name": "stdout",
          "text": [
            "Mounted at /content/gdrive\n"
          ]
        }
      ]
    },
    {
      "cell_type": "markdown",
      "metadata": {
        "id": "s0Ej_bXyQvnV"
      },
      "source": [
        "# Compute performance metrics for the given Y and Y_score without sklearn"
      ]
    },
    {
      "cell_type": "code",
      "metadata": {
        "id": "4CHb6NE7Qvnc"
      },
      "source": [
        "import numpy as np\n",
        "import pandas as pd\n",
        "# other than these two you should not import any other packages"
      ],
      "execution_count": 2,
      "outputs": []
    },
    {
      "cell_type": "markdown",
      "metadata": {
        "id": "KbsWXuDaQvnq"
      },
      "source": [
        "<pre>\n",
        "<font color='red'><b>A.</b></font> Compute performance metrics for the given data <strong>5_a.csv</strong>\n",
        "   <b>Note 1:</b> in this data you can see number of positive points >> number of negatives points\n",
        "   <b>Note 2:</b> use pandas or numpy to read the data from <b>5_a.csv</b>\n",
        "   <b>Note 3:</b> you need to derive the class labels from given score</pre> $y^{pred}= \\text{[0 if y_score < 0.5 else 1]}$\n",
        "\n",
        "<pre>\n",
        "<ol>\n",
        "<li> Compute Confusion Matrix </li>\n",
        "<li> Compute F1 Score </li>\n",
        "<li> Compute AUC Score, you need to compute different thresholds and for each threshold compute tpr,fpr and then use               numpy.trapz(tpr_array, fpr_array) <a href='https://stackoverflow.com/q/53603376/4084039'>https://stackoverflow.com/q/53603376/4084039</a>, <a href='https://stackoverflow.com/a/39678975/4084039'>https://stackoverflow.com/a/39678975/4084039</a> Note: it should be numpy.trapz(tpr_array, fpr_array) not numpy.trapz(fpr_array, tpr_array)</li>\n",
        "<li> Compute Accuracy Score </li>\n",
        "</ol>\n",
        "</pre>"
      ]
    },
    {
      "cell_type": "code",
      "metadata": {
        "id": "WaFLW7oBQvnt",
        "colab": {
          "base_uri": "https://localhost:8080/",
          "height": 497
        },
        "outputId": "eab24158-9a15-4680-d580-717c96bcc59e"
      },
      "source": [
        "df = pd.read_csv('/content/gdrive/My Drive/Datasets/5_a.csv')\n",
        "\n",
        "df.head()\n",
        "\n",
        "\n",
        "# print(df['y_pred'].value_counts())\n",
        "\n",
        "def matrix(df):\n",
        "    \n",
        "    df['y_pred'] = df['proba'].apply(lambda x : 0 if x < 0.5 else 1)\n",
        "    \n",
        "    #calculating tp,tn,fp,fn\n",
        "\n",
        "    tp = df.loc[(df['y'] == 1) & (df['y_pred'] == 1)]['y'].count()\n",
        "    tn = df.loc[(df['y'] == 0) & (df['y_pred'] == 0)]['y'].count()\n",
        "    fp = df.loc[(df['y'] == 0) & (df['y_pred'] == 1)]['y'].count()\n",
        "    fn = df.loc[(df['y'] == 1) & (df['y_pred'] == 0)]['y'].count()\n",
        "    \n",
        "    #calculating precision,recall,f1 score\n",
        "    precision = tp / (tp + fp)\n",
        "    recall = tp / (tp + fn)\n",
        "    accuracy = (tp + tn)/(tp + fp + fn + tn)\n",
        "    f1 = 2 * ((precision*recall)/(precision + recall))\n",
        "    \n",
        "    #calculating tpr, fpr \n",
        "    tpr = tp / (tp + fn)\n",
        "    \n",
        "    fpr = fp / (fp + tn)\n",
        "    \n",
        "    print(f'True Positive : {tp}')\n",
        "    print(f'False Positive : {fp}')\n",
        "    print(f'True Negative : {tn}')\n",
        "    \n",
        "    print(f'Flase Negative : {fn}')\n",
        "    \n",
        "    print(f'Accuracy : {accuracy}')\n",
        "    print(f'Precision : {precision}')\n",
        "    print(f'Recall : {recall}')\n",
        "    print(f'F1 score : {f1}')\n",
        "    \n",
        "    print(f'TPR : {tpr}')\n",
        "    print(f'FPR : {fpr}')\n",
        "    \n",
        "    print('-'*20)\n",
        "    \n",
        "    # return 1\n",
        "    \n",
        "def auc(df):\n",
        "    tpr_array = []\n",
        "    fpr_array = []\n",
        "    best_a = []\n",
        "    for i in np.sort(df['proba'].unique()):\n",
        "        df['y_pred_auc'] = df['proba'].apply(lambda x : 0 if x < i else 1)    #calculating the pred value for each threshold of probability score\n",
        "      \n",
        "      #calculating tp,tn,fp,fn for each of the threshold values\n",
        "        tp = df.loc[(df['y'] == 1) & (df['y_pred_auc'] == 1)]['y'].count()\n",
        "        tn = df.loc[(df['y'] == 0) & (df['y_pred_auc'] == 0)]['y'].count()\n",
        "        fp = df.loc[(df['y'] == 0) & (df['y_pred_auc'] == 1)]['y'].count()\n",
        "        fn = df.loc[(df['y'] == 1) & (df['y_pred_auc'] == 0)]['y'].count()\n",
        "        \n",
        "        #calculating tpr and fpr for each threshold value\n",
        "        tpr = tp / (tp + fn)        \n",
        "        fpr = fp / (fp + tn)\n",
        "        tpr_array.append(tpr)\n",
        "        fpr_array.append(fpr)\n",
        "\n",
        "\n",
        "\n",
        "    tpr1 = np.array(tpr_array)\n",
        "    fpr1 = np.array(fpr_array)\n",
        "    auc_score = np.trapz(sorted(tpr_array),sorted(fpr_array))      #calculating the auc score from tpr and fpr arrays\n",
        "    print(f'AUC score : {auc_score}')\n",
        "    df_tpr_fpr = pd.DataFrame({'tpr':tpr_array,'fpr':fpr_array})\n",
        "    df_tpr_fpr.plot('fpr','tpr',title='ROC-AUC curve',ylabel = 'tpr',grid = True)    #plotting the tpr-fpr curve\n",
        "\n",
        "matrix(df)\n",
        "# matrix(df1)\n",
        "auc(df)"
      ],
      "execution_count": null,
      "outputs": [
        {
          "output_type": "stream",
          "text": [
            "True Positive : 10000\n",
            "False Positive : 100\n",
            "True Negative : 0\n",
            "Flase Negative : 0\n",
            "Accuracy : 0.9900990099009901\n",
            "Precision : 0.9900990099009901\n",
            "Recall : 1.0\n",
            "F1 score : 0.9950248756218906\n",
            "TPR : 1.0\n",
            "FPR : 1.0\n",
            "--------------------\n",
            "AUC score : 0.48829900000000004\n"
          ],
          "name": "stdout"
        },
        {
          "output_type": "display_data",
          "data": {
            "image/png": "[encoded data removed]",
            "text/plain": [
              "<Figure size 432x288 with 1 Axes>"
            ]
          },
          "metadata": {
            "tags": [],
            "needs_background": "light"
          }
        }
      ]
    },
    {
      "cell_type": "markdown",
      "metadata": {
        "id": "V5KZem1BQvn2"
      },
      "source": [
        "<pre>\n",
        "<font color='red'><b>B.</b></font> Compute performance metrics for the given data <strong>5_b.csv</strong>\n",
        "   <b>Note 1:</b> in this data you can see number of positive points << number of negatives points\n",
        "   <b>Note 2:</b> use pandas or numpy to read the data from <b>5_b.csv</b>\n",
        "   <b>Note 3:</b> you need to derive the class labels from given score</pre> $y^{pred}= \\text{[0 if y_score < 0.5 else 1]}$\n",
        "\n",
        "<pre>\n",
        "<ol>\n",
        "<li> Compute Confusion Matrix </li>\n",
        "<li> Compute F1 Score </li>\n",
        "<li> Compute AUC Score, you need to compute different thresholds and for each threshold compute tpr,fpr and then use               numpy.trapz(tpr_array, fpr_array) <a href='https://stackoverflow.com/q/53603376/4084039'>https://stackoverflow.com/q/53603376/4084039</a>, <a href='https://stackoverflow.com/a/39678975/4084039'>https://stackoverflow.com/a/39678975/4084039</a></li>\n",
        "<li> Compute Accuracy Score </li>\n",
        "</ol>\n",
        "</pre>"
      ]
    },
    {
      "cell_type": "code",
      "metadata": {
        "id": "U2sKlq0YQvn5",
        "colab": {
          "base_uri": "https://localhost:8080/",
          "height": 497
        },
        "outputId": "28b34a7e-46b1-4c23-bf93-7c6f60fa101d"
      },
      "source": [
        "df1 = pd.read_csv('/content/gdrive/My Drive/Datasets/5_b.csv')\n",
        "\n",
        "\n",
        "#above 2 functions are called for the second dataset\n",
        "matrix(df1)        \n",
        "auc(df1)"
      ],
      "execution_count": null,
      "outputs": [
        {
          "output_type": "stream",
          "text": [
            "True Positive : 55\n",
            "False Positive : 239\n",
            "True Negative : 9761\n",
            "Flase Negative : 45\n",
            "Accuracy : 0.9718811881188119\n",
            "Precision : 0.1870748299319728\n",
            "Recall : 0.55\n",
            "F1 score : 0.2791878172588833\n",
            "TPR : 0.55\n",
            "FPR : 0.0239\n",
            "--------------------\n",
            "AUC score : 0.9377570000000001\n"
          ],
          "name": "stdout"
        },
        {
          "output_type": "display_data",
          "data": {
            "image/png": "[encoded data removed]",
            "text/plain": [
              "<Figure size 432x288 with 1 Axes>"
            ]
          },
          "metadata": {
            "tags": [],
            "needs_background": "light"
          }
        }
      ]
    },
    {
      "cell_type": "markdown",
      "metadata": {
        "id": "GiPGonTzQvoB"
      },
      "source": [
        "<font color='red'><b>C.</b></font> Compute the best threshold (similarly to ROC curve computation) of probability which gives lowest values of metric <b>A</b> for the given data <strong>5_c.csv</strong>\n",
        "<br>\n",
        "\n",
        "you will be predicting label of a data points like this: $y^{pred}= \\text{[0 if y_score < threshold  else 1]}$\n",
        "\n",
        "$ A = 500 \\times \\text{number of false negative} + 100 \\times \\text{numebr of false positive}$\n",
        "\n",
        "<pre>\n",
        "   <b>Note 1:</b> in this data you can see number of negative points > number of positive points\n",
        "   <b>Note 2:</b> use pandas or numpy to read the data from <b>5_c.csv</b>\n",
        "</pre>"
      ]
    },
    {
      "cell_type": "code",
      "metadata": {
        "id": "x5HIJzq1QvoE",
        "colab": {
          "base_uri": "https://localhost:8080/",
          "height": 530
        },
        "outputId": "34532768-3818-4b9e-f531-776ed982f9cd"
      },
      "source": [
        "df3 = pd.read_csv('/content/gdrive/My Drive/Datasets/5_c.csv')\n",
        "\n",
        "\n",
        "def matrix_auc(df):\n",
        "    \n",
        "    df['y_pred'] = df['prob'].apply(lambda x : 0 if x < 0.5 else 1)\n",
        "    \n",
        "    tp = df.loc[(df['y'] == 1) & (df['y_pred'] == 1)]['y'].count()\n",
        "    tn = df.loc[(df['y'] == 0) & (df['y_pred'] == 0)]['y'].count()\n",
        "    fp = df.loc[(df['y'] == 0) & (df['y_pred'] == 1)]['y'].count()\n",
        "    fn = df.loc[(df['y'] == 1) & (df['y_pred'] == 0)]['y'].count()\n",
        "    \n",
        "    precision = tp / (tp + fp)\n",
        "    recall = tp / (tp + fn)\n",
        "    accuracy = (tp + tn)/(tp + fp + fn + tn)\n",
        "    f1 = 2 * ((precision*recall)/(precision + recall))\n",
        "    \n",
        "    tpr = tp / (tp + fn)\n",
        "    \n",
        "    fpr = fp / (fp + tn)\n",
        "    \n",
        "    print(f'True Positive : {tp}')\n",
        "    print(f'False Positive : {fp}')\n",
        "    print(f'True Negative : {tn}')\n",
        "    \n",
        "    print(f'Flase Negative : {fn}')\n",
        "    \n",
        "    print(f'Accuracy : {accuracy}')\n",
        "    print(f'Precision : {precision}')\n",
        "    print(f'Recall : {recall}')\n",
        "    print(f'F1 score : {f1}')\n",
        "    \n",
        "    print(f'TPR : {tpr}')\n",
        "    print(f'FPR : {fpr}')\n",
        "    \n",
        "    print('-'*20)\n",
        "    \n",
        "    return 1\n",
        "\n",
        "\n",
        "def auc(df):\n",
        "    tpr_array = []\n",
        "    fpr_array = []\n",
        "    best_a = []\n",
        "    prob = []\n",
        "    for i in np.sort(df['prob'].unique()):\n",
        "        df['y_pred_auc'] = df['prob'].apply(lambda x : 0 if x < i else 1)\n",
        "       \n",
        "\n",
        "        tp = df.loc[(df['y'] == 1) & (df['y_pred_auc'] == 1)]['y'].count()\n",
        "        tn = df.loc[(df['y'] == 0) & (df['y_pred_auc'] == 0)]['y'].count()\n",
        "        fp = df.loc[(df['y'] == 0) & (df['y_pred_auc'] == 1)]['y'].count()\n",
        "        fn = df.loc[(df['y'] == 1) & (df['y_pred_auc'] == 0)]['y'].count()\n",
        "\n",
        "\n",
        "        tpr = tp / (tp + fn)        \n",
        "        fpr = fp / (fp + tn)\n",
        "        tpr_array.append(tpr)\n",
        "        fpr_array.append(fpr)\n",
        "\n",
        "        #calculating the metric A for each threshold\n",
        "        A = 500* fn + 100*fp       \n",
        "        best_a.append(A)\n",
        "        prob.append(i)\n",
        "    # tpr1 = np.array(tpr_array)\n",
        "    # fpr1 = np.array(fpr_array)\n",
        "    auc_score = np.trapz(sorted(tpr_array),sorted(fpr_array)) \n",
        "    print(auc_score)\n",
        "    # fin = zip(tpr_array, fpr_array)\n",
        "    df_tpr_fpr = pd.DataFrame({'tpr':tpr_array,'fpr':fpr_array,'A':best_a,'prob':prob})\n",
        "    # print(df_tpr_fpr['tpr'])\n",
        "    # print(df_tpr_fpr['fpr'])\n",
        "    print('Best proba {0}'.format(df_tpr_fpr.loc[df_tpr_fpr['A'] == df_tpr_fpr['A'].min()].prob))  #getting the best probability score where the metric A is minimum\n",
        "    df_tpr_fpr.plot('fpr','tpr',title='ROC-AUC curve',ylabel = 'tpr',grid = True)\n",
        "    \n",
        "\n",
        "matrix_auc(df3)\n",
        "# matrix(df1)\n",
        "auc(df3)\n",
        "\n"
      ],
      "execution_count": null,
      "outputs": [
        {
          "output_type": "stream",
          "text": [
            "True Positive : 585\n",
            "False Positive : 168\n",
            "True Negative : 1637\n",
            "Flase Negative : 462\n",
            "Accuracy : 0.7791023842917251\n",
            "Precision : 0.7768924302788844\n",
            "Recall : 0.5587392550143266\n",
            "F1 score : 0.65\n",
            "TPR : 0.5587392550143266\n",
            "FPR : 0.09307479224376732\n",
            "--------------------\n",
            "0.8288141557331724\n",
            "Best proba 854    0.230039\n",
            "Name: prob, dtype: float64\n"
          ],
          "name": "stdout"
        },
        {
          "output_type": "display_data",
          "data": {
            "image/png": "[encoded data removed]",
            "text/plain": [
              "<Figure size 432x288 with 1 Axes>"
            ]
          },
          "metadata": {
            "tags": [],
            "needs_background": "light"
          }
        }
      ]
    },
    {
      "cell_type": "markdown",
      "metadata": {
        "id": "sD4CcgjXQvoL"
      },
      "source": [
        "<pre>\n",
        "<font color='red'><b>D.</b></font> Compute performance metrics(for regression) for the given data <strong>5_d.csv</strong>\n",
        "    <b>Note 2:</b> use pandas or numpy to read the data from <b>5_d.csv</b>\n",
        "    <b>Note 1:</b> <b>5_d.csv</b> will having two columns Y and predicted_Y both are real valued features\n",
        "<ol>\n",
        "<li> Compute Mean Square Error </li>\n",
        "<li> Compute MAPE: https://www.youtube.com/watch?v=ly6ztgIkUxk</li>\n",
        "<li> Compute R^2 error: https://en.wikipedia.org/wiki/Coefficient_of_determination#Definitions </li>\n",
        "</ol>\n",
        "</pre>"
      ]
    },
    {
      "cell_type": "code",
      "metadata": {
        "id": "45RdU5f20Z4y"
      },
      "source": [
        "df4 = pd.read_csv('/content/gdrive/My Drive/Datasets/5_d.csv')"
      ],
      "execution_count": 3,
      "outputs": []
    },
    {
      "cell_type": "code",
      "metadata": {
        "id": "Vzi1p-DNzQqL"
      },
      "source": [
        "def mse1(df):\n",
        "  m = 0\n",
        "  ss_tot = 0\n",
        "  ss_res = 0\n",
        "  mean = np.mean(df['y'])\n",
        "  for i in range(len(df)):\n",
        "    m += (df.iloc[i].y - df.iloc[i].pred)**2\n",
        "\n",
        "  return m/len(df)\n",
        "\n",
        "mse  = mse1(df4)"
      ],
      "execution_count": null,
      "outputs": []
    },
    {
      "cell_type": "code",
      "metadata": {
        "colab": {
          "base_uri": "https://localhost:8080/"
        },
        "id": "Vp7VyXmi0ljU",
        "outputId": "b0235135-0b69-44fd-a06f-9f8edf7582b6"
      },
      "source": [
        "print(f'Mean square error : {mse}')"
      ],
      "execution_count": null,
      "outputs": [
        {
          "output_type": "stream",
          "text": [
            "Mean square error : 177.16569974554707\n"
          ],
          "name": "stdout"
        }
      ]
    },
    {
      "cell_type": "code",
      "metadata": {
        "colab": {
          "base_uri": "https://localhost:8080/"
        },
        "id": "RU-2yATd1gNj",
        "outputId": "22872598-fcf1-4598-f8ef-b6ef54f6c601"
      },
      "source": [
        "def r2(df):\n",
        "  ss_tot = 0\n",
        "  ss_res = 0\n",
        "  mean = np.mean(df['y'])\n",
        "  for i in range(len(df)):\n",
        "    ss_tot += (df.iloc[i].y - mean)**2\n",
        "    ss_res += (df.iloc[i].y - df.iloc[i].pred)**2\n",
        "\n",
        "    # ss_tot += ss_tot\n",
        "    # ss_res += ss_res\n",
        "  \n",
        "  r2 = (ss_tot - ss_res) / ss_tot\n",
        "  return r2\n",
        "\n",
        "r2_score = r2(df4)\n",
        "print(f'R2 score : {r2_score}')"
      ],
      "execution_count": null,
      "outputs": [
        {
          "output_type": "stream",
          "text": [
            "R2 score : 0.9563582786990964\n"
          ],
          "name": "stdout"
        }
      ]
    },
    {
      "cell_type": "code",
      "metadata": {
        "colab": {
          "base_uri": "https://localhost:8080/"
        },
        "id": "vLehvO7b1iRA",
        "outputId": "f075fb9b-fd48-4e81-e31f-32962f71751f"
      },
      "source": [
        "def mod_mape(df):\n",
        "  dr = df['y'].sum()   #sum of actual y == 1/n * avg of y\n",
        "  nr = 0\n",
        "  for i in range(len(df)):\n",
        "     nr += abs(df.iloc[i].pred - df.iloc[i].y )   #absolute error \n",
        "\n",
        "\n",
        "  m_mape = nr/dr\n",
        "  return m_mape#/len(df['y'])\n",
        "\n",
        "modified_mape = mod_mape(df4)\n",
        "print(f'Modified Mean absolute percentage error : {modified_mape}')"
      ],
      "execution_count": 5,
      "outputs": [
        {
          "output_type": "stream",
          "name": "stdout",
          "text": [
            "Modified Mean absolute percentage error : 0.1291202994009687\n"
          ]
        }
      ]
    },
    {
      "cell_type": "code",
      "metadata": {
        "id": "7me6naPkvMWE"
      },
      "source": [
        ""
      ],
      "execution_count": null,
      "outputs": []
    }
  ]
}